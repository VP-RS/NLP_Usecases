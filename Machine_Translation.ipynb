{
  "nbformat": 4,
  "nbformat_minor": 0,
  "metadata": {
    "colab": {
      "provenance": []
    },
    "kernelspec": {
      "name": "python3",
      "display_name": "Python 3"
    },
    "language_info": {
      "name": "python"
    },
    "widgets": {
      "application/vnd.jupyter.widget-state+json": {
        "64fa5758070b46c6b5c4c8dbe86c22bc": {
          "model_module": "@jupyter-widgets/controls",
          "model_name": "HBoxModel",
          "model_module_version": "1.5.0",
          "state": {
            "_dom_classes": [],
            "_model_module": "@jupyter-widgets/controls",
            "_model_module_version": "1.5.0",
            "_model_name": "HBoxModel",
            "_view_count": null,
            "_view_module": "@jupyter-widgets/controls",
            "_view_module_version": "1.5.0",
            "_view_name": "HBoxView",
            "box_style": "",
            "children": [
              "IPY_MODEL_377aab5a9d9149b283b5df30acf670ae",
              "IPY_MODEL_295b69e6cbe740dba9f8213fbacb4edc",
              "IPY_MODEL_de053845ad1c45a49ab86f24b89d9ab5"
            ],
            "layout": "IPY_MODEL_bc670ad3fa184739be5d52e6167c880a"
          }
        },
        "377aab5a9d9149b283b5df30acf670ae": {
          "model_module": "@jupyter-widgets/controls",
          "model_name": "HTMLModel",
          "model_module_version": "1.5.0",
          "state": {
            "_dom_classes": [],
            "_model_module": "@jupyter-widgets/controls",
            "_model_module_version": "1.5.0",
            "_model_name": "HTMLModel",
            "_view_count": null,
            "_view_module": "@jupyter-widgets/controls",
            "_view_module_version": "1.5.0",
            "_view_name": "HTMLView",
            "description": "",
            "description_tooltip": null,
            "layout": "IPY_MODEL_8a61f17582034578b79128994a4ec35f",
            "placeholder": "​",
            "style": "IPY_MODEL_a817f55891b545b2949d16f4d38d2a37",
            "value": "tokenizer_config.json: 100%"
          }
        },
        "295b69e6cbe740dba9f8213fbacb4edc": {
          "model_module": "@jupyter-widgets/controls",
          "model_name": "FloatProgressModel",
          "model_module_version": "1.5.0",
          "state": {
            "_dom_classes": [],
            "_model_module": "@jupyter-widgets/controls",
            "_model_module_version": "1.5.0",
            "_model_name": "FloatProgressModel",
            "_view_count": null,
            "_view_module": "@jupyter-widgets/controls",
            "_view_module_version": "1.5.0",
            "_view_name": "ProgressView",
            "bar_style": "success",
            "description": "",
            "description_tooltip": null,
            "layout": "IPY_MODEL_2013c9337b47439fa758bfac673defa6",
            "max": 42,
            "min": 0,
            "orientation": "horizontal",
            "style": "IPY_MODEL_7f6254b128a34336aca31e8efe496edf",
            "value": 42
          }
        },
        "de053845ad1c45a49ab86f24b89d9ab5": {
          "model_module": "@jupyter-widgets/controls",
          "model_name": "HTMLModel",
          "model_module_version": "1.5.0",
          "state": {
            "_dom_classes": [],
            "_model_module": "@jupyter-widgets/controls",
            "_model_module_version": "1.5.0",
            "_model_name": "HTMLModel",
            "_view_count": null,
            "_view_module": "@jupyter-widgets/controls",
            "_view_module_version": "1.5.0",
            "_view_name": "HTMLView",
            "description": "",
            "description_tooltip": null,
            "layout": "IPY_MODEL_53af40a456404ddf96e56a0a0513846e",
            "placeholder": "​",
            "style": "IPY_MODEL_e81f21030f2241e69cd8940533eb856c",
            "value": " 42.0/42.0 [00:00&lt;00:00, 470B/s]"
          }
        },
        "bc670ad3fa184739be5d52e6167c880a": {
          "model_module": "@jupyter-widgets/base",
          "model_name": "LayoutModel",
          "model_module_version": "1.2.0",
          "state": {
            "_model_module": "@jupyter-widgets/base",
            "_model_module_version": "1.2.0",
            "_model_name": "LayoutModel",
            "_view_count": null,
            "_view_module": "@jupyter-widgets/base",
            "_view_module_version": "1.2.0",
            "_view_name": "LayoutView",
            "align_content": null,
            "align_items": null,
            "align_self": null,
            "border": null,
            "bottom": null,
            "display": null,
            "flex": null,
            "flex_flow": null,
            "grid_area": null,
            "grid_auto_columns": null,
            "grid_auto_flow": null,
            "grid_auto_rows": null,
            "grid_column": null,
            "grid_gap": null,
            "grid_row": null,
            "grid_template_areas": null,
            "grid_template_columns": null,
            "grid_template_rows": null,
            "height": null,
            "justify_content": null,
            "justify_items": null,
            "left": null,
            "margin": null,
            "max_height": null,
            "max_width": null,
            "min_height": null,
            "min_width": null,
            "object_fit": null,
            "object_position": null,
            "order": null,
            "overflow": null,
            "overflow_x": null,
            "overflow_y": null,
            "padding": null,
            "right": null,
            "top": null,
            "visibility": null,
            "width": null
          }
        },
        "8a61f17582034578b79128994a4ec35f": {
          "model_module": "@jupyter-widgets/base",
          "model_name": "LayoutModel",
          "model_module_version": "1.2.0",
          "state": {
            "_model_module": "@jupyter-widgets/base",
            "_model_module_version": "1.2.0",
            "_model_name": "LayoutModel",
            "_view_count": null,
            "_view_module": "@jupyter-widgets/base",
            "_view_module_version": "1.2.0",
            "_view_name": "LayoutView",
            "align_content": null,
            "align_items": null,
            "align_self": null,
            "border": null,
            "bottom": null,
            "display": null,
            "flex": null,
            "flex_flow": null,
            "grid_area": null,
            "grid_auto_columns": null,
            "grid_auto_flow": null,
            "grid_auto_rows": null,
            "grid_column": null,
            "grid_gap": null,
            "grid_row": null,
            "grid_template_areas": null,
            "grid_template_columns": null,
            "grid_template_rows": null,
            "height": null,
            "justify_content": null,
            "justify_items": null,
            "left": null,
            "margin": null,
            "max_height": null,
            "max_width": null,
            "min_height": null,
            "min_width": null,
            "object_fit": null,
            "object_position": null,
            "order": null,
            "overflow": null,
            "overflow_x": null,
            "overflow_y": null,
            "padding": null,
            "right": null,
            "top": null,
            "visibility": null,
            "width": null
          }
        },
        "a817f55891b545b2949d16f4d38d2a37": {
          "model_module": "@jupyter-widgets/controls",
          "model_name": "DescriptionStyleModel",
          "model_module_version": "1.5.0",
          "state": {
            "_model_module": "@jupyter-widgets/controls",
            "_model_module_version": "1.5.0",
            "_model_name": "DescriptionStyleModel",
            "_view_count": null,
            "_view_module": "@jupyter-widgets/base",
            "_view_module_version": "1.2.0",
            "_view_name": "StyleView",
            "description_width": ""
          }
        },
        "2013c9337b47439fa758bfac673defa6": {
          "model_module": "@jupyter-widgets/base",
          "model_name": "LayoutModel",
          "model_module_version": "1.2.0",
          "state": {
            "_model_module": "@jupyter-widgets/base",
            "_model_module_version": "1.2.0",
            "_model_name": "LayoutModel",
            "_view_count": null,
            "_view_module": "@jupyter-widgets/base",
            "_view_module_version": "1.2.0",
            "_view_name": "LayoutView",
            "align_content": null,
            "align_items": null,
            "align_self": null,
            "border": null,
            "bottom": null,
            "display": null,
            "flex": null,
            "flex_flow": null,
            "grid_area": null,
            "grid_auto_columns": null,
            "grid_auto_flow": null,
            "grid_auto_rows": null,
            "grid_column": null,
            "grid_gap": null,
            "grid_row": null,
            "grid_template_areas": null,
            "grid_template_columns": null,
            "grid_template_rows": null,
            "height": null,
            "justify_content": null,
            "justify_items": null,
            "left": null,
            "margin": null,
            "max_height": null,
            "max_width": null,
            "min_height": null,
            "min_width": null,
            "object_fit": null,
            "object_position": null,
            "order": null,
            "overflow": null,
            "overflow_x": null,
            "overflow_y": null,
            "padding": null,
            "right": null,
            "top": null,
            "visibility": null,
            "width": null
          }
        },
        "7f6254b128a34336aca31e8efe496edf": {
          "model_module": "@jupyter-widgets/controls",
          "model_name": "ProgressStyleModel",
          "model_module_version": "1.5.0",
          "state": {
            "_model_module": "@jupyter-widgets/controls",
            "_model_module_version": "1.5.0",
            "_model_name": "ProgressStyleModel",
            "_view_count": null,
            "_view_module": "@jupyter-widgets/base",
            "_view_module_version": "1.2.0",
            "_view_name": "StyleView",
            "bar_color": null,
            "description_width": ""
          }
        },
        "53af40a456404ddf96e56a0a0513846e": {
          "model_module": "@jupyter-widgets/base",
          "model_name": "LayoutModel",
          "model_module_version": "1.2.0",
          "state": {
            "_model_module": "@jupyter-widgets/base",
            "_model_module_version": "1.2.0",
            "_model_name": "LayoutModel",
            "_view_count": null,
            "_view_module": "@jupyter-widgets/base",
            "_view_module_version": "1.2.0",
            "_view_name": "LayoutView",
            "align_content": null,
            "align_items": null,
            "align_self": null,
            "border": null,
            "bottom": null,
            "display": null,
            "flex": null,
            "flex_flow": null,
            "grid_area": null,
            "grid_auto_columns": null,
            "grid_auto_flow": null,
            "grid_auto_rows": null,
            "grid_column": null,
            "grid_gap": null,
            "grid_row": null,
            "grid_template_areas": null,
            "grid_template_columns": null,
            "grid_template_rows": null,
            "height": null,
            "justify_content": null,
            "justify_items": null,
            "left": null,
            "margin": null,
            "max_height": null,
            "max_width": null,
            "min_height": null,
            "min_width": null,
            "object_fit": null,
            "object_position": null,
            "order": null,
            "overflow": null,
            "overflow_x": null,
            "overflow_y": null,
            "padding": null,
            "right": null,
            "top": null,
            "visibility": null,
            "width": null
          }
        },
        "e81f21030f2241e69cd8940533eb856c": {
          "model_module": "@jupyter-widgets/controls",
          "model_name": "DescriptionStyleModel",
          "model_module_version": "1.5.0",
          "state": {
            "_model_module": "@jupyter-widgets/controls",
            "_model_module_version": "1.5.0",
            "_model_name": "DescriptionStyleModel",
            "_view_count": null,
            "_view_module": "@jupyter-widgets/base",
            "_view_module_version": "1.2.0",
            "_view_name": "StyleView",
            "description_width": ""
          }
        },
        "912d8db7b70a4255be4f9046e5b932f8": {
          "model_module": "@jupyter-widgets/controls",
          "model_name": "HBoxModel",
          "model_module_version": "1.5.0",
          "state": {
            "_dom_classes": [],
            "_model_module": "@jupyter-widgets/controls",
            "_model_module_version": "1.5.0",
            "_model_name": "HBoxModel",
            "_view_count": null,
            "_view_module": "@jupyter-widgets/controls",
            "_view_module_version": "1.5.0",
            "_view_name": "HBoxView",
            "box_style": "",
            "children": [
              "IPY_MODEL_0ee4afa91c894768b7544d521cd5bae4",
              "IPY_MODEL_5440a7d15de0466c8661c3957db6643a",
              "IPY_MODEL_ef186f0df4124a98b7ed557ca0e5f5e4"
            ],
            "layout": "IPY_MODEL_912c8db12db64cce81963f15f6cf8afc"
          }
        },
        "0ee4afa91c894768b7544d521cd5bae4": {
          "model_module": "@jupyter-widgets/controls",
          "model_name": "HTMLModel",
          "model_module_version": "1.5.0",
          "state": {
            "_dom_classes": [],
            "_model_module": "@jupyter-widgets/controls",
            "_model_module_version": "1.5.0",
            "_model_name": "HTMLModel",
            "_view_count": null,
            "_view_module": "@jupyter-widgets/controls",
            "_view_module_version": "1.5.0",
            "_view_name": "HTMLView",
            "description": "",
            "description_tooltip": null,
            "layout": "IPY_MODEL_dc7f6a4eb6ca4399a5e9c6e366a2be32",
            "placeholder": "​",
            "style": "IPY_MODEL_04ca4fdab2fd400ab5bd834358ad5867",
            "value": "config.json: 100%"
          }
        },
        "5440a7d15de0466c8661c3957db6643a": {
          "model_module": "@jupyter-widgets/controls",
          "model_name": "FloatProgressModel",
          "model_module_version": "1.5.0",
          "state": {
            "_dom_classes": [],
            "_model_module": "@jupyter-widgets/controls",
            "_model_module_version": "1.5.0",
            "_model_name": "FloatProgressModel",
            "_view_count": null,
            "_view_module": "@jupyter-widgets/controls",
            "_view_module_version": "1.5.0",
            "_view_name": "ProgressView",
            "bar_style": "success",
            "description": "",
            "description_tooltip": null,
            "layout": "IPY_MODEL_9b7bf76eede24e14b76b5d3517cbadde",
            "max": 1416,
            "min": 0,
            "orientation": "horizontal",
            "style": "IPY_MODEL_bd05a51c8b9d4d5dbdb2b36a978d55f5",
            "value": 1416
          }
        },
        "ef186f0df4124a98b7ed557ca0e5f5e4": {
          "model_module": "@jupyter-widgets/controls",
          "model_name": "HTMLModel",
          "model_module_version": "1.5.0",
          "state": {
            "_dom_classes": [],
            "_model_module": "@jupyter-widgets/controls",
            "_model_module_version": "1.5.0",
            "_model_name": "HTMLModel",
            "_view_count": null,
            "_view_module": "@jupyter-widgets/controls",
            "_view_module_version": "1.5.0",
            "_view_name": "HTMLView",
            "description": "",
            "description_tooltip": null,
            "layout": "IPY_MODEL_f8c9ff5295de4fd0b6c43f9513ca4bf9",
            "placeholder": "​",
            "style": "IPY_MODEL_37214ebc99484f4b8fff5c6ffc579cda",
            "value": " 1.42k/1.42k [00:00&lt;00:00, 15.5kB/s]"
          }
        },
        "912c8db12db64cce81963f15f6cf8afc": {
          "model_module": "@jupyter-widgets/base",
          "model_name": "LayoutModel",
          "model_module_version": "1.2.0",
          "state": {
            "_model_module": "@jupyter-widgets/base",
            "_model_module_version": "1.2.0",
            "_model_name": "LayoutModel",
            "_view_count": null,
            "_view_module": "@jupyter-widgets/base",
            "_view_module_version": "1.2.0",
            "_view_name": "LayoutView",
            "align_content": null,
            "align_items": null,
            "align_self": null,
            "border": null,
            "bottom": null,
            "display": null,
            "flex": null,
            "flex_flow": null,
            "grid_area": null,
            "grid_auto_columns": null,
            "grid_auto_flow": null,
            "grid_auto_rows": null,
            "grid_column": null,
            "grid_gap": null,
            "grid_row": null,
            "grid_template_areas": null,
            "grid_template_columns": null,
            "grid_template_rows": null,
            "height": null,
            "justify_content": null,
            "justify_items": null,
            "left": null,
            "margin": null,
            "max_height": null,
            "max_width": null,
            "min_height": null,
            "min_width": null,
            "object_fit": null,
            "object_position": null,
            "order": null,
            "overflow": null,
            "overflow_x": null,
            "overflow_y": null,
            "padding": null,
            "right": null,
            "top": null,
            "visibility": null,
            "width": null
          }
        },
        "dc7f6a4eb6ca4399a5e9c6e366a2be32": {
          "model_module": "@jupyter-widgets/base",
          "model_name": "LayoutModel",
          "model_module_version": "1.2.0",
          "state": {
            "_model_module": "@jupyter-widgets/base",
            "_model_module_version": "1.2.0",
            "_model_name": "LayoutModel",
            "_view_count": null,
            "_view_module": "@jupyter-widgets/base",
            "_view_module_version": "1.2.0",
            "_view_name": "LayoutView",
            "align_content": null,
            "align_items": null,
            "align_self": null,
            "border": null,
            "bottom": null,
            "display": null,
            "flex": null,
            "flex_flow": null,
            "grid_area": null,
            "grid_auto_columns": null,
            "grid_auto_flow": null,
            "grid_auto_rows": null,
            "grid_column": null,
            "grid_gap": null,
            "grid_row": null,
            "grid_template_areas": null,
            "grid_template_columns": null,
            "grid_template_rows": null,
            "height": null,
            "justify_content": null,
            "justify_items": null,
            "left": null,
            "margin": null,
            "max_height": null,
            "max_width": null,
            "min_height": null,
            "min_width": null,
            "object_fit": null,
            "object_position": null,
            "order": null,
            "overflow": null,
            "overflow_x": null,
            "overflow_y": null,
            "padding": null,
            "right": null,
            "top": null,
            "visibility": null,
            "width": null
          }
        },
        "04ca4fdab2fd400ab5bd834358ad5867": {
          "model_module": "@jupyter-widgets/controls",
          "model_name": "DescriptionStyleModel",
          "model_module_version": "1.5.0",
          "state": {
            "_model_module": "@jupyter-widgets/controls",
            "_model_module_version": "1.5.0",
            "_model_name": "DescriptionStyleModel",
            "_view_count": null,
            "_view_module": "@jupyter-widgets/base",
            "_view_module_version": "1.2.0",
            "_view_name": "StyleView",
            "description_width": ""
          }
        },
        "9b7bf76eede24e14b76b5d3517cbadde": {
          "model_module": "@jupyter-widgets/base",
          "model_name": "LayoutModel",
          "model_module_version": "1.2.0",
          "state": {
            "_model_module": "@jupyter-widgets/base",
            "_model_module_version": "1.2.0",
            "_model_name": "LayoutModel",
            "_view_count": null,
            "_view_module": "@jupyter-widgets/base",
            "_view_module_version": "1.2.0",
            "_view_name": "LayoutView",
            "align_content": null,
            "align_items": null,
            "align_self": null,
            "border": null,
            "bottom": null,
            "display": null,
            "flex": null,
            "flex_flow": null,
            "grid_area": null,
            "grid_auto_columns": null,
            "grid_auto_flow": null,
            "grid_auto_rows": null,
            "grid_column": null,
            "grid_gap": null,
            "grid_row": null,
            "grid_template_areas": null,
            "grid_template_columns": null,
            "grid_template_rows": null,
            "height": null,
            "justify_content": null,
            "justify_items": null,
            "left": null,
            "margin": null,
            "max_height": null,
            "max_width": null,
            "min_height": null,
            "min_width": null,
            "object_fit": null,
            "object_position": null,
            "order": null,
            "overflow": null,
            "overflow_x": null,
            "overflow_y": null,
            "padding": null,
            "right": null,
            "top": null,
            "visibility": null,
            "width": null
          }
        },
        "bd05a51c8b9d4d5dbdb2b36a978d55f5": {
          "model_module": "@jupyter-widgets/controls",
          "model_name": "ProgressStyleModel",
          "model_module_version": "1.5.0",
          "state": {
            "_model_module": "@jupyter-widgets/controls",
            "_model_module_version": "1.5.0",
            "_model_name": "ProgressStyleModel",
            "_view_count": null,
            "_view_module": "@jupyter-widgets/base",
            "_view_module_version": "1.2.0",
            "_view_name": "StyleView",
            "bar_color": null,
            "description_width": ""
          }
        },
        "f8c9ff5295de4fd0b6c43f9513ca4bf9": {
          "model_module": "@jupyter-widgets/base",
          "model_name": "LayoutModel",
          "model_module_version": "1.2.0",
          "state": {
            "_model_module": "@jupyter-widgets/base",
            "_model_module_version": "1.2.0",
            "_model_name": "LayoutModel",
            "_view_count": null,
            "_view_module": "@jupyter-widgets/base",
            "_view_module_version": "1.2.0",
            "_view_name": "LayoutView",
            "align_content": null,
            "align_items": null,
            "align_self": null,
            "border": null,
            "bottom": null,
            "display": null,
            "flex": null,
            "flex_flow": null,
            "grid_area": null,
            "grid_auto_columns": null,
            "grid_auto_flow": null,
            "grid_auto_rows": null,
            "grid_column": null,
            "grid_gap": null,
            "grid_row": null,
            "grid_template_areas": null,
            "grid_template_columns": null,
            "grid_template_rows": null,
            "height": null,
            "justify_content": null,
            "justify_items": null,
            "left": null,
            "margin": null,
            "max_height": null,
            "max_width": null,
            "min_height": null,
            "min_width": null,
            "object_fit": null,
            "object_position": null,
            "order": null,
            "overflow": null,
            "overflow_x": null,
            "overflow_y": null,
            "padding": null,
            "right": null,
            "top": null,
            "visibility": null,
            "width": null
          }
        },
        "37214ebc99484f4b8fff5c6ffc579cda": {
          "model_module": "@jupyter-widgets/controls",
          "model_name": "DescriptionStyleModel",
          "model_module_version": "1.5.0",
          "state": {
            "_model_module": "@jupyter-widgets/controls",
            "_model_module_version": "1.5.0",
            "_model_name": "DescriptionStyleModel",
            "_view_count": null,
            "_view_module": "@jupyter-widgets/base",
            "_view_module_version": "1.2.0",
            "_view_name": "StyleView",
            "description_width": ""
          }
        },
        "daeceffb07f94cecade3ab770620d516": {
          "model_module": "@jupyter-widgets/controls",
          "model_name": "HBoxModel",
          "model_module_version": "1.5.0",
          "state": {
            "_dom_classes": [],
            "_model_module": "@jupyter-widgets/controls",
            "_model_module_version": "1.5.0",
            "_model_name": "HBoxModel",
            "_view_count": null,
            "_view_module": "@jupyter-widgets/controls",
            "_view_module_version": "1.5.0",
            "_view_name": "HBoxView",
            "box_style": "",
            "children": [
              "IPY_MODEL_78edf713be24492aa957652a4fd29a7b",
              "IPY_MODEL_74a6247d05924742b9a402115c94af07",
              "IPY_MODEL_880dec6b06df44c6bdf4ade9b274cbeb"
            ],
            "layout": "IPY_MODEL_6c5c78e83f754502b15eeca63fbcb2af"
          }
        },
        "78edf713be24492aa957652a4fd29a7b": {
          "model_module": "@jupyter-widgets/controls",
          "model_name": "HTMLModel",
          "model_module_version": "1.5.0",
          "state": {
            "_dom_classes": [],
            "_model_module": "@jupyter-widgets/controls",
            "_model_module_version": "1.5.0",
            "_model_name": "HTMLModel",
            "_view_count": null,
            "_view_module": "@jupyter-widgets/controls",
            "_view_module_version": "1.5.0",
            "_view_name": "HTMLView",
            "description": "",
            "description_tooltip": null,
            "layout": "IPY_MODEL_091dc47f83a24ba68dd5244f668459e7",
            "placeholder": "​",
            "style": "IPY_MODEL_a83d02d856784e02af7814646bd14091",
            "value": "source.spm: 100%"
          }
        },
        "74a6247d05924742b9a402115c94af07": {
          "model_module": "@jupyter-widgets/controls",
          "model_name": "FloatProgressModel",
          "model_module_version": "1.5.0",
          "state": {
            "_dom_classes": [],
            "_model_module": "@jupyter-widgets/controls",
            "_model_module_version": "1.5.0",
            "_model_name": "FloatProgressModel",
            "_view_count": null,
            "_view_module": "@jupyter-widgets/controls",
            "_view_module_version": "1.5.0",
            "_view_name": "ProgressView",
            "bar_style": "success",
            "description": "",
            "description_tooltip": null,
            "layout": "IPY_MODEL_692c94e9a306457da1b271d8a32cd11d",
            "max": 778395,
            "min": 0,
            "orientation": "horizontal",
            "style": "IPY_MODEL_07b955d7c7614c59a6ec9728b06c7681",
            "value": 778395
          }
        },
        "880dec6b06df44c6bdf4ade9b274cbeb": {
          "model_module": "@jupyter-widgets/controls",
          "model_name": "HTMLModel",
          "model_module_version": "1.5.0",
          "state": {
            "_dom_classes": [],
            "_model_module": "@jupyter-widgets/controls",
            "_model_module_version": "1.5.0",
            "_model_name": "HTMLModel",
            "_view_count": null,
            "_view_module": "@jupyter-widgets/controls",
            "_view_module_version": "1.5.0",
            "_view_name": "HTMLView",
            "description": "",
            "description_tooltip": null,
            "layout": "IPY_MODEL_ba717b5705d5498698ae48d415cb81f0",
            "placeholder": "​",
            "style": "IPY_MODEL_2cd62c50c5384dec9d28bc3d408ba596",
            "value": " 778k/778k [00:00&lt;00:00, 2.17MB/s]"
          }
        },
        "6c5c78e83f754502b15eeca63fbcb2af": {
          "model_module": "@jupyter-widgets/base",
          "model_name": "LayoutModel",
          "model_module_version": "1.2.0",
          "state": {
            "_model_module": "@jupyter-widgets/base",
            "_model_module_version": "1.2.0",
            "_model_name": "LayoutModel",
            "_view_count": null,
            "_view_module": "@jupyter-widgets/base",
            "_view_module_version": "1.2.0",
            "_view_name": "LayoutView",
            "align_content": null,
            "align_items": null,
            "align_self": null,
            "border": null,
            "bottom": null,
            "display": null,
            "flex": null,
            "flex_flow": null,
            "grid_area": null,
            "grid_auto_columns": null,
            "grid_auto_flow": null,
            "grid_auto_rows": null,
            "grid_column": null,
            "grid_gap": null,
            "grid_row": null,
            "grid_template_areas": null,
            "grid_template_columns": null,
            "grid_template_rows": null,
            "height": null,
            "justify_content": null,
            "justify_items": null,
            "left": null,
            "margin": null,
            "max_height": null,
            "max_width": null,
            "min_height": null,
            "min_width": null,
            "object_fit": null,
            "object_position": null,
            "order": null,
            "overflow": null,
            "overflow_x": null,
            "overflow_y": null,
            "padding": null,
            "right": null,
            "top": null,
            "visibility": null,
            "width": null
          }
        },
        "091dc47f83a24ba68dd5244f668459e7": {
          "model_module": "@jupyter-widgets/base",
          "model_name": "LayoutModel",
          "model_module_version": "1.2.0",
          "state": {
            "_model_module": "@jupyter-widgets/base",
            "_model_module_version": "1.2.0",
            "_model_name": "LayoutModel",
            "_view_count": null,
            "_view_module": "@jupyter-widgets/base",
            "_view_module_version": "1.2.0",
            "_view_name": "LayoutView",
            "align_content": null,
            "align_items": null,
            "align_self": null,
            "border": null,
            "bottom": null,
            "display": null,
            "flex": null,
            "flex_flow": null,
            "grid_area": null,
            "grid_auto_columns": null,
            "grid_auto_flow": null,
            "grid_auto_rows": null,
            "grid_column": null,
            "grid_gap": null,
            "grid_row": null,
            "grid_template_areas": null,
            "grid_template_columns": null,
            "grid_template_rows": null,
            "height": null,
            "justify_content": null,
            "justify_items": null,
            "left": null,
            "margin": null,
            "max_height": null,
            "max_width": null,
            "min_height": null,
            "min_width": null,
            "object_fit": null,
            "object_position": null,
            "order": null,
            "overflow": null,
            "overflow_x": null,
            "overflow_y": null,
            "padding": null,
            "right": null,
            "top": null,
            "visibility": null,
            "width": null
          }
        },
        "a83d02d856784e02af7814646bd14091": {
          "model_module": "@jupyter-widgets/controls",
          "model_name": "DescriptionStyleModel",
          "model_module_version": "1.5.0",
          "state": {
            "_model_module": "@jupyter-widgets/controls",
            "_model_module_version": "1.5.0",
            "_model_name": "DescriptionStyleModel",
            "_view_count": null,
            "_view_module": "@jupyter-widgets/base",
            "_view_module_version": "1.2.0",
            "_view_name": "StyleView",
            "description_width": ""
          }
        },
        "692c94e9a306457da1b271d8a32cd11d": {
          "model_module": "@jupyter-widgets/base",
          "model_name": "LayoutModel",
          "model_module_version": "1.2.0",
          "state": {
            "_model_module": "@jupyter-widgets/base",
            "_model_module_version": "1.2.0",
            "_model_name": "LayoutModel",
            "_view_count": null,
            "_view_module": "@jupyter-widgets/base",
            "_view_module_version": "1.2.0",
            "_view_name": "LayoutView",
            "align_content": null,
            "align_items": null,
            "align_self": null,
            "border": null,
            "bottom": null,
            "display": null,
            "flex": null,
            "flex_flow": null,
            "grid_area": null,
            "grid_auto_columns": null,
            "grid_auto_flow": null,
            "grid_auto_rows": null,
            "grid_column": null,
            "grid_gap": null,
            "grid_row": null,
            "grid_template_areas": null,
            "grid_template_columns": null,
            "grid_template_rows": null,
            "height": null,
            "justify_content": null,
            "justify_items": null,
            "left": null,
            "margin": null,
            "max_height": null,
            "max_width": null,
            "min_height": null,
            "min_width": null,
            "object_fit": null,
            "object_position": null,
            "order": null,
            "overflow": null,
            "overflow_x": null,
            "overflow_y": null,
            "padding": null,
            "right": null,
            "top": null,
            "visibility": null,
            "width": null
          }
        },
        "07b955d7c7614c59a6ec9728b06c7681": {
          "model_module": "@jupyter-widgets/controls",
          "model_name": "ProgressStyleModel",
          "model_module_version": "1.5.0",
          "state": {
            "_model_module": "@jupyter-widgets/controls",
            "_model_module_version": "1.5.0",
            "_model_name": "ProgressStyleModel",
            "_view_count": null,
            "_view_module": "@jupyter-widgets/base",
            "_view_module_version": "1.2.0",
            "_view_name": "StyleView",
            "bar_color": null,
            "description_width": ""
          }
        },
        "ba717b5705d5498698ae48d415cb81f0": {
          "model_module": "@jupyter-widgets/base",
          "model_name": "LayoutModel",
          "model_module_version": "1.2.0",
          "state": {
            "_model_module": "@jupyter-widgets/base",
            "_model_module_version": "1.2.0",
            "_model_name": "LayoutModel",
            "_view_count": null,
            "_view_module": "@jupyter-widgets/base",
            "_view_module_version": "1.2.0",
            "_view_name": "LayoutView",
            "align_content": null,
            "align_items": null,
            "align_self": null,
            "border": null,
            "bottom": null,
            "display": null,
            "flex": null,
            "flex_flow": null,
            "grid_area": null,
            "grid_auto_columns": null,
            "grid_auto_flow": null,
            "grid_auto_rows": null,
            "grid_column": null,
            "grid_gap": null,
            "grid_row": null,
            "grid_template_areas": null,
            "grid_template_columns": null,
            "grid_template_rows": null,
            "height": null,
            "justify_content": null,
            "justify_items": null,
            "left": null,
            "margin": null,
            "max_height": null,
            "max_width": null,
            "min_height": null,
            "min_width": null,
            "object_fit": null,
            "object_position": null,
            "order": null,
            "overflow": null,
            "overflow_x": null,
            "overflow_y": null,
            "padding": null,
            "right": null,
            "top": null,
            "visibility": null,
            "width": null
          }
        },
        "2cd62c50c5384dec9d28bc3d408ba596": {
          "model_module": "@jupyter-widgets/controls",
          "model_name": "DescriptionStyleModel",
          "model_module_version": "1.5.0",
          "state": {
            "_model_module": "@jupyter-widgets/controls",
            "_model_module_version": "1.5.0",
            "_model_name": "DescriptionStyleModel",
            "_view_count": null,
            "_view_module": "@jupyter-widgets/base",
            "_view_module_version": "1.2.0",
            "_view_name": "StyleView",
            "description_width": ""
          }
        },
        "e76bbaf1a3934a9f9f642836868a8fb8": {
          "model_module": "@jupyter-widgets/controls",
          "model_name": "HBoxModel",
          "model_module_version": "1.5.0",
          "state": {
            "_dom_classes": [],
            "_model_module": "@jupyter-widgets/controls",
            "_model_module_version": "1.5.0",
            "_model_name": "HBoxModel",
            "_view_count": null,
            "_view_module": "@jupyter-widgets/controls",
            "_view_module_version": "1.5.0",
            "_view_name": "HBoxView",
            "box_style": "",
            "children": [
              "IPY_MODEL_b19db03255c842f4958662c0e8229924",
              "IPY_MODEL_e090a5b308d04d828f63511fe32219f3",
              "IPY_MODEL_dd912736cd1643e4a645b3334a0687d4"
            ],
            "layout": "IPY_MODEL_a109a7660b2547ceaae0673bad060588"
          }
        },
        "b19db03255c842f4958662c0e8229924": {
          "model_module": "@jupyter-widgets/controls",
          "model_name": "HTMLModel",
          "model_module_version": "1.5.0",
          "state": {
            "_dom_classes": [],
            "_model_module": "@jupyter-widgets/controls",
            "_model_module_version": "1.5.0",
            "_model_name": "HTMLModel",
            "_view_count": null,
            "_view_module": "@jupyter-widgets/controls",
            "_view_module_version": "1.5.0",
            "_view_name": "HTMLView",
            "description": "",
            "description_tooltip": null,
            "layout": "IPY_MODEL_d6ed4f72c51441cc86b185358005b04c",
            "placeholder": "​",
            "style": "IPY_MODEL_2fead70e9d374577ad716ec4d4125945",
            "value": "target.spm: 100%"
          }
        },
        "e090a5b308d04d828f63511fe32219f3": {
          "model_module": "@jupyter-widgets/controls",
          "model_name": "FloatProgressModel",
          "model_module_version": "1.5.0",
          "state": {
            "_dom_classes": [],
            "_model_module": "@jupyter-widgets/controls",
            "_model_module_version": "1.5.0",
            "_model_name": "FloatProgressModel",
            "_view_count": null,
            "_view_module": "@jupyter-widgets/controls",
            "_view_module_version": "1.5.0",
            "_view_name": "ProgressView",
            "bar_style": "success",
            "description": "",
            "description_tooltip": null,
            "layout": "IPY_MODEL_c75c9013807e4c69b2975cab8f5a357e",
            "max": 802397,
            "min": 0,
            "orientation": "horizontal",
            "style": "IPY_MODEL_2152d99cb30b46c8bf1109258ac27875",
            "value": 802397
          }
        },
        "dd912736cd1643e4a645b3334a0687d4": {
          "model_module": "@jupyter-widgets/controls",
          "model_name": "HTMLModel",
          "model_module_version": "1.5.0",
          "state": {
            "_dom_classes": [],
            "_model_module": "@jupyter-widgets/controls",
            "_model_module_version": "1.5.0",
            "_model_name": "HTMLModel",
            "_view_count": null,
            "_view_module": "@jupyter-widgets/controls",
            "_view_module_version": "1.5.0",
            "_view_name": "HTMLView",
            "description": "",
            "description_tooltip": null,
            "layout": "IPY_MODEL_9c54a9387ac44723b99a71e45004fbbe",
            "placeholder": "​",
            "style": "IPY_MODEL_9e77ab6d47074aa0a3f4beaacf61812f",
            "value": " 802k/802k [00:00&lt;00:00, 5.04MB/s]"
          }
        },
        "a109a7660b2547ceaae0673bad060588": {
          "model_module": "@jupyter-widgets/base",
          "model_name": "LayoutModel",
          "model_module_version": "1.2.0",
          "state": {
            "_model_module": "@jupyter-widgets/base",
            "_model_module_version": "1.2.0",
            "_model_name": "LayoutModel",
            "_view_count": null,
            "_view_module": "@jupyter-widgets/base",
            "_view_module_version": "1.2.0",
            "_view_name": "LayoutView",
            "align_content": null,
            "align_items": null,
            "align_self": null,
            "border": null,
            "bottom": null,
            "display": null,
            "flex": null,
            "flex_flow": null,
            "grid_area": null,
            "grid_auto_columns": null,
            "grid_auto_flow": null,
            "grid_auto_rows": null,
            "grid_column": null,
            "grid_gap": null,
            "grid_row": null,
            "grid_template_areas": null,
            "grid_template_columns": null,
            "grid_template_rows": null,
            "height": null,
            "justify_content": null,
            "justify_items": null,
            "left": null,
            "margin": null,
            "max_height": null,
            "max_width": null,
            "min_height": null,
            "min_width": null,
            "object_fit": null,
            "object_position": null,
            "order": null,
            "overflow": null,
            "overflow_x": null,
            "overflow_y": null,
            "padding": null,
            "right": null,
            "top": null,
            "visibility": null,
            "width": null
          }
        },
        "d6ed4f72c51441cc86b185358005b04c": {
          "model_module": "@jupyter-widgets/base",
          "model_name": "LayoutModel",
          "model_module_version": "1.2.0",
          "state": {
            "_model_module": "@jupyter-widgets/base",
            "_model_module_version": "1.2.0",
            "_model_name": "LayoutModel",
            "_view_count": null,
            "_view_module": "@jupyter-widgets/base",
            "_view_module_version": "1.2.0",
            "_view_name": "LayoutView",
            "align_content": null,
            "align_items": null,
            "align_self": null,
            "border": null,
            "bottom": null,
            "display": null,
            "flex": null,
            "flex_flow": null,
            "grid_area": null,
            "grid_auto_columns": null,
            "grid_auto_flow": null,
            "grid_auto_rows": null,
            "grid_column": null,
            "grid_gap": null,
            "grid_row": null,
            "grid_template_areas": null,
            "grid_template_columns": null,
            "grid_template_rows": null,
            "height": null,
            "justify_content": null,
            "justify_items": null,
            "left": null,
            "margin": null,
            "max_height": null,
            "max_width": null,
            "min_height": null,
            "min_width": null,
            "object_fit": null,
            "object_position": null,
            "order": null,
            "overflow": null,
            "overflow_x": null,
            "overflow_y": null,
            "padding": null,
            "right": null,
            "top": null,
            "visibility": null,
            "width": null
          }
        },
        "2fead70e9d374577ad716ec4d4125945": {
          "model_module": "@jupyter-widgets/controls",
          "model_name": "DescriptionStyleModel",
          "model_module_version": "1.5.0",
          "state": {
            "_model_module": "@jupyter-widgets/controls",
            "_model_module_version": "1.5.0",
            "_model_name": "DescriptionStyleModel",
            "_view_count": null,
            "_view_module": "@jupyter-widgets/base",
            "_view_module_version": "1.2.0",
            "_view_name": "StyleView",
            "description_width": ""
          }
        },
        "c75c9013807e4c69b2975cab8f5a357e": {
          "model_module": "@jupyter-widgets/base",
          "model_name": "LayoutModel",
          "model_module_version": "1.2.0",
          "state": {
            "_model_module": "@jupyter-widgets/base",
            "_model_module_version": "1.2.0",
            "_model_name": "LayoutModel",
            "_view_count": null,
            "_view_module": "@jupyter-widgets/base",
            "_view_module_version": "1.2.0",
            "_view_name": "LayoutView",
            "align_content": null,
            "align_items": null,
            "align_self": null,
            "border": null,
            "bottom": null,
            "display": null,
            "flex": null,
            "flex_flow": null,
            "grid_area": null,
            "grid_auto_columns": null,
            "grid_auto_flow": null,
            "grid_auto_rows": null,
            "grid_column": null,
            "grid_gap": null,
            "grid_row": null,
            "grid_template_areas": null,
            "grid_template_columns": null,
            "grid_template_rows": null,
            "height": null,
            "justify_content": null,
            "justify_items": null,
            "left": null,
            "margin": null,
            "max_height": null,
            "max_width": null,
            "min_height": null,
            "min_width": null,
            "object_fit": null,
            "object_position": null,
            "order": null,
            "overflow": null,
            "overflow_x": null,
            "overflow_y": null,
            "padding": null,
            "right": null,
            "top": null,
            "visibility": null,
            "width": null
          }
        },
        "2152d99cb30b46c8bf1109258ac27875": {
          "model_module": "@jupyter-widgets/controls",
          "model_name": "ProgressStyleModel",
          "model_module_version": "1.5.0",
          "state": {
            "_model_module": "@jupyter-widgets/controls",
            "_model_module_version": "1.5.0",
            "_model_name": "ProgressStyleModel",
            "_view_count": null,
            "_view_module": "@jupyter-widgets/base",
            "_view_module_version": "1.2.0",
            "_view_name": "StyleView",
            "bar_color": null,
            "description_width": ""
          }
        },
        "9c54a9387ac44723b99a71e45004fbbe": {
          "model_module": "@jupyter-widgets/base",
          "model_name": "LayoutModel",
          "model_module_version": "1.2.0",
          "state": {
            "_model_module": "@jupyter-widgets/base",
            "_model_module_version": "1.2.0",
            "_model_name": "LayoutModel",
            "_view_count": null,
            "_view_module": "@jupyter-widgets/base",
            "_view_module_version": "1.2.0",
            "_view_name": "LayoutView",
            "align_content": null,
            "align_items": null,
            "align_self": null,
            "border": null,
            "bottom": null,
            "display": null,
            "flex": null,
            "flex_flow": null,
            "grid_area": null,
            "grid_auto_columns": null,
            "grid_auto_flow": null,
            "grid_auto_rows": null,
            "grid_column": null,
            "grid_gap": null,
            "grid_row": null,
            "grid_template_areas": null,
            "grid_template_columns": null,
            "grid_template_rows": null,
            "height": null,
            "justify_content": null,
            "justify_items": null,
            "left": null,
            "margin": null,
            "max_height": null,
            "max_width": null,
            "min_height": null,
            "min_width": null,
            "object_fit": null,
            "object_position": null,
            "order": null,
            "overflow": null,
            "overflow_x": null,
            "overflow_y": null,
            "padding": null,
            "right": null,
            "top": null,
            "visibility": null,
            "width": null
          }
        },
        "9e77ab6d47074aa0a3f4beaacf61812f": {
          "model_module": "@jupyter-widgets/controls",
          "model_name": "DescriptionStyleModel",
          "model_module_version": "1.5.0",
          "state": {
            "_model_module": "@jupyter-widgets/controls",
            "_model_module_version": "1.5.0",
            "_model_name": "DescriptionStyleModel",
            "_view_count": null,
            "_view_module": "@jupyter-widgets/base",
            "_view_module_version": "1.2.0",
            "_view_name": "StyleView",
            "description_width": ""
          }
        },
        "63135c1f00554a6392dd4816598c1b54": {
          "model_module": "@jupyter-widgets/controls",
          "model_name": "HBoxModel",
          "model_module_version": "1.5.0",
          "state": {
            "_dom_classes": [],
            "_model_module": "@jupyter-widgets/controls",
            "_model_module_version": "1.5.0",
            "_model_name": "HBoxModel",
            "_view_count": null,
            "_view_module": "@jupyter-widgets/controls",
            "_view_module_version": "1.5.0",
            "_view_name": "HBoxView",
            "box_style": "",
            "children": [
              "IPY_MODEL_3f8d065fa30a47c8926622d790a9567e",
              "IPY_MODEL_e99961a2a5dd4a8f9b828ee815e28d58",
              "IPY_MODEL_7b98115d0a5a401b80e7c4d123dccf7c"
            ],
            "layout": "IPY_MODEL_ef22f67cbfff4584b2437ed980d075a2"
          }
        },
        "3f8d065fa30a47c8926622d790a9567e": {
          "model_module": "@jupyter-widgets/controls",
          "model_name": "HTMLModel",
          "model_module_version": "1.5.0",
          "state": {
            "_dom_classes": [],
            "_model_module": "@jupyter-widgets/controls",
            "_model_module_version": "1.5.0",
            "_model_name": "HTMLModel",
            "_view_count": null,
            "_view_module": "@jupyter-widgets/controls",
            "_view_module_version": "1.5.0",
            "_view_name": "HTMLView",
            "description": "",
            "description_tooltip": null,
            "layout": "IPY_MODEL_609c6ffd801049358b1ec3171d80e963",
            "placeholder": "​",
            "style": "IPY_MODEL_adde6322fec54e8d8e6d3233b83a1f90",
            "value": "vocab.json: 100%"
          }
        },
        "e99961a2a5dd4a8f9b828ee815e28d58": {
          "model_module": "@jupyter-widgets/controls",
          "model_name": "FloatProgressModel",
          "model_module_version": "1.5.0",
          "state": {
            "_dom_classes": [],
            "_model_module": "@jupyter-widgets/controls",
            "_model_module_version": "1.5.0",
            "_model_name": "FloatProgressModel",
            "_view_count": null,
            "_view_module": "@jupyter-widgets/controls",
            "_view_module_version": "1.5.0",
            "_view_name": "ProgressView",
            "bar_style": "success",
            "description": "",
            "description_tooltip": null,
            "layout": "IPY_MODEL_c4346bafc93948b0970510aac4dd0232",
            "max": 1339166,
            "min": 0,
            "orientation": "horizontal",
            "style": "IPY_MODEL_a9fee073c60a489fb510150e85a40480",
            "value": 1339166
          }
        },
        "7b98115d0a5a401b80e7c4d123dccf7c": {
          "model_module": "@jupyter-widgets/controls",
          "model_name": "HTMLModel",
          "model_module_version": "1.5.0",
          "state": {
            "_dom_classes": [],
            "_model_module": "@jupyter-widgets/controls",
            "_model_module_version": "1.5.0",
            "_model_name": "HTMLModel",
            "_view_count": null,
            "_view_module": "@jupyter-widgets/controls",
            "_view_module_version": "1.5.0",
            "_view_name": "HTMLView",
            "description": "",
            "description_tooltip": null,
            "layout": "IPY_MODEL_ff2759d451bf48fe910080e39284282d",
            "placeholder": "​",
            "style": "IPY_MODEL_42f83e57ba654c05bd4ea7eebdeb803a",
            "value": " 1.34M/1.34M [00:00&lt;00:00, 6.27MB/s]"
          }
        },
        "ef22f67cbfff4584b2437ed980d075a2": {
          "model_module": "@jupyter-widgets/base",
          "model_name": "LayoutModel",
          "model_module_version": "1.2.0",
          "state": {
            "_model_module": "@jupyter-widgets/base",
            "_model_module_version": "1.2.0",
            "_model_name": "LayoutModel",
            "_view_count": null,
            "_view_module": "@jupyter-widgets/base",
            "_view_module_version": "1.2.0",
            "_view_name": "LayoutView",
            "align_content": null,
            "align_items": null,
            "align_self": null,
            "border": null,
            "bottom": null,
            "display": null,
            "flex": null,
            "flex_flow": null,
            "grid_area": null,
            "grid_auto_columns": null,
            "grid_auto_flow": null,
            "grid_auto_rows": null,
            "grid_column": null,
            "grid_gap": null,
            "grid_row": null,
            "grid_template_areas": null,
            "grid_template_columns": null,
            "grid_template_rows": null,
            "height": null,
            "justify_content": null,
            "justify_items": null,
            "left": null,
            "margin": null,
            "max_height": null,
            "max_width": null,
            "min_height": null,
            "min_width": null,
            "object_fit": null,
            "object_position": null,
            "order": null,
            "overflow": null,
            "overflow_x": null,
            "overflow_y": null,
            "padding": null,
            "right": null,
            "top": null,
            "visibility": null,
            "width": null
          }
        },
        "609c6ffd801049358b1ec3171d80e963": {
          "model_module": "@jupyter-widgets/base",
          "model_name": "LayoutModel",
          "model_module_version": "1.2.0",
          "state": {
            "_model_module": "@jupyter-widgets/base",
            "_model_module_version": "1.2.0",
            "_model_name": "LayoutModel",
            "_view_count": null,
            "_view_module": "@jupyter-widgets/base",
            "_view_module_version": "1.2.0",
            "_view_name": "LayoutView",
            "align_content": null,
            "align_items": null,
            "align_self": null,
            "border": null,
            "bottom": null,
            "display": null,
            "flex": null,
            "flex_flow": null,
            "grid_area": null,
            "grid_auto_columns": null,
            "grid_auto_flow": null,
            "grid_auto_rows": null,
            "grid_column": null,
            "grid_gap": null,
            "grid_row": null,
            "grid_template_areas": null,
            "grid_template_columns": null,
            "grid_template_rows": null,
            "height": null,
            "justify_content": null,
            "justify_items": null,
            "left": null,
            "margin": null,
            "max_height": null,
            "max_width": null,
            "min_height": null,
            "min_width": null,
            "object_fit": null,
            "object_position": null,
            "order": null,
            "overflow": null,
            "overflow_x": null,
            "overflow_y": null,
            "padding": null,
            "right": null,
            "top": null,
            "visibility": null,
            "width": null
          }
        },
        "adde6322fec54e8d8e6d3233b83a1f90": {
          "model_module": "@jupyter-widgets/controls",
          "model_name": "DescriptionStyleModel",
          "model_module_version": "1.5.0",
          "state": {
            "_model_module": "@jupyter-widgets/controls",
            "_model_module_version": "1.5.0",
            "_model_name": "DescriptionStyleModel",
            "_view_count": null,
            "_view_module": "@jupyter-widgets/base",
            "_view_module_version": "1.2.0",
            "_view_name": "StyleView",
            "description_width": ""
          }
        },
        "c4346bafc93948b0970510aac4dd0232": {
          "model_module": "@jupyter-widgets/base",
          "model_name": "LayoutModel",
          "model_module_version": "1.2.0",
          "state": {
            "_model_module": "@jupyter-widgets/base",
            "_model_module_version": "1.2.0",
            "_model_name": "LayoutModel",
            "_view_count": null,
            "_view_module": "@jupyter-widgets/base",
            "_view_module_version": "1.2.0",
            "_view_name": "LayoutView",
            "align_content": null,
            "align_items": null,
            "align_self": null,
            "border": null,
            "bottom": null,
            "display": null,
            "flex": null,
            "flex_flow": null,
            "grid_area": null,
            "grid_auto_columns": null,
            "grid_auto_flow": null,
            "grid_auto_rows": null,
            "grid_column": null,
            "grid_gap": null,
            "grid_row": null,
            "grid_template_areas": null,
            "grid_template_columns": null,
            "grid_template_rows": null,
            "height": null,
            "justify_content": null,
            "justify_items": null,
            "left": null,
            "margin": null,
            "max_height": null,
            "max_width": null,
            "min_height": null,
            "min_width": null,
            "object_fit": null,
            "object_position": null,
            "order": null,
            "overflow": null,
            "overflow_x": null,
            "overflow_y": null,
            "padding": null,
            "right": null,
            "top": null,
            "visibility": null,
            "width": null
          }
        },
        "a9fee073c60a489fb510150e85a40480": {
          "model_module": "@jupyter-widgets/controls",
          "model_name": "ProgressStyleModel",
          "model_module_version": "1.5.0",
          "state": {
            "_model_module": "@jupyter-widgets/controls",
            "_model_module_version": "1.5.0",
            "_model_name": "ProgressStyleModel",
            "_view_count": null,
            "_view_module": "@jupyter-widgets/base",
            "_view_module_version": "1.2.0",
            "_view_name": "StyleView",
            "bar_color": null,
            "description_width": ""
          }
        },
        "ff2759d451bf48fe910080e39284282d": {
          "model_module": "@jupyter-widgets/base",
          "model_name": "LayoutModel",
          "model_module_version": "1.2.0",
          "state": {
            "_model_module": "@jupyter-widgets/base",
            "_model_module_version": "1.2.0",
            "_model_name": "LayoutModel",
            "_view_count": null,
            "_view_module": "@jupyter-widgets/base",
            "_view_module_version": "1.2.0",
            "_view_name": "LayoutView",
            "align_content": null,
            "align_items": null,
            "align_self": null,
            "border": null,
            "bottom": null,
            "display": null,
            "flex": null,
            "flex_flow": null,
            "grid_area": null,
            "grid_auto_columns": null,
            "grid_auto_flow": null,
            "grid_auto_rows": null,
            "grid_column": null,
            "grid_gap": null,
            "grid_row": null,
            "grid_template_areas": null,
            "grid_template_columns": null,
            "grid_template_rows": null,
            "height": null,
            "justify_content": null,
            "justify_items": null,
            "left": null,
            "margin": null,
            "max_height": null,
            "max_width": null,
            "min_height": null,
            "min_width": null,
            "object_fit": null,
            "object_position": null,
            "order": null,
            "overflow": null,
            "overflow_x": null,
            "overflow_y": null,
            "padding": null,
            "right": null,
            "top": null,
            "visibility": null,
            "width": null
          }
        },
        "42f83e57ba654c05bd4ea7eebdeb803a": {
          "model_module": "@jupyter-widgets/controls",
          "model_name": "DescriptionStyleModel",
          "model_module_version": "1.5.0",
          "state": {
            "_model_module": "@jupyter-widgets/controls",
            "_model_module_version": "1.5.0",
            "_model_name": "DescriptionStyleModel",
            "_view_count": null,
            "_view_module": "@jupyter-widgets/base",
            "_view_module_version": "1.2.0",
            "_view_name": "StyleView",
            "description_width": ""
          }
        },
        "40e272690f03408dab0fb8447ec41f0c": {
          "model_module": "@jupyter-widgets/controls",
          "model_name": "HBoxModel",
          "model_module_version": "1.5.0",
          "state": {
            "_dom_classes": [],
            "_model_module": "@jupyter-widgets/controls",
            "_model_module_version": "1.5.0",
            "_model_name": "HBoxModel",
            "_view_count": null,
            "_view_module": "@jupyter-widgets/controls",
            "_view_module_version": "1.5.0",
            "_view_name": "HBoxView",
            "box_style": "",
            "children": [
              "IPY_MODEL_0344a3337ab74598a3520fa0eeabdd24",
              "IPY_MODEL_fd0128845acf472c9a2a2f8be6bea74b",
              "IPY_MODEL_303738856f4548e49d7a08eb2ebe10af"
            ],
            "layout": "IPY_MODEL_f62436843cad4100877356c59bd863bb"
          }
        },
        "0344a3337ab74598a3520fa0eeabdd24": {
          "model_module": "@jupyter-widgets/controls",
          "model_name": "HTMLModel",
          "model_module_version": "1.5.0",
          "state": {
            "_dom_classes": [],
            "_model_module": "@jupyter-widgets/controls",
            "_model_module_version": "1.5.0",
            "_model_name": "HTMLModel",
            "_view_count": null,
            "_view_module": "@jupyter-widgets/controls",
            "_view_module_version": "1.5.0",
            "_view_name": "HTMLView",
            "description": "",
            "description_tooltip": null,
            "layout": "IPY_MODEL_cbced0ec4d6f4472b064c9b672d24c5a",
            "placeholder": "​",
            "style": "IPY_MODEL_d3c9b9f92e104d92b8592a3594197281",
            "value": "pytorch_model.bin: 100%"
          }
        },
        "fd0128845acf472c9a2a2f8be6bea74b": {
          "model_module": "@jupyter-widgets/controls",
          "model_name": "FloatProgressModel",
          "model_module_version": "1.5.0",
          "state": {
            "_dom_classes": [],
            "_model_module": "@jupyter-widgets/controls",
            "_model_module_version": "1.5.0",
            "_model_name": "FloatProgressModel",
            "_view_count": null,
            "_view_module": "@jupyter-widgets/controls",
            "_view_module_version": "1.5.0",
            "_view_name": "ProgressView",
            "bar_style": "success",
            "description": "",
            "description_tooltip": null,
            "layout": "IPY_MODEL_81edde3b44e74fa5bcabf559b9329a11",
            "max": 300827685,
            "min": 0,
            "orientation": "horizontal",
            "style": "IPY_MODEL_d929c28a98e344b6a1b98e9b9eec5e6d",
            "value": 300827685
          }
        },
        "303738856f4548e49d7a08eb2ebe10af": {
          "model_module": "@jupyter-widgets/controls",
          "model_name": "HTMLModel",
          "model_module_version": "1.5.0",
          "state": {
            "_dom_classes": [],
            "_model_module": "@jupyter-widgets/controls",
            "_model_module_version": "1.5.0",
            "_model_name": "HTMLModel",
            "_view_count": null,
            "_view_module": "@jupyter-widgets/controls",
            "_view_module_version": "1.5.0",
            "_view_name": "HTMLView",
            "description": "",
            "description_tooltip": null,
            "layout": "IPY_MODEL_97911d0efebd4271872d1dd6a9a561a3",
            "placeholder": "​",
            "style": "IPY_MODEL_c62e7b0666a94444813f6b7e7f628755",
            "value": " 301M/301M [00:04&lt;00:00, 54.4MB/s]"
          }
        },
        "f62436843cad4100877356c59bd863bb": {
          "model_module": "@jupyter-widgets/base",
          "model_name": "LayoutModel",
          "model_module_version": "1.2.0",
          "state": {
            "_model_module": "@jupyter-widgets/base",
            "_model_module_version": "1.2.0",
            "_model_name": "LayoutModel",
            "_view_count": null,
            "_view_module": "@jupyter-widgets/base",
            "_view_module_version": "1.2.0",
            "_view_name": "LayoutView",
            "align_content": null,
            "align_items": null,
            "align_self": null,
            "border": null,
            "bottom": null,
            "display": null,
            "flex": null,
            "flex_flow": null,
            "grid_area": null,
            "grid_auto_columns": null,
            "grid_auto_flow": null,
            "grid_auto_rows": null,
            "grid_column": null,
            "grid_gap": null,
            "grid_row": null,
            "grid_template_areas": null,
            "grid_template_columns": null,
            "grid_template_rows": null,
            "height": null,
            "justify_content": null,
            "justify_items": null,
            "left": null,
            "margin": null,
            "max_height": null,
            "max_width": null,
            "min_height": null,
            "min_width": null,
            "object_fit": null,
            "object_position": null,
            "order": null,
            "overflow": null,
            "overflow_x": null,
            "overflow_y": null,
            "padding": null,
            "right": null,
            "top": null,
            "visibility": null,
            "width": null
          }
        },
        "cbced0ec4d6f4472b064c9b672d24c5a": {
          "model_module": "@jupyter-widgets/base",
          "model_name": "LayoutModel",
          "model_module_version": "1.2.0",
          "state": {
            "_model_module": "@jupyter-widgets/base",
            "_model_module_version": "1.2.0",
            "_model_name": "LayoutModel",
            "_view_count": null,
            "_view_module": "@jupyter-widgets/base",
            "_view_module_version": "1.2.0",
            "_view_name": "LayoutView",
            "align_content": null,
            "align_items": null,
            "align_self": null,
            "border": null,
            "bottom": null,
            "display": null,
            "flex": null,
            "flex_flow": null,
            "grid_area": null,
            "grid_auto_columns": null,
            "grid_auto_flow": null,
            "grid_auto_rows": null,
            "grid_column": null,
            "grid_gap": null,
            "grid_row": null,
            "grid_template_areas": null,
            "grid_template_columns": null,
            "grid_template_rows": null,
            "height": null,
            "justify_content": null,
            "justify_items": null,
            "left": null,
            "margin": null,
            "max_height": null,
            "max_width": null,
            "min_height": null,
            "min_width": null,
            "object_fit": null,
            "object_position": null,
            "order": null,
            "overflow": null,
            "overflow_x": null,
            "overflow_y": null,
            "padding": null,
            "right": null,
            "top": null,
            "visibility": null,
            "width": null
          }
        },
        "d3c9b9f92e104d92b8592a3594197281": {
          "model_module": "@jupyter-widgets/controls",
          "model_name": "DescriptionStyleModel",
          "model_module_version": "1.5.0",
          "state": {
            "_model_module": "@jupyter-widgets/controls",
            "_model_module_version": "1.5.0",
            "_model_name": "DescriptionStyleModel",
            "_view_count": null,
            "_view_module": "@jupyter-widgets/base",
            "_view_module_version": "1.2.0",
            "_view_name": "StyleView",
            "description_width": ""
          }
        },
        "81edde3b44e74fa5bcabf559b9329a11": {
          "model_module": "@jupyter-widgets/base",
          "model_name": "LayoutModel",
          "model_module_version": "1.2.0",
          "state": {
            "_model_module": "@jupyter-widgets/base",
            "_model_module_version": "1.2.0",
            "_model_name": "LayoutModel",
            "_view_count": null,
            "_view_module": "@jupyter-widgets/base",
            "_view_module_version": "1.2.0",
            "_view_name": "LayoutView",
            "align_content": null,
            "align_items": null,
            "align_self": null,
            "border": null,
            "bottom": null,
            "display": null,
            "flex": null,
            "flex_flow": null,
            "grid_area": null,
            "grid_auto_columns": null,
            "grid_auto_flow": null,
            "grid_auto_rows": null,
            "grid_column": null,
            "grid_gap": null,
            "grid_row": null,
            "grid_template_areas": null,
            "grid_template_columns": null,
            "grid_template_rows": null,
            "height": null,
            "justify_content": null,
            "justify_items": null,
            "left": null,
            "margin": null,
            "max_height": null,
            "max_width": null,
            "min_height": null,
            "min_width": null,
            "object_fit": null,
            "object_position": null,
            "order": null,
            "overflow": null,
            "overflow_x": null,
            "overflow_y": null,
            "padding": null,
            "right": null,
            "top": null,
            "visibility": null,
            "width": null
          }
        },
        "d929c28a98e344b6a1b98e9b9eec5e6d": {
          "model_module": "@jupyter-widgets/controls",
          "model_name": "ProgressStyleModel",
          "model_module_version": "1.5.0",
          "state": {
            "_model_module": "@jupyter-widgets/controls",
            "_model_module_version": "1.5.0",
            "_model_name": "ProgressStyleModel",
            "_view_count": null,
            "_view_module": "@jupyter-widgets/base",
            "_view_module_version": "1.2.0",
            "_view_name": "StyleView",
            "bar_color": null,
            "description_width": ""
          }
        },
        "97911d0efebd4271872d1dd6a9a561a3": {
          "model_module": "@jupyter-widgets/base",
          "model_name": "LayoutModel",
          "model_module_version": "1.2.0",
          "state": {
            "_model_module": "@jupyter-widgets/base",
            "_model_module_version": "1.2.0",
            "_model_name": "LayoutModel",
            "_view_count": null,
            "_view_module": "@jupyter-widgets/base",
            "_view_module_version": "1.2.0",
            "_view_name": "LayoutView",
            "align_content": null,
            "align_items": null,
            "align_self": null,
            "border": null,
            "bottom": null,
            "display": null,
            "flex": null,
            "flex_flow": null,
            "grid_area": null,
            "grid_auto_columns": null,
            "grid_auto_flow": null,
            "grid_auto_rows": null,
            "grid_column": null,
            "grid_gap": null,
            "grid_row": null,
            "grid_template_areas": null,
            "grid_template_columns": null,
            "grid_template_rows": null,
            "height": null,
            "justify_content": null,
            "justify_items": null,
            "left": null,
            "margin": null,
            "max_height": null,
            "max_width": null,
            "min_height": null,
            "min_width": null,
            "object_fit": null,
            "object_position": null,
            "order": null,
            "overflow": null,
            "overflow_x": null,
            "overflow_y": null,
            "padding": null,
            "right": null,
            "top": null,
            "visibility": null,
            "width": null
          }
        },
        "c62e7b0666a94444813f6b7e7f628755": {
          "model_module": "@jupyter-widgets/controls",
          "model_name": "DescriptionStyleModel",
          "model_module_version": "1.5.0",
          "state": {
            "_model_module": "@jupyter-widgets/controls",
            "_model_module_version": "1.5.0",
            "_model_name": "DescriptionStyleModel",
            "_view_count": null,
            "_view_module": "@jupyter-widgets/base",
            "_view_module_version": "1.2.0",
            "_view_name": "StyleView",
            "description_width": ""
          }
        },
        "59f20f18c3ee4ec7ad42e298379fa3b0": {
          "model_module": "@jupyter-widgets/controls",
          "model_name": "HBoxModel",
          "model_module_version": "1.5.0",
          "state": {
            "_dom_classes": [],
            "_model_module": "@jupyter-widgets/controls",
            "_model_module_version": "1.5.0",
            "_model_name": "HBoxModel",
            "_view_count": null,
            "_view_module": "@jupyter-widgets/controls",
            "_view_module_version": "1.5.0",
            "_view_name": "HBoxView",
            "box_style": "",
            "children": [
              "IPY_MODEL_1070178151c54a5583b444c400d1bcd2",
              "IPY_MODEL_1f893a847fa24ed5b83244bc8e042d0f",
              "IPY_MODEL_6a42a62116504cc5bf30bc0f080ae981"
            ],
            "layout": "IPY_MODEL_0c805bc9c6cc4452a30ecb1feca93b0c"
          }
        },
        "1070178151c54a5583b444c400d1bcd2": {
          "model_module": "@jupyter-widgets/controls",
          "model_name": "HTMLModel",
          "model_module_version": "1.5.0",
          "state": {
            "_dom_classes": [],
            "_model_module": "@jupyter-widgets/controls",
            "_model_module_version": "1.5.0",
            "_model_name": "HTMLModel",
            "_view_count": null,
            "_view_module": "@jupyter-widgets/controls",
            "_view_module_version": "1.5.0",
            "_view_name": "HTMLView",
            "description": "",
            "description_tooltip": null,
            "layout": "IPY_MODEL_ff90211f367a45e38cb3fe0b53f8498e",
            "placeholder": "​",
            "style": "IPY_MODEL_c449847052004ea796b3f46bc27799b6",
            "value": "generation_config.json: 100%"
          }
        },
        "1f893a847fa24ed5b83244bc8e042d0f": {
          "model_module": "@jupyter-widgets/controls",
          "model_name": "FloatProgressModel",
          "model_module_version": "1.5.0",
          "state": {
            "_dom_classes": [],
            "_model_module": "@jupyter-widgets/controls",
            "_model_module_version": "1.5.0",
            "_model_name": "FloatProgressModel",
            "_view_count": null,
            "_view_module": "@jupyter-widgets/controls",
            "_view_module_version": "1.5.0",
            "_view_name": "ProgressView",
            "bar_style": "success",
            "description": "",
            "description_tooltip": null,
            "layout": "IPY_MODEL_b5b5b2c3990b435ba0d5234f0991b0d2",
            "max": 293,
            "min": 0,
            "orientation": "horizontal",
            "style": "IPY_MODEL_7d79d162d8024de5897b9cc0a92a3637",
            "value": 293
          }
        },
        "6a42a62116504cc5bf30bc0f080ae981": {
          "model_module": "@jupyter-widgets/controls",
          "model_name": "HTMLModel",
          "model_module_version": "1.5.0",
          "state": {
            "_dom_classes": [],
            "_model_module": "@jupyter-widgets/controls",
            "_model_module_version": "1.5.0",
            "_model_name": "HTMLModel",
            "_view_count": null,
            "_view_module": "@jupyter-widgets/controls",
            "_view_module_version": "1.5.0",
            "_view_name": "HTMLView",
            "description": "",
            "description_tooltip": null,
            "layout": "IPY_MODEL_31a04931f36740f189a3d63b6ee88995",
            "placeholder": "​",
            "style": "IPY_MODEL_bb31553802d5415db1dfe06b073d49f0",
            "value": " 293/293 [00:00&lt;00:00, 10.1kB/s]"
          }
        },
        "0c805bc9c6cc4452a30ecb1feca93b0c": {
          "model_module": "@jupyter-widgets/base",
          "model_name": "LayoutModel",
          "model_module_version": "1.2.0",
          "state": {
            "_model_module": "@jupyter-widgets/base",
            "_model_module_version": "1.2.0",
            "_model_name": "LayoutModel",
            "_view_count": null,
            "_view_module": "@jupyter-widgets/base",
            "_view_module_version": "1.2.0",
            "_view_name": "LayoutView",
            "align_content": null,
            "align_items": null,
            "align_self": null,
            "border": null,
            "bottom": null,
            "display": null,
            "flex": null,
            "flex_flow": null,
            "grid_area": null,
            "grid_auto_columns": null,
            "grid_auto_flow": null,
            "grid_auto_rows": null,
            "grid_column": null,
            "grid_gap": null,
            "grid_row": null,
            "grid_template_areas": null,
            "grid_template_columns": null,
            "grid_template_rows": null,
            "height": null,
            "justify_content": null,
            "justify_items": null,
            "left": null,
            "margin": null,
            "max_height": null,
            "max_width": null,
            "min_height": null,
            "min_width": null,
            "object_fit": null,
            "object_position": null,
            "order": null,
            "overflow": null,
            "overflow_x": null,
            "overflow_y": null,
            "padding": null,
            "right": null,
            "top": null,
            "visibility": null,
            "width": null
          }
        },
        "ff90211f367a45e38cb3fe0b53f8498e": {
          "model_module": "@jupyter-widgets/base",
          "model_name": "LayoutModel",
          "model_module_version": "1.2.0",
          "state": {
            "_model_module": "@jupyter-widgets/base",
            "_model_module_version": "1.2.0",
            "_model_name": "LayoutModel",
            "_view_count": null,
            "_view_module": "@jupyter-widgets/base",
            "_view_module_version": "1.2.0",
            "_view_name": "LayoutView",
            "align_content": null,
            "align_items": null,
            "align_self": null,
            "border": null,
            "bottom": null,
            "display": null,
            "flex": null,
            "flex_flow": null,
            "grid_area": null,
            "grid_auto_columns": null,
            "grid_auto_flow": null,
            "grid_auto_rows": null,
            "grid_column": null,
            "grid_gap": null,
            "grid_row": null,
            "grid_template_areas": null,
            "grid_template_columns": null,
            "grid_template_rows": null,
            "height": null,
            "justify_content": null,
            "justify_items": null,
            "left": null,
            "margin": null,
            "max_height": null,
            "max_width": null,
            "min_height": null,
            "min_width": null,
            "object_fit": null,
            "object_position": null,
            "order": null,
            "overflow": null,
            "overflow_x": null,
            "overflow_y": null,
            "padding": null,
            "right": null,
            "top": null,
            "visibility": null,
            "width": null
          }
        },
        "c449847052004ea796b3f46bc27799b6": {
          "model_module": "@jupyter-widgets/controls",
          "model_name": "DescriptionStyleModel",
          "model_module_version": "1.5.0",
          "state": {
            "_model_module": "@jupyter-widgets/controls",
            "_model_module_version": "1.5.0",
            "_model_name": "DescriptionStyleModel",
            "_view_count": null,
            "_view_module": "@jupyter-widgets/base",
            "_view_module_version": "1.2.0",
            "_view_name": "StyleView",
            "description_width": ""
          }
        },
        "b5b5b2c3990b435ba0d5234f0991b0d2": {
          "model_module": "@jupyter-widgets/base",
          "model_name": "LayoutModel",
          "model_module_version": "1.2.0",
          "state": {
            "_model_module": "@jupyter-widgets/base",
            "_model_module_version": "1.2.0",
            "_model_name": "LayoutModel",
            "_view_count": null,
            "_view_module": "@jupyter-widgets/base",
            "_view_module_version": "1.2.0",
            "_view_name": "LayoutView",
            "align_content": null,
            "align_items": null,
            "align_self": null,
            "border": null,
            "bottom": null,
            "display": null,
            "flex": null,
            "flex_flow": null,
            "grid_area": null,
            "grid_auto_columns": null,
            "grid_auto_flow": null,
            "grid_auto_rows": null,
            "grid_column": null,
            "grid_gap": null,
            "grid_row": null,
            "grid_template_areas": null,
            "grid_template_columns": null,
            "grid_template_rows": null,
            "height": null,
            "justify_content": null,
            "justify_items": null,
            "left": null,
            "margin": null,
            "max_height": null,
            "max_width": null,
            "min_height": null,
            "min_width": null,
            "object_fit": null,
            "object_position": null,
            "order": null,
            "overflow": null,
            "overflow_x": null,
            "overflow_y": null,
            "padding": null,
            "right": null,
            "top": null,
            "visibility": null,
            "width": null
          }
        },
        "7d79d162d8024de5897b9cc0a92a3637": {
          "model_module": "@jupyter-widgets/controls",
          "model_name": "ProgressStyleModel",
          "model_module_version": "1.5.0",
          "state": {
            "_model_module": "@jupyter-widgets/controls",
            "_model_module_version": "1.5.0",
            "_model_name": "ProgressStyleModel",
            "_view_count": null,
            "_view_module": "@jupyter-widgets/base",
            "_view_module_version": "1.2.0",
            "_view_name": "StyleView",
            "bar_color": null,
            "description_width": ""
          }
        },
        "31a04931f36740f189a3d63b6ee88995": {
          "model_module": "@jupyter-widgets/base",
          "model_name": "LayoutModel",
          "model_module_version": "1.2.0",
          "state": {
            "_model_module": "@jupyter-widgets/base",
            "_model_module_version": "1.2.0",
            "_model_name": "LayoutModel",
            "_view_count": null,
            "_view_module": "@jupyter-widgets/base",
            "_view_module_version": "1.2.0",
            "_view_name": "LayoutView",
            "align_content": null,
            "align_items": null,
            "align_self": null,
            "border": null,
            "bottom": null,
            "display": null,
            "flex": null,
            "flex_flow": null,
            "grid_area": null,
            "grid_auto_columns": null,
            "grid_auto_flow": null,
            "grid_auto_rows": null,
            "grid_column": null,
            "grid_gap": null,
            "grid_row": null,
            "grid_template_areas": null,
            "grid_template_columns": null,
            "grid_template_rows": null,
            "height": null,
            "justify_content": null,
            "justify_items": null,
            "left": null,
            "margin": null,
            "max_height": null,
            "max_width": null,
            "min_height": null,
            "min_width": null,
            "object_fit": null,
            "object_position": null,
            "order": null,
            "overflow": null,
            "overflow_x": null,
            "overflow_y": null,
            "padding": null,
            "right": null,
            "top": null,
            "visibility": null,
            "width": null
          }
        },
        "bb31553802d5415db1dfe06b073d49f0": {
          "model_module": "@jupyter-widgets/controls",
          "model_name": "DescriptionStyleModel",
          "model_module_version": "1.5.0",
          "state": {
            "_model_module": "@jupyter-widgets/controls",
            "_model_module_version": "1.5.0",
            "_model_name": "DescriptionStyleModel",
            "_view_count": null,
            "_view_module": "@jupyter-widgets/base",
            "_view_module_version": "1.2.0",
            "_view_name": "StyleView",
            "description_width": ""
          }
        }
      }
    }
  },
  "cells": [
    {
      "cell_type": "code",
      "execution_count": 4,
      "metadata": {
        "id": "gV6gCP47MWg5"
      },
      "outputs": [],
      "source": [
        "import collections\n",
        "import numpy as np\n",
        "import json\n",
        "\n",
        "from keras.preprocessing.text import Tokenizer\n",
        "from keras.utils import pad_sequences\n",
        "from keras.models import Model, Sequential\n",
        "from keras.layers import Input, Dense, Embedding, GRU, LSTM, Bidirectional, Dropout, Activation, TimeDistributed, RepeatVector\n",
        "from keras.optimizers import Adam\n",
        "from keras.losses import sparse_categorical_crossentropy"
      ]
    },
    {
      "cell_type": "code",
      "source": [
        "#Loading datasets\n",
        "def load_data(path):\n",
        "    input_file = path\n",
        "    with open(input_file, \"r\") as f:\n",
        "        data = f.read()\n",
        "    return data.split('\\n')\n",
        "\n",
        "english_sentences = load_data('/content/drive/MyDrive/english.txt')\n",
        "french_sentences = load_data('/content/drive/MyDrive/french.txt')\n"
      ],
      "metadata": {
        "id": "98Woma7ZMx_3"
      },
      "execution_count": 5,
      "outputs": []
    },
    {
      "cell_type": "code",
      "source": [
        "english_sentences[:5]"
      ],
      "metadata": {
        "colab": {
          "base_uri": "https://localhost:8080/"
        },
        "id": "XNsL-xHDYTnh",
        "outputId": "67481073-c0e5-450b-f6ab-3c4d6d46e75a"
      },
      "execution_count": 6,
      "outputs": [
        {
          "output_type": "execute_result",
          "data": {
            "text/plain": [
              "['new jersey is sometimes quiet during autumn , and it is snowy in april .',\n",
              " 'the united states is usually chilly during july , and it is usually freezing in november .',\n",
              " 'california is usually quiet during march , and it is usually hot in june .',\n",
              " 'the united states is sometimes mild during june , and it is cold in september .',\n",
              " 'your least liked fruit is the grape , but my least liked is the apple .']"
            ]
          },
          "metadata": {},
          "execution_count": 6
        }
      ]
    },
    {
      "cell_type": "code",
      "source": [
        "french_sentences[:5]"
      ],
      "metadata": {
        "colab": {
          "base_uri": "https://localhost:8080/"
        },
        "id": "ir4rekOwx7J8",
        "outputId": "271e2c9b-60a2-450e-d72a-4bba15dee489"
      },
      "execution_count": 7,
      "outputs": [
        {
          "output_type": "execute_result",
          "data": {
            "text/plain": [
              "[\"new jersey est parfois calme pendant l' automne , et il est neigeux en avril .\",\n",
              " 'les états-unis est généralement froid en juillet , et il gèle habituellement en novembre .',\n",
              " 'california est généralement calme en mars , et il est généralement chaud en juin .',\n",
              " 'les états-unis est parfois légère en juin , et il fait froid en septembre .',\n",
              " 'votre moins aimé fruit est le raisin , mais mon moins aimé est la pomme .']"
            ]
          },
          "metadata": {},
          "execution_count": 7
        }
      ]
    },
    {
      "cell_type": "code",
      "source": [
        "english_words_counter = collections.Counter([word for sentence in english_sentences for word in sentence.split()])\n",
        "french_words_counter = collections.Counter([word for sentence in french_sentences for word in sentence.split()])\n",
        "\n",
        "print('{} English words.'.format(len([word for sentence in english_sentences for word in sentence.split()])))\n",
        "print('{} unique English words.'.format(len(english_words_counter)))\n",
        "print('10 Most common words in the English dataset:')\n",
        "print('\"' + '\" \"'.join(list(zip(*english_words_counter.most_common(10)))[0]) + '\"')\n",
        "\n",
        "print()\n",
        "print('{} French words.'.format(len([word for sentence in french_sentences for word in sentence.split()])))\n",
        "print('{} unique French words.'.format(len(french_words_counter)))\n",
        "print('10 Most common words in the French dataset:')\n",
        "print('\"' + '\" \"'.join(list(zip(*french_words_counter.most_common(10)))[0]) + '\"')\n",
        "\n"
      ],
      "metadata": {
        "colab": {
          "base_uri": "https://localhost:8080/"
        },
        "id": "o7pQko5sYeLv",
        "outputId": "99c28d2e-4b93-412e-b762-79e27925abf2"
      },
      "execution_count": 8,
      "outputs": [
        {
          "output_type": "stream",
          "name": "stdout",
          "text": [
            "1823250 English words.\n",
            "227 unique English words.\n",
            "10 Most common words in the English dataset:\n",
            "\"is\" \",\" \".\" \"in\" \"it\" \"during\" \"the\" \"but\" \"and\" \"sometimes\"\n",
            "\n",
            "1961295 French words.\n",
            "355 unique French words.\n",
            "10 Most common words in the French dataset:\n",
            "\"est\" \".\" \",\" \"en\" \"il\" \"les\" \"mais\" \"et\" \"la\" \"parfois\"\n"
          ]
        }
      ]
    },
    {
      "cell_type": "code",
      "source": [
        "#Preprocessing\n",
        "#1.Tokenization\n",
        "def tokenize(x):\n",
        "    tokenizer = Tokenizer()\n",
        "    tokenizer.fit_on_texts(x)\n",
        "    return tokenizer.texts_to_sequences(x), tokenizer\n",
        "\n",
        "text_sentences = [\n",
        "    'The quick brown fox jumps over the lazy dog .',\n",
        "    'By Jove , my quick study of lexicography won a prize .',\n",
        "    'This is a short sentence .']\n",
        "\n",
        "text_tokenized, text_tokenizer = tokenize(text_sentences)\n",
        "print(text_tokenizer.word_index)\n",
        "print()\n",
        "for sample_i, (sent, token_sent) in enumerate(zip(text_sentences, text_tokenized)):\n",
        "    print('Sequence {} in x'.format(sample_i + 1))\n",
        "    print('  Input:  {}'.format(sent))\n",
        "    print('  Output: {}'.format(token_sent))"
      ],
      "metadata": {
        "colab": {
          "base_uri": "https://localhost:8080/"
        },
        "id": "6YXiTrW1Y6NU",
        "outputId": "4f6840be-0106-48fa-dce1-136c21566b27"
      },
      "execution_count": 9,
      "outputs": [
        {
          "output_type": "stream",
          "name": "stdout",
          "text": [
            "{'the': 1, 'quick': 2, 'a': 3, 'brown': 4, 'fox': 5, 'jumps': 6, 'over': 7, 'lazy': 8, 'dog': 9, 'by': 10, 'jove': 11, 'my': 12, 'study': 13, 'of': 14, 'lexicography': 15, 'won': 16, 'prize': 17, 'this': 18, 'is': 19, 'short': 20, 'sentence': 21}\n",
            "\n",
            "Sequence 1 in x\n",
            "  Input:  The quick brown fox jumps over the lazy dog .\n",
            "  Output: [1, 2, 4, 5, 6, 7, 1, 8, 9]\n",
            "Sequence 2 in x\n",
            "  Input:  By Jove , my quick study of lexicography won a prize .\n",
            "  Output: [10, 11, 12, 2, 13, 14, 15, 16, 3, 17]\n",
            "Sequence 3 in x\n",
            "  Input:  This is a short sentence .\n",
            "  Output: [18, 19, 3, 20, 21]\n"
          ]
        }
      ]
    },
    {
      "cell_type": "code",
      "source": [
        "#2.Padding\n",
        "def pad(x, length=None):\n",
        "    if length is None:\n",
        "        length = max([len(sentence) for sentence in x])\n",
        "    return pad_sequences(x, maxlen=length, padding='post')\n",
        "\n",
        "test_pad = pad(text_tokenized)\n",
        "for sample_i, (token_sent, pad_sent) in enumerate(zip(text_tokenized, test_pad)):\n",
        "    print('Sequence {} in x'.format(sample_i + 1))\n",
        "    print('  Input:  {}'.format(np.array(token_sent)))\n",
        "    print('  Output: {}'.format(pad_sent))"
      ],
      "metadata": {
        "colab": {
          "base_uri": "https://localhost:8080/"
        },
        "id": "zBJ__D6AZzSz",
        "outputId": "853c8005-04a2-441c-f157-949fc3061387"
      },
      "execution_count": 10,
      "outputs": [
        {
          "output_type": "stream",
          "name": "stdout",
          "text": [
            "Sequence 1 in x\n",
            "  Input:  [1 2 4 5 6 7 1 8 9]\n",
            "  Output: [1 2 4 5 6 7 1 8 9 0]\n",
            "Sequence 2 in x\n",
            "  Input:  [10 11 12  2 13 14 15 16  3 17]\n",
            "  Output: [10 11 12  2 13 14 15 16  3 17]\n",
            "Sequence 3 in x\n",
            "  Input:  [18 19  3 20 21]\n",
            "  Output: [18 19  3 20 21  0  0  0  0  0]\n"
          ]
        }
      ]
    },
    {
      "cell_type": "code",
      "source": [
        "def preprocess(x,y):\n",
        "    preprocess_x, x_tk = tokenize(x)\n",
        "    preprocess_y, y_tk = tokenize(y)\n",
        "\n",
        "    preprocess_x = pad(preprocess_x)\n",
        "    preprocess_y = pad(preprocess_y)\n",
        "\n",
        "    preprocess_y = preprocess_y.reshape(*preprocess_y.shape, 1)\n",
        "\n",
        "    return preprocess_x, preprocess_y, x_tk, y_tk\n",
        "\n",
        "preproc_english_sentences, preproc_french_sentences, english_tokenizer, french_tokenizer = preprocess(english_sentences, french_sentences)\n",
        "\n",
        "max_english_sequence_length = preproc_english_sentences.shape[1]\n",
        "max_french_sequence_length = preproc_french_sentences.shape[1]\n",
        "english_vocab_size = len(english_tokenizer.word_index)\n",
        "french_vocab_size = len(french_tokenizer.word_index)\n",
        "\n",
        "print('Data Preprocessed')\n",
        "print(\"Max English sentence length:\", max_english_sequence_length)\n",
        "print(\"Max French sentence length:\", max_french_sequence_length)\n",
        "print(\"English vocabulary size:\", english_vocab_size)\n",
        "print(\"French vocabulary size:\", french_vocab_size)"
      ],
      "metadata": {
        "colab": {
          "base_uri": "https://localhost:8080/"
        },
        "id": "a6wz1Sh9aJn6",
        "outputId": "fa7ec8e1-6ed3-424a-cb62-c7445b93b0ff"
      },
      "execution_count": 11,
      "outputs": [
        {
          "output_type": "stream",
          "name": "stdout",
          "text": [
            "Data Preprocessed\n",
            "Max English sentence length: 15\n",
            "Max French sentence length: 21\n",
            "English vocabulary size: 199\n",
            "French vocabulary size: 344\n"
          ]
        }
      ]
    },
    {
      "cell_type": "code",
      "source": [
        "def logits_to_text(logits, tokenizer):\n",
        "    index_to_words = {id: word for word, id in tokenizer.word_index.items()}\n",
        "    index_to_words[0] = '<PAD>'\n",
        "\n",
        "    return ' '.join([index_to_words[prediction] for prediction in np.argmax(logits, 1)])"
      ],
      "metadata": {
        "id": "3EZaUnjsbQMq"
      },
      "execution_count": 12,
      "outputs": []
    },
    {
      "cell_type": "code",
      "source": [
        "#Language Translation using RNN model\n",
        "def simple_model(input_shape, output_sequence_length, english_vocab_size, french_vocab_size):\n",
        "\n",
        "    #Hyperparameters\n",
        "    learning_rate = 0.005\n",
        "\n",
        "    # Build the layers\n",
        "    model = Sequential()\n",
        "    model.add(GRU(256, input_shape=input_shape[1:], return_sequences=True))\n",
        "    model.add(TimeDistributed(Dense(1024, activation='relu')))\n",
        "    model.add(Dropout(0.5))\n",
        "    model.add(TimeDistributed(Dense(french_vocab_size, activation='softmax')))\n",
        "\n",
        "    # Compile model\n",
        "    model.compile(loss = sparse_categorical_crossentropy,\n",
        "                  optimizer = Adam(learning_rate),\n",
        "                  metrics = ['accuracy'])\n",
        "\n",
        "    return model\n",
        "\n",
        "tmp_x = pad(preproc_english_sentences, max_french_sequence_length)\n",
        "tmp_x = tmp_x.reshape((-1, preproc_french_sentences.shape[-2], 1))\n",
        "\n",
        "#Train the neural network\n",
        "simple_rnn_model = simple_model(\n",
        "    tmp_x.shape,\n",
        "    max_french_sequence_length,\n",
        "    english_vocab_size,\n",
        "    french_vocab_size)\n",
        "\n",
        "simple_rnn_model.fit(tmp_x, preproc_french_sentences, batch_size=1024, epochs=10, validation_split=0.2)"
      ],
      "metadata": {
        "id": "YjhwEYUcI5Yd",
        "colab": {
          "base_uri": "https://localhost:8080/",
          "height": 1000
        },
        "outputId": "8be40d22-f465-40d0-a032-27c1dca93d9a"
      },
      "execution_count": 13,
      "outputs": [
        {
          "output_type": "stream",
          "name": "stdout",
          "text": [
            "Epoch 1/10\n",
            "108/108 [==============================] - ETA: 0s - loss: 1.9518 - accuracy: 0.5388"
          ]
        },
        {
          "output_type": "error",
          "ename": "InvalidArgumentError",
          "evalue": "Graph execution error:\n\nDetected at node sparse_categorical_crossentropy/SparseSoftmaxCrossEntropyWithLogits/SparseSoftmaxCrossEntropyWithLogits defined at (most recent call last):\n  File \"/usr/lib/python3.10/runpy.py\", line 196, in _run_module_as_main\n\n  File \"/usr/lib/python3.10/runpy.py\", line 86, in _run_code\n\n  File \"/usr/local/lib/python3.10/dist-packages/colab_kernel_launcher.py\", line 37, in <module>\n\n  File \"/usr/local/lib/python3.10/dist-packages/traitlets/config/application.py\", line 992, in launch_instance\n\n  File \"/usr/local/lib/python3.10/dist-packages/ipykernel/kernelapp.py\", line 619, in start\n\n  File \"/usr/local/lib/python3.10/dist-packages/tornado/platform/asyncio.py\", line 195, in start\n\n  File \"/usr/lib/python3.10/asyncio/base_events.py\", line 603, in run_forever\n\n  File \"/usr/lib/python3.10/asyncio/base_events.py\", line 1909, in _run_once\n\n  File \"/usr/lib/python3.10/asyncio/events.py\", line 80, in _run\n\n  File \"/usr/local/lib/python3.10/dist-packages/tornado/ioloop.py\", line 685, in <lambda>\n\n  File \"/usr/local/lib/python3.10/dist-packages/tornado/ioloop.py\", line 738, in _run_callback\n\n  File \"/usr/local/lib/python3.10/dist-packages/tornado/gen.py\", line 825, in inner\n\n  File \"/usr/local/lib/python3.10/dist-packages/tornado/gen.py\", line 786, in run\n\n  File \"/usr/local/lib/python3.10/dist-packages/ipykernel/kernelbase.py\", line 361, in process_one\n\n  File \"/usr/local/lib/python3.10/dist-packages/tornado/gen.py\", line 234, in wrapper\n\n  File \"/usr/local/lib/python3.10/dist-packages/ipykernel/kernelbase.py\", line 261, in dispatch_shell\n\n  File \"/usr/local/lib/python3.10/dist-packages/tornado/gen.py\", line 234, in wrapper\n\n  File \"/usr/local/lib/python3.10/dist-packages/ipykernel/kernelbase.py\", line 539, in execute_request\n\n  File \"/usr/local/lib/python3.10/dist-packages/tornado/gen.py\", line 234, in wrapper\n\n  File \"/usr/local/lib/python3.10/dist-packages/ipykernel/ipkernel.py\", line 302, in do_execute\n\n  File \"/usr/local/lib/python3.10/dist-packages/ipykernel/zmqshell.py\", line 539, in run_cell\n\n  File \"/usr/local/lib/python3.10/dist-packages/IPython/core/interactiveshell.py\", line 2975, in run_cell\n\n  File \"/usr/local/lib/python3.10/dist-packages/IPython/core/interactiveshell.py\", line 3030, in _run_cell\n\n  File \"/usr/local/lib/python3.10/dist-packages/IPython/core/async_helpers.py\", line 78, in _pseudo_sync_runner\n\n  File \"/usr/local/lib/python3.10/dist-packages/IPython/core/interactiveshell.py\", line 3257, in run_cell_async\n\n  File \"/usr/local/lib/python3.10/dist-packages/IPython/core/interactiveshell.py\", line 3473, in run_ast_nodes\n\n  File \"/usr/local/lib/python3.10/dist-packages/IPython/core/interactiveshell.py\", line 3553, in run_code\n\n  File \"<ipython-input-13-588359f73acb>\", line 31, in <cell line: 31>\n\n  File \"/usr/local/lib/python3.10/dist-packages/keras/src/utils/traceback_utils.py\", line 65, in error_handler\n\n  File \"/usr/local/lib/python3.10/dist-packages/keras/src/engine/training.py\", line 1856, in fit\n\n  File \"/usr/local/lib/python3.10/dist-packages/keras/src/utils/traceback_utils.py\", line 65, in error_handler\n\n  File \"/usr/local/lib/python3.10/dist-packages/keras/src/engine/training.py\", line 2296, in evaluate\n\n  File \"/usr/local/lib/python3.10/dist-packages/keras/src/engine/training.py\", line 4108, in run_step\n\n  File \"/usr/local/lib/python3.10/dist-packages/keras/src/engine/training.py\", line 2066, in test_function\n\n  File \"/usr/local/lib/python3.10/dist-packages/keras/src/engine/training.py\", line 2049, in step_function\n\n  File \"/usr/local/lib/python3.10/dist-packages/keras/src/engine/training.py\", line 2037, in run_step\n\n  File \"/usr/local/lib/python3.10/dist-packages/keras/src/engine/training.py\", line 1919, in test_step\n\n  File \"/usr/local/lib/python3.10/dist-packages/keras/src/engine/training.py\", line 1209, in compute_loss\n\n  File \"/usr/local/lib/python3.10/dist-packages/keras/src/engine/compile_utils.py\", line 277, in __call__\n\n  File \"/usr/local/lib/python3.10/dist-packages/keras/src/losses.py\", line 143, in __call__\n\n  File \"/usr/local/lib/python3.10/dist-packages/keras/src/losses.py\", line 270, in call\n\n  File \"/usr/local/lib/python3.10/dist-packages/keras/src/losses.py\", line 2454, in sparse_categorical_crossentropy\n\n  File \"/usr/local/lib/python3.10/dist-packages/keras/src/backend.py\", line 5775, in sparse_categorical_crossentropy\n\nReceived a label value of 344 which is outside the valid range of [0, 344).  Label values: 7 88 1 64 16 13 14 5 7 83 1 40 13 14 0 0 0 0 0 0 0 11 30 1 67 15 25 22 47 6 3 1 58 69 2 56 0 0 0 0 0 0 62 1 92 2 41 5 3 1 9 21 26 11 24 0 0 0 0 0 0 0 0 7 33 1 9 7 102 2 51 5 3 1 18 2 45 0 0 0 0 0 0 0 29 1 65 37 11 44 6 3 1 9 21 2 52 0 0 0 0 0 0 0 0 10 38 1 20 16 17 13 5 10 82 1 20 13 17 0 0 0 0 0 0 0 36 1 12 67 37 11 46 5 3 1 18 2 44 0 0 0 0 0 0 0 0 27 145 7 97 134 154 0 0 0 0 0 0 0 0 0 0 0 0 0 0 0 3 113 115 184 110 176 0 0 0 0 0 0 0 0 0 0 0 0 0 0 0 3 94 4 28 4 73 6 4 78 0 0 0 0 0 0 0 0 0 0 0 0 11 30 1 19 15 25 79 56 5 3 1 68 2 41 0 0 0 0 0 0 0 3 55 4 72 4 28 76 6 4 28 0 0 0 0 0 0 0 0 0 0 0 3 55 4 78 4 74 6 4 73 0 0 0 0 0 0 0 0 0 0 0 0 3 55 4 28 4 70 6 4 72 0 0 0 0 0 0 0 0 0 0 0 0 11 30 1 12 57 15 25 22 45 6 3 1 12 18 2 47 0 0 0 0 0 4 32 31 1 8 68 15 25 22 47 5 3 1 8 21 2 41 0 0 0 0 10 82 1 61 16 17 5 7 86 1 40 93 0 0 0 0 0 0 0 0 0 10 85 1 20 16 17 13 5 7 83 1 61 13 17 0 0 0 0 0 0 0 10 38 1 40 16 17 5 7 89 1 39 17 0 0 0 0 0 0 0 0 0 62 1 12 63 2 41 5 3 1 8 60 26 11 24 0 0 0 0 0 0 0 99 124 4 70 4 73 6 28 76 0 0 0 0 0 0 0 0 0 0 0 0 7 89 1 39 16 13 14 5 7 90 27 1 13 14 0 0 0 0 0 0 0 10 85 1 39 13 14 108 96 5 10 82 1 20 13 14 0 0 0 0 0 0 36 1 8 18 2 43 5 3 1 12 66 2 48 0 0 0 0 0 0 0 0 20 13 16 17 1 7 88 5 39 17 13 1 10 82 0 0 0 0 0 0 0 20 16 10 23 14 1 10 85 5 61 23 14 1 7 90 0 0 0 0 0 0 35 34 1 8 19 2 43 5 3 1 8 18 2 49 0 0 0 0 0 0 0 4 32 31 1 9 57 37 11 46 5 3 1 18 2 41 0 0 0 0 0 0 36 1 8 57 2 52 5 3 1 8 59 2 46 0 0 0 0 0 0 0 0 3 94 4 71 4 74 6 4 78 0 0 0 0 0 0 0 0 0 0 0 0 64 16 17 1 10 270 5 61 17 1 7 86 0 0 0 0 0 0 0 0 0 29 1 19 2 52 6 3 1 9 60 2 46 0 0 0 0 0 0 0 0 0 29 1 8 66 2 41 5 3 1 12 60 26 11 24 0 0 0 0 0 0 0 29 1 12 21 37 11 24 5 3 1 9 65 2 51 0 0 0 0 0 0 0 29 1 8 66 15 111 22 11 24 6 3 1 9 26 63 2 53 0 0 0 0 4 32 31 1 21 2 43 5 3 1 9 117 2 47 0 0 0 0 0 0 0 7 36 1 8 65 37 11 46 5 3 1 63 2 44 0 0 0 0 0 0 0 33 1 57 2 49 5 3 1 18 2 47 0 0 0 0 0 0 0 0 0 0 7 33 1 8 63 2 50 6 3 1 12 18 2 49 0 0 0 0 0 0 0 36 1 69 21 2 50 6 3 1 8 63 26 11 24 0 0 0 0 0 0 0 7 33 1 12 65 2 54 6 3 1 19 2 41 0 0 0 0 0 0 0 0 20 16 17 1 13 7 86 5 40 13 17 1 10 85 0 0 0 0 0 0 0 39 109 17 1 13 146 11 237 0 0 0 0 0 0 0 0 0 0 0 0 0 7 88 1 7 13 14 108 96 5 10 85 1 64 13 14 0 0 0 0 0 0 64 16 17 13 1 10 38 5 40 13 140 1 84 0 0 0 0 0 0 0 0 62 1 21 2 50 5 3 1 12 18 2 53 0 0 0 0 0 0 0 0 0 35 34 1 66 2 41 5 3 1 12 67 26 11 24 0 0 0 0 0 0 0 4 32 31 105 131 9 190 2 45 5 3 1 18 2 44 0 0 0 0 0 0 27 94 7 148 97 162 0 0 0 0 0 0 0 0 0 0 0 0 0 0 0 29 1 58 69 2 50 5 3 1 12 19 2 53 0 0 0 0 0 0 0 0 99 127 91 28 76 4 70 6 4 74 0 0 0 0 0 0 0 0 0 0 0 4 32 31 1 12 63 37 11 24 6 3 1 8 58 2 41 0 0 0 0 0 27 55 4 75 4 73 6 10 38 0 0 0 0 0 0 0 0 0 0 0 0 4 32 31 1 8 21 37 11 24 6 3 1 12 67 2 52 0 0 0 0 0 62 1 12 65 37 11 44 6 3 1 8 10 81 2 50 0 0 0 0 0 0 11 30 1 12 18 15 25 79 56 5 3 1 8 18 2 46 0 0 0 0 0 101 1 12 18 15 25 22 47 6 3 1 60 2 52 0 0 0 0 0 0 0 29 1 19 2 41 6 3 1 12 19 2 53 0 0 0 0 0 0 0 0 0 7 33 1 9 18 26 98 6 3 1 8 67 2 44 0 0 0 0 0 0 0 62 105 103 9 19 2 51 6 3 1 8 63 2 49 0 0 0 0 0 0 0 135 28 76 4 28 6 4 78 0 0 0 0 0 0 0 0 0 0 0 0 0 3 55 4 73 4 70 6 4 75 0 0 0 0 0 0 0 0 0 0 0 0 7 90 1 61 16 10 23 119 5 7 89 1 39 23 14 0 0 0 0 0 0 3 180 35 34 24 114 0 0 0 0 0 0 0 0 0 0 0 0 0 0 0 27 94 4 78 4 77 6 4 74 0 0 0 0 0 0 0 0 0 0 0 0 36 105 103 9 19 2 24 6 3 1 12 59 2 54 0 0 0 0 0 0 0 11 30 1 19 2 49 5 3 157 2 43 0 0 0 0 0 0 0 0 0 0 3 55 10 163 110 134 0 0 0 0 0 0 0 0 0 0 0 0 0 0 0 11 30 1 19 15 42 5 3 1 8 59 2 54 0 0 0 0 0 0 0 0 35 34 1 58 8 2 54 6 3 1 9 66 2 44 0 0 0 0 0 0 0 7 86 1 39 16 17 13 5 10 82 1 64 13 17 0 0 0 0 0 0 0 84 1 39 16 13 14 5 7 88 27 1 13 14 0 0 0 0 0 0 0 0 4 32 31 1 8 65 15 25 79 56 5 3 1 67 2 45 0 0 0 0 0 36 1 12 18 2 52 5 3 1 8 65 2 56 0 0 0 0 0 0 0 0 11 30 1 19 15 42 6 3 1 12 59 2 44 0 0 0 0 0 0 0 0 29 1 12 57 2 54 6 3 1 8 21 2 53 0 0 0 0 0 0 0 0 7 86 1 61 16 13 14 5 7 88 1 39 13 14 0 0 0 0 0 0 0 35 34 1 12 18 2 49 5 3 1 9 18 2 54 0 0 0 0 0 0 0 107 126 4 77 28 76 6 72 0 0 0 0 0 0 0 0 0 0 0 0 0 29 1 65 2 52 5 3 1 63 2 48 0 0 0 0 0 0 0 0 0 0 11 30 1 12 67 15 111 22 11 24 5 3 1 12 65 2 45 0 0 0 0 20 16 1 13 14 7 87 5 27 1 13 14 7 83 0 0 0 0 0 0 0 7 62 1 9 58 26 98 6 3 1 8 21 2 51 0 0 0 0 0 0 0 11 30 1 58 2 53 5 3 1 8 19 2 45 0 0 0 0 0 0 0 0 4 32 31 1 18 26 98 6 3 1 8 21 15 42 0 0 0 0 0 0 0 107 132 10 38 4 71 6 4 28 76 0 0 0 0 0 0 0 0 0 0 0 35 34 1 12 68 2 50 5 3 1 59 2 49 0 0 0 0 0 0 0 0 27 55 4 75 10 38 6 4 78 0 0 0 0 0 0 0 0 0 0 0 0 40 109 17 1 146 7 201 0 0 0 0 0 0 0 0 0 0 0 0 0 0 20 16 1 13 14 7 83 5 64 13 14 1 7 90 0 0 0 0 0 0 0 3 55 4 72 4 71 6 4 75 0 0 0 0 0 0 0 0 0 0 0 0 11 30 1 10 81 2 50 5 3 1 8 60 26 11 24 0 0 0 0 0 0 4 32 31 1 12 60 2 50 5 3 1 9 18 2 44 0 0 0 0 0 0 62 1 12 63 2 48 5 3 1 69 21 2 46 0 0 0 0 0 0 0 0 62 1 8 104 2 45 6 3 1 67 2 52 0 0 0 0 0 0 0 0 0 7 83 1 20 16 10 23 14 5 7 90 1 40 23 14 0 0 0 0 0 0 29 1 8 19 2 45 6 3 1 12 63 26 11 24 0 0 0 0 0 0 0 40 13 14 108 96 1 7 90 5 61 13 14 1 10 38 0 0 0 0 0 0 7 88 1 61 16 17 5 84 1 20 93 0 0 0 0 0 0 0 0 0 0 7 62 1 58 8 26 98 6 3 1 8 104 2 51 0 0 0 0 0 0 0 11 30 1 9 58 15 25 22 47 5 3 1 12 19 15 42 0 0 0 0 0 7 194 161 10 189 6 10 186 1 196 0 0 0 0 0 0 0 0 0 0 0 7 33 1 12 67 2 45 6 3 95 69 2 43 0 0 0 0 0 0 0 0 7 33 1 12 18 2 54 5 3 1 21 2 46 0 0 0 0 0 0 0 0 29 1 8 104 15 25 22 51 6 3 1 60 2 47 0 0 0 0 0 0 0 7 83 1 40 16 13 14 5 10 38 1 61 13 14 0 0 0 0 0 0 0 115 221 1 40 109 17 13 0 0 0 0 0 0 0 0 0 0 0 0 0 0 35 34 1 104 2 49 5 3 95 9 2 51 0 0 0 0 0 0 0 0 0 29 1 7 102 15 111 22 11 24 5 3 1 12 57 2 44 0 0 0 0 0 3 118 113 10 200 110 166 0 0 0 0 0 0 0 0 0 0 0 0 0 0 29 1 8 60 2 45 6 3 1 9 68 2 41 0 0 0 0 0 0 0 0 35 34 1 12 59 2 41 6 3 157 2 47 0 0 0 0 0 0 0 0 0 61 16 17 1 13 10 85 5 64 13 17 1 7 83 0 0 0 0 0 0 0 4 32 31 1 63 37 11 44 5 3 1 12 18 2 53 0 0 0 0 0 0 29 1 9 57 2 43 5 3 1 9 65 2 41 0 0 0 0 0 0 0 0 29 1 8 19 2 43 5 3 1 18 2 46 0 0 0 0 0 0 0 0 0 27 55 4 70 4 74 6 4 78 0 0 0 0 0 0 0 0 0 0 0 0 29 1 12 67 2 50 6 3 1 9 68 26 11 24 0 0 0 0 0 0 0 3 55 4 28 4 78 6 4 73 0 0 0 0 0 0 0 0 0 0 0 0 61 16 17 1 84 5 39 17 1 10 82 0 0 0 0 0 0 0 0 0 0 39 16 17 1 7 88 5 64 93 1 10 85 0 0 0 0 0 0 0 0 0 7 80 1 40 16 17 13 5 10 85 1 20 13 17 0 0 0 0 0 0 0 20 16 1 13 14 7 86 5 61 13 14 1 7 80 0 0 0 0 0 0 0 29 1 10 81 37 11 46 5 3 1 112 26 11 24 0 0 0 0 0 0 0 10 82 1 39 16 17 5 7 89 1 61 17 0 0 0 0 0 0 0 0 0 7 33 1 9 18 15 25 22 47 5 3 105 103 9 19 2 49 0 0 0 0 10 85 1 40 16 17 13 5 7 83 1 20 13 17 0 0 0 0 0 0 0 29 1 66 15 25 22 51 6 3 1 9 125 2 53 0 0 0 0 0 0 0 99 124 4 28 6 4 75 0 0 0 0 0 0 0 0 0 0 0 0 0 0 20 16 10 23 14 1 7 87 5 39 23 14 1 84 0 0 0 0 0 0 0 3 55 4 78 6 4 77 0 0 0 0 0 0 0 0 0 0 0 0 0 0 29 1 8 59 2 50 5 3 1 19 26 11 24 0 0 0 0 0 0 0 0 7 36 1 12 57 15 25 22 47 5 3 1 18 2 43 0 0 0 0 0 0 99 127 91 4 77 4 75 6 4 28 76 0 0 0 0 0 0 0 0 0 0 29 1 8 67 2 52 6 3 95 9 2 56 0 0 0 0 0 0 0 0 0 7 33 1 8 58 2 54 5 3 95 9 26 11 24 0 0 0 0 0 0 0 36 1 9 66 37 11 44 6 3 1 12 68 2 52 0 0 0 0 0 0 0 10 38 1 20 16 17 5 7 83 1 20 93 0 0 0 0 0 0 0 0 0 35 34 1 9 58 2 49 6 3 1 68 2 43 0 0 0 0 0 0 0 0 27 94 115 110 172 169 0 0 0 0 0 0 0 0 0 0 0 0 0 0 0 20 16 1 13 14 7 87 5 39 13 14 1 7 83 0 0 0 0 0 0 0 7 36 1 8 60 37 11 44 5 3 1 21 26 11 24 0 0 0 0 0 0 39 16 1 13 14 10 85 5 40 13 14 1 7 89 0 0 0 0 0 0 0 29 1 58 69 2 48 6 3 1 12 19 2 41 0 0 0 0 0 0 0 0 4 32 31 1 8 18 15 25 79 56 5 3 1 12 66 2 51 0 0 0 0 35 34 1 12 18 15 25 22 47 5 3 1 8 57 2 44 0 0 0 0 0 7 33 1 18 15 42 6 3 1 8 137 2 56 0 0 0 0 0 0 0 0 4 32 31 1 58 2 50 6 3 1 12 68 2 56 0 0 0 0 0 0 0 36 1 60 2 54 6 3 1 9 57 2 47 0 0 0 0 0 0 0 0 0 27 94 4 77 4 75 6 4 71 0 0 0 0 0 0 0 0 0 0 0 0 4 32 31 1 12 18 37 11 44 6 3 1 112 2 51 0 0 0 0 0 0 29 1 9 60 15 25 79 56 6 3 1 8 112 26 11 24 0 0 0 0 0 36 1 8 19 2 54 5 3 1 12 59 2 44 0 0 0 0 0 0 0 0 3 55 4 73 4 70 6 4 28 76 0 0 0 0 0 0 0 0 0 0 0 107 208 22 136 7 33 26 11 24 114 0 0 0 0 0 0 0 0 0 0 0 7 36 1 8 63 37 11 44 6 3 1 8 19 2 47 0 0 0 0 0 0 20 16 10 23 14 1 7 90 5 40 23 14 1 10 82 0 0 0 0 0 0 11 30 1 66 37 11 24 6 3 1 57 2 50 0 0 0 0 0 0 0 0 7 33 1 12 68 2 43 5 3 1 9 18 2 44 0 0 0 0 0 0 0 11 30 1 26 63 37 11 44 6 3 1 8 19 2 41 0 0 0 0 0 0 7 86 1 20 16 10 23 14 5 7 80 1 39 23 14 0 0 0 0 0 0 29 1 9 60 15 42 6 3 1 9 117 2 41 0 0 0 0 0 0 0 0 61 13 14 16 1 84 5 39 13 14 1 10 82 0 0 0 0 0 0 0 0 7 83 1 61 16 17 13 5 10 85 1 40 17 13 0 0 0 0 0 0 0 7 33 1 9 18 2 43 6 3 1 9 66 2 47 0 0 0 0 0 0 0 62 1 9 7 102 2 49 6 3 1 67 2 45 0 0 0 0 0 0 0 0 36 1 104 2 24 5 3 1 60 2 54 0 0 0 0 0 0 0 0 0 0 40 109 10 23 156 1 115 214 0 0 0 0 0 0 0 0 0 0 0 0 0 20 16 17 1 13 7 86 5 40 13 140 1 7 89 0 0 0 0 0 0 0 7 87 1 64 16 17 5 7 88 1 39 17 0 0 0 0 0 0 0 0 0 3 1 198 22 164 161 186 6 187 0 0 0 0 0 0 0 0 0 0 0 0 84 1 20 16 17 5 7 87 1 64 93 0 0 0 0 0 0 0 0 0 0 11 30 1 58 2 49 6 3 1 8 21 26 11 24 0 0 0 0 0 0 0 11 30 1 9 18 2 51 6 3 1 12 60 2 56 0 0 0 0 0 0 0 129 96 10 23 14 1 7 80 5 20 23 14 1 7 83 0 0 0 0 0 0 27 1 15 230 79 120 97 150 174 0 0 0 0 0 0 0 0 0 0 0 0 61 16 17 1 7 90 5 40 93 1 7 88 0 0 0 0 0 0 0 0 0 4 32 31 1 19 2 52 5 3 1 12 92 2 45 0 0 0 0 0 0 0 27 94 4 71 4 28 6 4 73 0 0 0 0 0 0 0 0 0 0 0 0 27 55 10 82 10 38 6 4 70 0 0 0 0 0 0 0 0 0 0 0 0 3 55 4 28 4 73 6 4 74 0 0 0 0 0 0 0 0 0 0 0 0 35 34 1 9 18 2 43 6 3 1 12 59 2 41 0 0 0 0 0 0 0 10 85 1 40 16 17 5 7 86 1 39 17 0 0 0 0 0 0 0 0 0 27 94 4 72 4 75 6 4 70 0 0 0 0 0 0 0 0 0 0 0 0 7 33 1 8 19 2 50 6 3 1 8 92 15 42 0 0 0 0 0 0 0 4 32 31 1 12 19 2 51 6 3 1 8 21 2 41 0 0 0 0 0 0 4 32 31 1 9 60 2 49 5 3 1 69 21 2 47 0 0 0 0 0 0 3 113 7 168 97 155 0 0 0 0 0 0 0 0 0 0 0 0 0 0 0 7 36 1 8 104 26 98 5 3 1 19 2 47 0 0 0 0 0 0 0 0 36 1 12 92 2 49 5 9 26 63 2 51 0 0 0 0 0 0 0 0 0 35 34 105 95 2 41 6 3 1 12 59 2 49 0 0 0 0 0 0 0 0 27 94 4 28 4 70 6 4 73 0 0 0 0 0 0 0 0 0 0 0 0 11 30 1 9 18 2 41 6 3 1 67 2 49 0 0 0 0 0 0 0 0 20 16 17 1 7 80 5 40 93 1 7 90 0 0 0 0 0 0 0 0 0 3 203 123 2 62 15 42 142 0 0 0 0 0 0 0 0 0 0 0 0 0 36 1 21 2 54 6 3 1 8 18 2 44 0 0 0 0 0 0 0 0 0 3 100 4 74 4 28 6 4 75 0 0 0 0 0 0 0 0 0 0 0 0 7 33 1 8 58 2 43 6 3 1 12 60 2 56 0 0 0 0 0 0 0 7 83 1 39 16 17 0 0 0 0 0 0 0 0 0 0 0 0 0 0 0 27 55 4 70 4 77 6 4 71 0 0 0 0 0 0 0 0 0 0 0 0 35 34 1 18 2 41 6 3 1 8 10 81 2 46 0 0 0 0 0 0 0 36 1 19 2 43 5 3 1 8 10 81 15 42 0 0 0 0 0 0 0 0 10 85 1 61 16 13 14 5 7 90 1 20 13 14 0 0 0 0 0 0 0 170 323 141 131 108 257 175 0 0 0 0 0 0 0 0 0 0 0 0 0 0 35 34 1 12 65 2 43 6 3 157 2 47 0 0 0 0 0 0 0 0 0 36 1 19 37 11 44 5 3 1 67 2 48 0 0 0 0 0 0 0 0 0 7 90 1 39 16 10 23 14 5 84 1 40 23 14 0 0 0 0 0 0 0 20 16 10 23 14 1 7 83 5 39 23 14 1 7 86 0 0 0 0 0 0 10 82 1 39 16 17 5 7 87 1 64 93 0 0 0 0 0 0 0 0 0 101 1 9 59 2 49 5 3 1 19 2 45 0 0 0 0 0 0 0 0 0 27 55 4 71 4 28 6 4 70 0 0 0 0 0 0 0 0 0 0 0 0 3 118 149 244 182 154 0 0 0 0 0 0 0 0 0 0 0 0 0 0 0 11 30 1 12 63 2 53 5 3 1 9 60 2 43 0 0 0 0 0 0 0 10 82 1 61 16 17 5 10 85 1 20 93 0 0 0 0 0 0 0 0 0 7 90 1 13 20 16 17 5 7 80 1 40 17 13 0 0 0 0 0 0 0 29 1 8 66 37 11 46 6 3 1 12 65 2 56 0 0 0 0 0 0 0 35 34 1 8 19 2 43 6 3 1 21 2 52 0 0 0 0 0 0 0 0 27 100 120 148 97 153 0 0 0 0 0 0 0 0 0 0 0 0 0 0 0 29 1 10 81 69 2 54 6 3 1 12 65 2 48 0 0 0 0 0 0 0 62 1 12 66 2 54 5 3 1 9 68 2 46 0 0 0 0 0 0 0 0 107 126 28 76 4 74 6 4 28 0 0 0 0 0 0 0 0 0 0 0 0 191 96 13 14 1 10 38 5 61 13 14 1 7 80 0 0 0 0 0 0 0 11 30 1 69 21 15 42 5 3 1 9 117 2 52 0 0 0 0 0 0 0 35 34 1 58 2 43 6 3 1 8 63 26 11 24 0 0 0 0 0 0 0 135 4 70 4 72 6 4 74 0 0 0 0 0 0 0 0 0 0 0 0 0 7 33 1 9 60 2 49 6 3 1 8 63 2 46 0 0 0 0 0 0 0 7 33 1 8 19 15 42 5 3 1 8 18 2 50 0 0 0 0 0 0 0 4 32 31 1 21 37 11 46 6 3 1 9 68 2 41 0 0 0 0 0 0 7 80 1 39 13 14 108 96 5 7 88 1 61 13 14 0 0 0 0 0 0 33 1 21 15 25 22 47 5 3 1 9 60 2 43 0 0 0 0 0 0 0 29 1 195 26 98 6 3 1 59 2 47 0 0 0 0 0 0 0 0 0 0 29 1 12 60 2 54 6 3 1 58 69 2 50 0 0 0 0 0 0 0 0 4 32 31 1 59 15 25 22 47 5 3 1 12 67 2 41 0 0 0 0 0 20 16 10 23 14 1 7 83 5 20 23 14 1 7 88 0 0 0 0 0 0 35 34 1 12 60 2 45 5 3 1 9 59 2 47 0 0 0 0 0 0 0 27 55 4 74 28 76 6 4 71 0 0 0 0 0 0 0 0 0 0 0 0 3 145 115 163 110 172 0 0 0 0 0 0 0 0 0 0 0 0 0 0 0 29 1 12 67 2 50 6 3 1 9 66 2 51 0 0 0 0 0 0 0 0 62 1 8 57 37 11 44 5 9 108 177 2 50 0 0 0 0 0 0 0 0 35 34 1 8 66 37 11 46 5 3 1 9 21 2 43 0 0 0 0 0 0 29 1 9 58 15 25 22 51 5 3 1 19 2 47 0 0 0 0 0 0 0 29 1 9 57 37 11 44 5 9 22 102 2 41 0 0 0 0 0 0 0 0 39 16 17 1 7 90 0 0 0 0 0 0 0 0 0 0 0 0 0 0 0 62 1 18 2 49 5 3 1 58 8 2 43 0 0 0 0 0 0 0 0 0 40 16 17 1 10 85 5 20 17 1 10 38 0 0 0 0 0 0 0 0 0 11 30 1 8 63 2 50 6 3 1 9 19 2 41 0 0 0 0 0 0 0 3 55 91 7 147 97 162 0 0 0 0 0 0 0 0 0 0 0 0 0 0 29 1 8 21 2 41 5 3 1 8 21 2 54 0 0 0 0 0 0 0 0 11 30 1 9 58 26 98 5 3 1 9 226 22 227 26 11 24 0 0 0 0 99 124 10 38 4 74 6 4 77 0 0 0 0 0 0 0 0 0 0 0 0 99 127 4 74 4 73 6 4 71 0 0 0 0 0 0 0 0 0 0 0 0 29 1 12 18 2 52 6 3 1 8 58 2 54 0 0 0 0 0 0 0 0 35 34 1 9 66 15 42 6 3 1 58 69 2 52 0 0 0 0 0 0 0 29 1 9 67 37 11 46 5 3 1 18 2 50 0 0 0 0 0 0 0 0 27 55 4 73 4 71 6 4 75 0 0 0 0 0 0 0 0 0 0 0 0 20 16 1 13 14 7 88 5 64 13 14 1 7 89 0 0 0 0 0 0 0 10 38 1 20 16 17 5 7 83 1 39 17 0 0 0 0 0 0 0 0 0 99 124 4 72 4 77 6 4 75 0 0 0 0 0 0 0 0 0 0 0 0 20 16 1 13 14 84 5 39 13 14 1 7 86 0 0 0 0 0 0 0 0 3 55 91 10 38 4 73 6 4 71 0 0 0 0 0 0 0 0 0 0 0 101 1 9 18 2 48 6 3 1 12 19 2 53 0 0 0 0 0 0 0 0 10 85 1 61 16 13 14 5 7 86 27 1 13 14 0 0 0 0 0 0 0 20 109 10 23 14 1 192 236 0 0 0 0 0 0 0 0 0 0 0 0 0 29 1 21 2 45 6 3 1 8 139 26 11 24 0 0 0 0 0 0 0 0 27 145 121 148 97 153 0 0 0 0 0 0 0 0 0 0 0 0 0 0 0 3 55 4 78 4 72 6 4 74 0 0 0 0 0 0 0 0 0 0 0 0 3 55 4 75 4 78 6 4 73 0 0 0 0 0 0 0 0 0 0 0 0 101 1 58 69 2 43 5 3 1 12 65 2 56 0 0 0 0 0 0 0 0 11 30 1 12 59 2 53 5 3 1 9 60 2 52 0 0 0 0 0 0 0 7 36 1 10 81 69 15 42 5 3 1 8 137 2 43 0 0 0 0 0 0 3 55 4 78 4 70 6 4 28 76 0 0 0 0 0 0 0 0 0 0 0 36 1 19 37 11 44 6 3 1 8 63 2 45 0 0 0 0 0 0 0 0 11 30 1 9 125 2 52 5 3 1 8 10 81 2 53 0 0 0 0 0 0 191 96 13 14 1 7 83 5 64 13 14 1 7 80 0 0 0 0 0 0 0 11 30 1 8 7 102 2 43 6 3 1 21 2 49 0 0 0 0 0 0 0 3 100 4 72 10 38 6 4 75 0 0 0 0 0 0 0 0 0 0 0 0 7 80 1 20 16 10 23 14 5 7 86 1 61 23 14 0 0 0 0 0 0 4 32 31 1 9 66 2 48 6 3 1 67 2 51 0 0 0 0 0 0 0 27 55 4 74 10 38 6 4 71 0 0 0 0 0 0 0 0 0 0 0 0 39 13 14 1 10 16 22 38 5 27 1 13 14 84 0 0 0 0 0 0 0 11 30 1 8 65 37 11 46 6 3 1 8 19 2 52 0 0 0 0 0 0 27 143 121 151 97 134 0 0 0 0 0 0 0 0 0 0 0 0 0 0 0 3 158 91 7 147 97 162 0 0 0 0 0 0 0 0 0 0 0 0 0 0 146 10 218 1 40 109 10 23 14 0 0 0 0 0 0 0 0 0 0 0 0 10 220 1 20 109 10 23 14 0 0 0 0 0 0 0 0 0 0 0 0 0 29 1 12 19 15 25 22 47 6 3 1 9 57 2 50 0 0 0 0 0 0 7 33 1 9 18 2 46 5 3 1 12 67 2 43 0 0 0 0 0 0 0 101 1 9 65 15 25 22 51 5 3 1 21 2 54 0 0 0 0 0 0 0 35 34 1 9 66 2 48 5 3 1 8 68 15 42 0 0 0 0 0 0 0 62 1 8 60 2 43 5 3 1 12 67 2 52 0 0 0 0 0 0 0 0 7 33 1 12 21 2 41 5 3 1 8 67 2 54 0 0 0 0 0 0 0 10 82 1 20 16 10 23 14 5 7 90 27 1 10 23 14 0 0 0 0 0 1 3 223 15 35 34 0 0 0 0 0 0 0 0 0 0 0 0 0 0 0 4 32 31 1 9 58 15 25 22 48 6 3 1 8 60 26 11 24 0 0 0 20 16 17 1 7 88 5 20 17 1 10 85 0 0 0 0 0 0 0 0 0 11 30 1 59 15 25 22 53 6 3 1 21 2 43 0 0 0 0 0 0 0 3 158 91 144 163 110 166 0 0 0 0 0 0 0 0 0 0 0 0 0 0 7 86 1 64 16 17 5 7 83 1 20 93 0 0 0 0 0 0 0 0 0 35 34 1 19 15 25 22 45 5 3 1 12 18 2 48 0 0 0 0 0 0 11 30 1 104 15 42 6 3 105 103 9 19 2 49 0 0 0 0 0 0 0 20 16 10 23 14 1 84 5 40 23 14 1 7 90 0 0 0 0 0 0 0 62 105 103 9 19 15 25 22 45 5 3 1 8 21 26 11 24 0 0 0 0 3 113 120 168 97 155 0 0 0 0 0 0 0 0 0 0 0 0 0 0 0 64 16 17 1 10 38 5 39 17 1 7 86 0 0 0 0 0 0 0 0 0 35 34 1 9 66 15 111 22 11 24 6 3 1 8 68 2 43 0 0 0 0 33 1 66 37 11 24 6 3 1 8 10 81 2 53 0 0 0 0 0 0 0 4 32 31 1 12 21 2 52 6 3 1 8 18 2 41 0 0 0 0 0 0 29 1 9 59 2 43 6 3 1 12 63 2 45 0 0 0 0 0 0 0 0 29 1 8 60 15 25 22 48 5 3 1 8 19 2 44 0 0 0 0 0 0 35 34 1 12 59 26 98 5 3 1 9 18 2 47 0 0 0 0 0 0 0 36 1 9 7 102 2 49 6 3 1 8 59 2 47 0 0 0 0 0 0 0 7 33 1 8 58 2 48 6 3 1 67 2 43 0 0 0 0 0 0 0 0 62 1 8 57 2 50 5 3 1 8 68 2 56 0 0 0 0 0 0 0 0 35 34 1 9 18 2 43 5 3 1 21 2 52 0 0 0 0 0 0 0 0 62 1 8 104 15 42 6 3 1 12 57 26 11 24 0 0 0 0 0 0 0 107 126 10 38 4 70 6 4 78 0 0 0 0 0 0 0 0 0 0 0 0 36 1 9 59 37 11 46 5 3 1 8 19 2 51 0 0 0 0 0 0 0 7 33 1 10 81 2 41 6 3 1 57 26 11 24 0 0 0 0 0 0 0 35 34 1 60 2 41 5 3 1 8 59 2 50 0 0 0 0 0 0 0 0 7 83 1 10 16 10 23 14 64 5 10 82 1 10 23 14 0 0 0 0 0 84 1 20 16 17 13 5 7 88 1 61 13 17 0 0 0 0 0 0 0 0 99 127 91 28 76 4 77 6 4 71 0 0 0 0 0 0 0 0 0 0 0 7 36 1 8 10 81 2 48 6 3 1 9 19 2 52 0 0 0 0 0 0 29 1 8 10 81 2 43 5 3 1 19 2 50 0 0 0 0 0 0 0 0 4 32 31 1 9 117 2 50 6 3 1 65 2 51 0 0 0 0 0 0 0 101 1 8 18 2 53 5 3 1 8 19 15 42 0 0 0 0 0 0 0 0 7 33 1 9 60 2 48 5 3 1 19 2 47 0 0 0 0 0 0 0 0 99 127 91 4 77 4 74 6 4 75 0 0 0 0 0 0 0 0 0 0 0 39 16 10 23 14 1 7 87 5 64 23 14 1 10 85 0 0 0 0 0 0 7 33 1 60 26 98 5 3 1 12 92 2 41 0 0 0 0 0 0 0 0 11 30 1 104 26 98 5 3 1 9 59 2 49 0 0 0 0 0 0 0 0 29 1 59 26 98 5 3 1 58 2 52 0 0 0 0 0 0 0 0 0 0 3 55 4 73 4 28 6 4 28 76 0 0 0 0 0 0 0 0 0 0 0 36 1 19 2 52 5 3 1 21 2 50 0 0 0 0 0 0 0 0 0 0 29 1 12 59 2 49 6 3 1 9 22 102 2 41 0 0 0 0 0 0 0 7 89 1 20 16 17 13 5 7 86 1 39 17 13 0 0 0 0 0 0 0 10 85 1 20 16 13 14 5 7 88 1 61 13 14 0 0 0 0 0 0 0 29 1 57 15 25 22 48 5 3 1 65 26 11 24 0 0 0 0 0 0 0 106 130 4 74 6 4 71 0 0 0 0 0 0 0 0 0 0 0 0 0 0 101 1 8 18 37 11 44 5 3 1 67 2 43 0 0 0 0 0 0 0 0 4 32 31 1 9 68 2 54 5 3 1 8 19 2 51 0 0 0 0 0 0 20 16 1 13 14 7 83 5 61 13 14 1 7 88 0 0 0 0 0 0 0 99 127 10 38 4 75 6 4 70 0 0 0 0 0 0 0 0 0 0 0 0 99 127 4 75 28 76 6 4 71 0 0 0 0 0 0 0 0 0 0 0 0 40 16 17 13 1 10 38 5 64 13 17 1 7 80 0 0 0 0 0 0 0 29 1 8 18 37 11 44 5 3 1 9 19 2 43 0 0 0 0 0 0 0 4 32 31 1 12 18 15 42 5 3 1 8 66 26 11 24 0 0 0 0 0 36 1 104 2 45 6 3 1 8 18 2 46 0 0 0 0 0 0 0 0 0 116 100 4 78 4 77 6 4 71 0 0 0 0 0 0 0 0 0 0 0 0 3 94 4 71 4 78 6 4 75 0 0 0 0 0 0 0 0 0 0 0 0 3 55 91 4 77 6 4 74 0 0 0 0 0 0 0 0 0 0 0 0 0 11 30 1 243 15 42 6 3 1 9 65 2 56 0 0 0 0 0 0 0 0 33 105 103 9 19 2 41 5 3 1 69 21 2 48 0 0 0 0 0 0 0 7 89 1 39 13 14 108 96 5 10 85 1 61 13 14 0 0 0 0 0 0 7 80 1 20 13 14 108 96 5 7 87 1 39 13 14 0 0 0 0 0 0 4 32 31 1 19 37 11 44 5 3 1 21 15 42 0 0 0 0 0 0 0 35 34 1 58 8 2 49 5 3 95 69 2 56 0 0 0 0 0 0 0 0 4 32 31 1 9 66 2 49 6 3 1 8 92 2 53 0 0 0 0 0 0 35 34 1 9 18 2 52 5 3 1 9 60 26 11 24 0 0 0 0 0 0 3 55 10 38 28 76 6 4 77 0 0 0 0 0 0 0 0 0 0 0 0 4 32 31 1 9 125 2 43 6 3 1 65 2 44 0 0 0 0 0 0 0 3 118 113 7 97 150 174 0 0 0 0 0 0 0 0 0 0 0 0 0 0 64 16 1 13 14 10 82 5 20 13 14 1 10 38 0 0 0 0 0 0 0 4 32 31 1 9 65 2 49 6 3 1 8 57 2 50 0 0 0 0 0 0 3 55 91 28 76 10 38 6 4 28 0 0 0 0 0 0 0 0 0 0 0 11 30 1 12 92 15 25 79 56 5 3 1 21 2 47 0 0 0 0 0 0 27 143 7 151 97 153 0 0 0 0 0 0 0 0 0 0 0 0 0 0 0 62 1 9 63 2 50 5 3 1 68 2 54 0 0 0 0 0 0 0 0 0 35 34 1 9 57 2 54 5 3 1 9 21 2 41 0 0 0 0 0 0 0 20 16 17 1 13 7 88 5 20 13 17 1 10 38 0 0 0 0 0 0 0 36 1 12 18 2 41 6 3 1 12 63 2 50 0 0 0 0 0 0 0 0 11 30 1 12 19 15 42 5 3 1 57 2 47 0 0 0 0 0 0 0 0 212 99 124 278 0 0 0 0 0 0 0 0 0 0 0 0 0 0 0 0 0 7 87 1 20 16 10 23 14 5 7 89 1 64 23 14 0 0 0 0 0 0 3 94 4 70 4 78 6 4 73 0 0 0 0 0 0 0 0 0 0 0 0 135 4 74 4 73 6 4 28 0 0 0 0 0 0 0 0 0 0 0 0 0 11 30 1 9 19 2 50 5 3 1 21 2 49 0 0 0 0 0 0 0 0 27 94 4 28 4 77 6 28 76 0 0 0 0 0 0 0 0 0 0 0 0 29 1 9 26 63 15 42 6 3 1 9 65 2 43 0 0 0 0 0 0 0 7 90 1 20 16 17 5 10 85 1 39 17 0 0 0 0 0 0 0 0 0 36 1 9 125 2 50 5 3 1 60 2 51 0 0 0 0 0 0 0 0 0 7 90 1 64 16 17 13 5 7 89 1 20 13 17 0 0 0 0 0 0 0 7 33 1 104 2 24 6 3 1 9 59 2 44 0 0 0 0 0 0 0 0 27 55 7 288 153 193 0 0 0 0 0 0 0 0 0 0 0 0 0 0 0 11 30 1 9 21 15 42 6 3 1 68 2 50 0 0 0 0 0 0 0 0 20 16 17 1 10 38 5 61 17 1 7 80 0 0 0 0 0 0 0 0 0 11 30 1 104 2 50 6 3 95 9 2 56 0 0 0 0 0 0 0 0 0 7 62 1 10 81 2 49 6 3 1 9 65 2 56 0 0 0 0 0 0 0 3 55 4 70 6 4 75 0 0 0 0 0 0 0 0 0 0 0 0 0 0 27 113 120 148 97 150 0 0 0 0 0 0 0 0 0 0 0 0 0 0 0 106 130 28 76 4 74 6 4 73 0 0 0 0 0 0 0 0 0 0 0 0 20 16 10 23 14 1 10 85 5 61 23 14 1 7 89 0 0 0 0 0 0 4 32 31 1 9 19 15 25 22 47 5 3 1 8 67 2 50 0 0 0 0 27 55 4 77 4 74 6 4 78 0 0 0 0 0 0 0 0 0 0 0 0 29 1 69 21 2 41 6 3 1 8 10 81 2 53 0 0 0 0 0 0 0 116 100 4 74 4 72 6 4 77 0 0 0 0 0 0 0 0 0 0 0 0 29 1 9 66 15 111 22 11 24 5 9 22 102 2 52 0 0 0 0 0 0 129 96 10 23 14 1 7 80 5 61 23 14 1 7 88 0 0 0 0 0 0 29 1 12 66 15 25 22 51 5 3 1 9 18 2 48 0 0 0 0 0 0 146 7 201 1 39 109 10 23 156 0 0 0 0 0 0 0 0 0 0 0 0 4 32 31 1 9 19 2 41 6 3 1 8 59 26 11 24 0 0 0 0 0 27 55 4 74 4 70 6 4 28 0 0 0 0 0 0 0 0 0 0 0 0 29 1 8 112 15 25 22 51 5 3 1 66 2 50 0 0 0 0 0 0 0 3 160 171 1 198 22 164 185 187 0 0 0 0 0 0 0 0 0 0 0 0 27 55 4 77 78 6 28 0 0 0 0 0 0 0 0 0 0 0 0 0 0 3 100 4 75 28 76 6 4 74 0 0 0 0 0 0 0 0 0 0 0 0 11 30 1 9 59 37 11 44 5 3 1 8 18 2 52 0 0 0 0 0 0 106 130 28 76 4 73 6 4 28 0 0 0 0 0 0 0 0 0 0 0 0 4 32 31 1 8 21 15 25 79 56 5 3 1 8 60 2 46 0 0 0 0 11 30 1 7 102 2 54 5 3 1 9 21 2 56 0 0 0 0 0 0 0 27 94 10 38 4 71 6 4 78 0 0 0 0 0 0 0 0 0 0 0 0 116 100 38 4 71 6 4 78 0 0 0 0 0 0 0 0 0 0 0 0 0 20 16 1 13 14 7 87 5 40 13 14 1 10 38 0 0 0 0 0 0 0 36 1 8 63 37 11 46 5 3 1 21 2 53 0 0 0 0 0 0 0 0 84 1 20 16 10 23 14 5 7 83 1 64 23 14 0 0 0 0 0 0 0 7 90 1 61 16 13 14 5 7 83 1 64 13 14 0 0 0 0 0 0 0 29 1 68 2 52 6 3 1 8 19 2 41 0 0 0 0 0 0 0 0 0 27 55 4 70 4 74 6 4 77 0 0 0 0 0 0 0 0 0 0 0 0 11 30 1 18 2 52 5 3 1 12 57 2 43 0 0 0 0 0 0 0 0 29 1 9 19 2 52 6 3 1 9 57 2 49 0 0 0 0 0 0 0 0 36 105 103 9 19 15 25 79 56 5 3 1 58 69 2 44 0 0 0 0 0 20 16 10 23 14 1 7 86 5 39 23 14 1 7 87 0 0 0 0 0 0 135 4 73 4 28 76 6 4 74 0 0 0 0 0 0 0 0 0 0 0 0 29 1 9 58 2 53 5 3 1 9 21 2 48 0 0 0 0 0 0 0 0 35 34 1 8 21 2 49 6 3 1 59 2 43 0 0 0 0 0 0 0 0 29 1 8 63 2 49 5 3 1 12 66 2 53 0 0 0 0 0 0 0 0 36 1 63 2 52 5 3 1 8 21 2 53 0 0 0 0 0 0 0 0 0 29 1 68 15 25 22 51 5 3 1 8 65 26 11 24 0 0 0 0 0 0 7 80 1 64 16 17 5 10 38 1 61 17 0 0 0 0 0 0 0 0 0 7 33 1 12 59 2 43 5 3 1 12 68 26 11 24 0 0 0 0 0 0 116 207 22 136 7 36 2 46 0 0 0 0 0 0 0 0 0 0 0 0 0 64 16 17 1 10 38 5 20 17 1 7 88 0 0 0 0 0 0 0 0 0 3 55 115 248 110 176 0 0 0 0 0 0 0 0 0 0 0 0 0 0 0 35 34 1 9 117 15 42 6 3 1 21 2 48 0 0 0 0 0 0 0 0 35 34 1 19 2 54 5 3 1 9 59 2 41 0 0 0 0 0 0 0 0 27 94 4 75 6 4 78 0 0 0 0 0 0 0 0 0 0 0 0 0 0 3 94 121 147 97 153 0 0 0 0 0 0 0 0 0 0 0 0 0 0 0 36 1 8 18 2 54 6 3 1 18 15 42 0 0 0 0 0 0 0 0 0 29 1 9 138 2 50 5 9 26 63 26 11 24 0 0 0 0 0 0 0 0 99 131 233 2 36 11 24 142 0 0 0 0 0 0 0 0 0 0 0 0 0 11 30 1 8 59 2 50 6 3 1 112 2 45 0 0 0 0 0 0 0 0 101 1 9 65 2 41 5 3 1 8 67 26 11 24 0 0 0 0 0 0 0 35 34 105 103 9 19 15 111 22 11 24 6 3 1 60 2 43 0 0 0 0 29 1 9 18 26 98 6 3 1 12 19 2 46 0 0 0 0 0 0 0 0 61 16 17 13 1 7 83 5 40 13 140 1 7 89 0 0 0 0 0 0 0 3 100 4 74 4 78 6 10 38 0 0 0 0 0 0 0 0 0 0 0 0 4 32 31 1 12 67 37 11 46 6 3 1 8 18 26 11 24 0 0 0 0 62 1 8 92 2 49 6 3 1 66 15 42 0 0 0 0 0 0 0 0 0 27 55 4 78 4 28 6 4 70 0 0 0 0 0 0 0 0 0 0 0 0 135 4 71 6 4 77 0 0 0 0 0 0 0 0 0 0 0 0 0 0 0 7 33 1 12 63 15 111 22 11 24 5 3 95 15 42 0 0 0 0 0 0 7 33 1 8 10 81 2 48 6 3 1 8 63 2 41 0 0 0 0 0 0 29 1 9 22 102 15 25 22 47 5 3 1 58 69 2 50 0 0 0 0 0 20 16 1 13 14 10 82 5 64 13 14 1 7 83 0 0 0 0 0 0 0 11 30 1 12 68 2 24 5 3 1 8 18 2 45 0 0 0 0 0 0 0 129 96 13 14 1 7 83 5 39 13 14 1 84 0 0 0 0 0 0 0 0 135 10 38 4 77 6 4 70 0 0 0 0 0 0 0 0 0 0 0 0 0 3 55 4 28 4 73 6 4 71 0 0 0 0 0 0 0 0 0 0 0 0 35 34 1 8 21 2 48 5 3 1 19 2 56 0 0 0 0 0 0 0 0 11 30 1 12 68 15 25 79 56 5 9 22 102 2 48 0 0 0 0 0 0 99 124 10 38 6 4 75 0 0 0 0 0 0 0 0 0 0 0 0 0 0 29 1 9 58 37 11 44 6 3 95 2 53 0 0 0 0 0 0 0 0 0 29 1 8 19 2 41 6 3 157 26 11 24 0 0 0 0 0 0 0 0 0 7 62 1 9 10 81 2 49 5 3 1 8 18 2 51 0 0 0 0 0 0 36 1 58 26 98 5 3 1 8 21 2 45 0 0 0 0 0 0 0 0 0 40 16 10 23 14 1 84 5 20 23 14 1 10 38 0 0 0 0 0 0 0 27 143 146 165 97 134 0 0 0 0 0 0 0 0 0 0 0 0 0 0 0 7 86 1 61 16 13 14 5 7 88 1 64 13 14 0 0 0 0 0 0 0 11 30 1 8 21 37 11 46 5 3 1 12 92 2 48 0 0 0 0 0 0 115 216 122 20 109 17 13 0 0 0 0 0 0 0 0 0 0 0 0 0 0 107 126 4 77 4 75 6 4 72 0 0 0 0 0 0 0 0 0 0 0 0 107 126 4 78 4 74 6 4 70 0 0 0 0 0 0 0 0 0 0 0 0 3 143 10 248 110 134 0 0 0 0 0 0 0 0 0 0 0 0 0 0 0 11 30 1 10 81 2 45 5 3 1 8 67 2 53 0 0 0 0 0 0 0 35 34 1 9 65 2 52 5 3 1 9 19 2 48 0 0 0 0 0 0 0 27 1 10 344 22 7 224 97 134 0 0 0 0 0 0 0 0 0 0 0 0 62 1 9 19 2 41 5 3 1 12 65 2 56 0 0 0 0 0 0 0 0 10 82 1 64 16 17 13 5 7 88 1 20 13 17 0 0 0 0 0 0 0 35 34 1 10 81 37 11 46 5 3 1 8 63 2 49 0 0 0 0 0 0 27 178 22 167 181 2 62 2 50 0 0 0 0 0 0 0 0 0 0 0 0 4 32 31 1 21 15 25 22 53 6 3 1 12 21 2 41 0 0 0 0 0 27 55 4 71 4 28 6 4 28 76 0 0 0 0 0 0 0 0 0 0 0 3 55 91 10 38 4 71 6 4 28 0 0 0 0 0 0 0 0 0 0 0 20 16 17 1 10 85 5 40 93 1 7 83 0 0 0 0 0 0 0 0 0 7 33 1 9 58 2 49 6 3 1 12 19 2 41 0 0 0 0 0 0 0 263 179 209 141 175 0 0 0 0 0 0 0 0 0 0 0 0 0 0 0 0 4 32 31 1 7 102 2 45 5 3 105 103 9 19 2 52 0 0 0 0 0 7 33 1 12 18 2 43 5 3 95 9 2 49 0 0 0 0 0 0 0 0 62 1 69 21 15 42 5 9 108 177 2 54 0 0 0 0 0 0 0 0 0 36 1 9 117 2 43 6 3 1 8 65 2 44 0 0 0 0 0 0 0 0 4 32 31 1 8 21 2 52 6 3 1 8 57 26 11 24 0 0 0 0 0 64 16 17 1 84 5 20 93 1 7 88 0 0 0 0 0 0 0 0 0 0 20 16 17 13 1 7 80 5 39 17 13 1 7 90 0 0 0 0 0 0 0 99 124 4 72 4 28 6 4 159 0 0 0 0 0 0 0 0 0 0 0 0 35 34 1 21 2 52 5 3 1 8 21 2 54 0 0 0 0 0 0 0 0 7 36 1 8 306 2 50 6 3 1 8 112 2 52 0 0 0 0 0 0 0 4 32 31 1 21 15 25 22 45 5 3 1 8 21 15 42 0 0 0 0 0 40 16 1 13 14 7 80 5 61 13 14 1 7 86 0 0 0 0 0 0 0 35 34 1 12 60 2 51 6 3 1 12 65 2 43 0 0 0 0 0 0 0 7 33 1 9 18 15 25 22 47 5 3 1 8 66 2 51 0 0 0 0 0 35 34 1 12 63 15 111 22 11 24 5 3 1 8 66 2 56 0 0 0 0 33 1 57 2 43 6 3 1 12 19 2 50 0 0 0 0 0 0 0 0 0 29 1 12 59 2 52 6 3 1 9 65 2 45 0 0 0 0 0 0 0 0 20 16 10 23 14 1 10 38 5 61 23 14 1 10 82 0 0 0 0 0 0 135 4 71 4 72 6 10 38 0 0 0 0 0 0 0 0 0 0 0 0 0 39 16 17 1 7 80 5 20 17 1 10 85 0 0 0 0 0 0 0 0 0 7 33 1 9 19 2 48 6 3 1 57 2 50 0 0 0 0 0 0 0 0 11 30 1 8 18 15 25 22 47 6 3 95 9 2 41 0 0 0 0 0 0 7 89 1 20 16 13 14 0 0 0 0 0 0 0 0 0 0 0 0 0 0 62 1 12 63 2 50 5 3 1 12 19 2 48 0 0 0 0 0 0 0 0 35 34 1 63 37 11 44 6 3 1 9 68 2 50 0 0 0 0 0 0 0 64 16 17 1 13 84 5 39 17 13 1 7 90 0 0 0 0 0 0 0 0 29 1 9 125 2 48 6 3 1 67 26 11 24 0 0 0 0 0 0 0 0 29 1 8 18 2 41 6 3 1 9 68 2 43 0 0 0 0 0 0 0 0 27 145 120 148 97 150 0 0 0 0 0 0 0 0 0 0 0 0 0 0 0 146 11 219 122 20 109 10 23 14 0 0 0 0 0 0 0 0 0 0 0 0 99 124 4 71 4 73 6 4 74 0 0 0 0 0 0 0 0 0 0 0 0 35 34 1 7 102 2 41 6 3 1 8 137 2 52 0 0 0 0 0 0 0 29 1 8 112 37 11 46 6 3 1 9 21 2 48 0 0 0 0 0 0 0 3 94 4 71 10 38 6 4 74 0 0 0 0 0 0 0 0 0 0 0 0 106 130 4 73 4 72 6 4 28 76 0 0 0 0 0 0 0 0 0 0 0 27 55 28 76 4 28 6 4 77 0 0 0 0 0 0 0 0 0 0 0 0 4 32 31 1 12 18 2 52 5 3 1 12 21 2 53 0 0 0 0 0 0 33 1 21 2 54 6 3 1 9 57 2 43 0 0 0 0 0 0 0 0 0 27 158 91 144 183 110 172 0 0 0 0 0 0 0 0 0 0 0 0 0 0 3 55 4 70 4 75 6 4 28 0 0 0 0 0 0 0 0 0 0 0 0 3 94 4 70 4 28 6 4 74 0 0 0 0 0 0 0 0 0 0 0 0 29 1 9 66 2 48 5 3 1 9 125 2 44 0 0 0 0 0 0 0 0 11 30 1 12 60 2 51 6 3 1 8 18 26 11 24 0 0 0 0 0 0 3 118 113 144 200 110 133 0 0 0 0 0 0 0 0 0 0 0 0 0 0 99 124 4 78 4 77 6 4 74 0 0 0 0 0 0 0 0 0 0 0 0 40 16 17 13 1 7 83 5 61 13 17 1 7 80 0 0 0 0 0 0 0 62 1 8 104 26 98 5 3 1 60 2 45 0 0 0 0 0 0 0 0 0 20 16 17 1 7 88 5 40 93 1 7 87 0 0 0 0 0 0 0 0 0 27 158 91 7 151 97 153 0 0 0 0 0 0 0 0 0 0 0 0 0 0 36 1 8 66 2 50 6 3 1 12 19 15 42 0 0 0 0 0 0 0 0 7 33 1 10 81 2 43 5 3 1 59 2 47 0 0 0 0 0 0 0 0 39 16 17 1 7 83 5 20 93 1 7 88 0 0 0 0 0 0 0 0 0 4 32 31 1 9 60 15 25 22 51 5 3 1 9 21 2 45 0 0 0 0 101 1 8 18 15 25 22 47 5 3 95 69 2 52 0 0 0 0 0 0 0 7 33 1 8 63 2 48 5 3 1 8 57 2 52 0 0 0 0 0 0 0 107 132 4 71 6 4 28 0 0 0 0 0 0 0 0 0 0 0 0 0 0 11 30 1 9 22 102 2 45 6 3 1 8 18 15 42 0 0 0 0 0 0 27 55 121 148 97 150 0 0 0 0 0 0 0 0 0 0 0 0 0 0 0 4 32 31 1 12 66 2 53 6 3 1 9 58 2 41 0 0 0 0 0 0 10 85 1 64 16 17 13 5 7 89 1 40 17 13 0 0 0 0 0 0 0 35 34 1 9 65 2 48 6 3 1 8 66 15 42 0 0 0 0 0 0 0 7 33 1 9 19 2 45 5 9 108 177 2 43 0 0 0 0 0 0 0 0 35 34 1 18 2 41 6 3 1 8 59 2 54 0 0 0 0 0 0 0 0 27 55 120 97 155 174 0 0 0 0 0 0 0 0 0 0 0 0 0 0 0 4 32 31 1 12 92 37 11 24 5 3 1 9 19 2 53 0 0 0 0 0 4 32 31 1 8 19 37 11 44 6 3 1 8 65 2 49 0 0 0 0 0 29 1 12 92 2 48 6 3 1 21 26 11 24 0 0 0 0 0 0 0 0 4 32 31 1 12 18 2 41 6 3 1 8 66 2 24 0 0 0 0 0 0 61 16 17 1 10 38 5 40 93 1 10 82 0 0 0 0 0 0 0 0 0 4 32 31 1 9 104 26 98 6 3 1 8 57 2 50 0 0 0 0 0 0 263 179 209 141 4 13 175 0 0 0 0 0 0 0 0 0 0 0 0 0 0 7 33 1 8 58 2 41 5 3 1 69 21 2 54 0 0 0 0 0 0 0 36 1 8 137 2 54 5 3 1 12 59 2 49 0 0 0 0 0 0 0 0 106 128 91 4 28 4 78 6 4 77 0 0 0 0 0 0 0 0 0 0 0 40 16 10 23 14 1 10 38 5 39 23 14 1 7 83 0 0 0 0 0 0 62 1 8 67 2 49 5 9 59 2 54 0 0 0 0 0 0 0 0 0 0 7 33 1 8 92 2 50 6 3 1 8 57 2 46 0 0 0 0 0 0 0 4 32 31 1 9 21 15 25 79 54 5 3 1 67 2 53 0 0 0 0 0 29 1 8 18 15 25 79 56 5 3 1 12 19 2 53 0 0 0 0 0 0 7 36 1 8 92 2 54 6 3 1 9 57 2 41 0 0 0 0 0 0 0 11 30 1 12 18 2 24 5 3 1 9 57 2 46 0 0 0 0 0 0 0 11 30 1 19 2 54 5 3 1 12 18 2 56 0 0 0 0 0 0 0 0 106 130 4 73 4 28 6 4 77 0 0 0 0 0 0 0 0 0 0 0 0 235 1 115 290 180 10 277 0 0 0 0 0 0 0 0 0 0 0 0 0 0 35 34 1 10 81 69 26 98 6 3 1 8 59 2 49 0 0 0 0 0 0 36 1 9 10 81 37 11 24 6 3 1 12 18 2 52 0 0 0 0 0 0 61 16 1 13 14 10 85 5 27 1 13 14 7 80 0 0 0 0 0 0 0 62 1 9 7 102 2 52 6 3 1 9 68 2 47 0 0 0 0 0 0 0 101 1 9 195 37 11 44 6 3 1 8 18 26 11 24 0 0 0 0 0 0 40 13 14 1 10 16 22 38 5 39 13 14 1 7 80 0 0 0 0 0 0 29 1 12 67 15 111 22 11 24 6 3 1 21 2 54 0 0 0 0 0 0 35 34 1 8 67 15 42 5 3 1 9 68 2 56 0 0 0 0 0 0 0 20 16 1 13 14 7 80 5 39 13 14 1 7 87 0 0 0 0 0 0 0 3 55 4 70 4 28 76 6 4 78 0 0 0 0 0 0 0 0 0 0 0 7 33 1 9 104 26 98 6 3 1 67 2 41 0 0 0 0 0 0 0 0 27 55 121 151 97 153 0 0 0 0 0 0 0 0 0 0 0 0 0 0 0 7 33 1 12 68 15 42 6 3 1 8 57 2 54 0 0 0 0 0 0 0 62 1 8 60 2 54 6 3 1 8 137 2 51 0 0 0 0 0 0 0 0 7 33 1 9 104 15 42 6 3 1 9 65 2 46 0 0 0 0 0 0 0 4 32 31 1 10 81 69 2 53 5 3 1 9 18 15 42 0 0 0 0 0 10 38 1 64 16 17 13 5 7 80 1 61 13 17 0 0 0 0 0 0 0 106 130 4 73 4 72 6 4 70 0 0 0 0 0 0 0 0 0 0 0 0 129 96 13 14 1 7 86 5 20 13 14 1 84 0 0 0 0 0 0 0 0 4 32 31 1 8 59 2 49 5 3 1 8 65 26 11 24 0 0 0 0 0 106 130 4 28 4 71 6 10 38 0 0 0 0 0 0 0 0 0 0 0 0 84 1 13 39 16 17 5 7 88 1 20 13 17 0 0 0 0 0 0 0 0 27 204 123 15 35 34 0 0 0 0 0 0 0 0 0 0 0 0 0 0 0 27 118 149 121 97 166 154 0 0 0 0 0 0 0 0 0 0 0 0 0 0 7 62 1 10 81 69 2 45 6 3 1 12 92 2 56 0 0 0 0 0 0 20 16 1 13 14 10 85 5 40 13 14 1 7 88 0 0 0 0 0 0 0 7 201 1 20 109 17 13 0 0 0 0 0 0 0 0 0 0 0 0 0 0 29 1 21 15 25 22 47 6 3 103 19 15 42 0 0 0 0 0 0 0 0 35 34 1 60 15 25 22 45 5 3 1 65 26 11 24 0 0 0 0 0 0 11 30 1 63 15 111 22 11 24 6 3 1 8 67 2 54 0 0 0 0 0 3 55 91 4 73 4 28 76 6 72 0 0 0 0 0 0 0 0 0 0 0 40 16 10 23 14 1 7 86 5 20 23 14 1 7 87 0 0 0 0 0 0 29 1 8 18 15 42 6 3 1 8 21 2 43 0 0 0 0 0 0 0 0 10 85 1 20 16 17 13 5 10 82 1 64 13 17 0 0 0 0 0 0 0 4 32 31 1 8 65 2 41 6 3 103 19 2 49 0 0 0 0 0 0 0 11 30 1 9 60 26 98 5 3 1 12 63 2 50 0 0 0 0 0 0 0 61 13 14 16 1 10 82 5 39 13 14 1 7 80 0 0 0 0 0 0 0 106 128 91 4 78 4 28 76 6 4 71 0 0 0 0 0 0 0 0 0 0 7 90 1 20 16 13 14 5 10 38 253 1 13 14 0 0 0 0 0 0 0 36 1 9 138 2 51 6 3 1 12 63 2 49 0 0 0 0 0 0 0 0 64 16 17 1 13 7 86 0 0 0 0 0 0 0 0 0 0 0 0 0 0 7 86 1 20 16 17 13 5 7 88 1 64 13 140 0 0 0 0 0 0 0 4 32 31 1 58 8 15 25 22 45 6 3 1 67 2 54 0 0 0 0 0 29 1 8 21 15 25 22 51 6 3 1 60 2 41 0 0 0 0 0 0 0 35 34 1 12 63 2 51 6 3 103 19 2 44 0 0 0 0 0 0 0 0 29 1 9 67 15 25 79 56 5 3 1 9 125 2 52 0 0 0 0 0 0 101 1 8 67 2 53 5 3 1 19 2 51 0 0 0 0 0 0 0 0 0 20 16 17 13 1 7 80 5 39 17 1 10 13 38 0 0 0 0 0 0 0 61 16 17 1 7 83 5 20 93 1 7 88 0 0 0 0 0 0 0 0 0 35 34 1 8 63 37 11 46 5 3 1 12 60 2 49 0 0 0 0 0 0 35 34 1 9 58 26 98 5 3 1 9 18 2 53 0 0 0 0 0 0 0 3 113 121 168 97 133 0 0 0 0 0 0 0 0 0 0 0 0 0 0 0 11 30 1 8 59 2 49 5 3 1 21 2 44 0 0 0 0 0 0 0 0 3 100 4 75 4 72 4 28 6 4 0 0 0 0 0 0 0 0 0 0 0 7 87 1 64 16 13 14 5 7 90 1 20 13 14 0 0 0 0 0 0 0 7 80 1 40 16 10 23 14 5 7 90 1 64 23 14 0 0 0 0 0 0 36 1 7 102 15 42 6 3 1 12 19 2 53 0 0 0 0 0 0 0 0 29 1 12 18 2 45 5 3 1 12 60 2 48 0 0 0 0 0 0 0 0 29 1 12 63 37 11 44 5 3 1 9 18 2 52 0 0 0 0 0 0 0 29 1 60 15 111 285 42 6 3 1 8 21 2 45 0 0 0 0 0 0 0 62 1 8 19 15 25 79 56 6 3 1 8 92 15 42 0 0 0 0 0 0 116 160 171 1 196 22 164 161 186 6 189 0 0 0 0 0 0 0 0 0 0 4 32 31 1 8 66 2 41 5 3 1 18 2 48 0 0 0 0 0 0 0 36 1 8 67 2 41 5 3 1 21 2 53 0 0 0 0 0 0 0 0 0 27 55 4 71 4 74 6 4 77 0 0 0 0 0 0 0 0 0 0 0 0 36 1 9 22 102 37 11 46 6 3 1 68 2 53 0 0 0 0 0 0 0 36 1 12 67 2 54 5 3 1 68 2 41 0 0 0 0 0 0 0 0 0 3 55 146 11 193 150 165 0 0 0 0 0 0 0 0 0 0 0 0 0 0 3 55 91 28 76 4 77 6 4 75 0 0 0 0 0 0 0 0 0 0 0 7 90 1 61 16 17 13 5 7 89 1 20 13 17 0 0 0 0 0 0 0 29 1 8 19 2 54 5 3 1 57 2 49 0 0 0 0 0 0 0 0 0 7 33 1 8 18 2 48 5 3 1 9 57 2 47 0 0 0 0 0 0 0 4 32 31 1 12 18 15 111 22 11 24 6 3 1 58 8 2 45 0 0 0 170 141 131 108 258 4 23 206 0 0 0 0 0 0 0 0 0 0 0 0 0 107 126 4 28 4 74 6 4 72 0 0 0 0 0 0 0 0 0 0 0 0 107 132 4 28 4 77 6 4 74 0 0 0 0 0 0 0 0 0 0 0 0 39 16 10 23 14 1 7 83 5 20 23 14 1 10 38 0 0 0 0 0 0 36 1 60 15 25 79 56 6 3 1 9 21 2 53 0 0 0 0 0 0 0 3 113 121 151 97 133 0 0 0 0 0 0 0 0 0 0 0 0 0 0 0 4 32 31 1 10 81 69 15 25 22 45 5 3 1 12 60 2 43 0 0 0 29 1 9 104 37 11 44 6 3 95 69 2 51 0 0 0 0 0 0 0 0 29 1 58 69 15 25 22 51 5 3 1 9 117 15 42 0 0 0 0 0 0 4 32 31 1 9 18 15 25 22 47 5 3 1 8 65 2 44 0 0 0 0 62 1 8 92 2 24 6 3 1 8 65 2 49 0 0 0 0 0 0 0 0 101 1 19 37 11 44 5 3 1 65 2 51 0 0 0 0 0 0 0 0 0 20 109 10 23 14 122 146 7 201 0 0 0 0 0 0 0 0 0 0 0 0 7 86 1 64 16 10 23 119 5 10 82 1 61 23 14 0 0 0 0 0 0 11 30 1 9 67 15 25 22 47 5 3 1 21 2 50 0 0 0 0 0 0 7 33 1 8 60 15 25 22 45 5 3 1 9 57 2 54 0 0 0 0 0 7 87 1 10 16 10 23 119 5 10 85 27 1 10 23 14 0 0 0 0 0 39 16 17 1 13 7 89 5 64 13 17 1 10 38 0 0 0 0 0 0 0 3 55 10 38 4 73 6 4 28 0 0 0 0 0 0 0 0 0 0 0 0 4 32 31 1 9 66 37 11 44 6 3 1 8 65 2 41 0 0 0 0 0 35 34 1 10 81 2 51 5 3 1 67 2 45 0 0 0 0 0 0 0 0 99 124 4 71 4 28 6 4 74 0 0 0 0 0 0 0 0 0 0 0 0 7 89 1 20 16 13 14 5 7 86 27 1 13 14 0 0 0 0 0 0 0 62 1 57 2 48 6 3 1 8 67 2 53 0 0 0 0 0 0 0 0 0 7 33 1 9 65 2 41 6 3 1 8 18 2 44 0 0 0 0 0 0 0 62 105 103 9 19 2 53 5 3 1 8 18 2 48 0 0 0 0 0 0 0 99 124 4 70 4 74 6 4 71 0 0 0 0 0 0 0 0 0 0 0 0 40 109 10 23 14 122 121 201 0 0 0 0 0 0 0 0 0 0 0 0 0 7 36 1 12 59 15 25 22 47 5 3 1 12 57 2 24 0 0 0 0 0 27 55 4 70 10 38 6 4 73 0 0 0 0 0 0 0 0 0 0 0 0 35 34 1 12 18 2 43 5 3 1 63 2 48 0 0 0 0 0 0 0 0 4 32 31 1 12 92 37 11 46 5 3 1 12 68 2 49 0 0 0 0 0 106 130 4 73 6 4 77 0 0 0 0 0 0 0 0 0 0 0 0 0 0 62 1 12 19 2 45 6 3 1 18 2 49 0 0 0 0 0 0 0 0 0 3 55 4 73 4 71 6 4 77 0 0 0 0 0 0 0 0 0 0 0 0 3 100 4 75 28 76 6 10 38 0 0 0 0 0 0 0 0 0 0 0 0 101 1 60 15 25 22 47 6 3 1 9 18 2 52 0 0 0 0 0 0 0 135 4 74 4 78 6 4 28 0 0 0 0 0 0 0 0 0 0 0 0 0 33 1 59 15 25 22 47 6 3 1 63 26 11 24 0 0 0 0 0 0 0 29 1 65 37 11 44 5 3 1 9 57 15 42 0 0 0 0 0 0 0 0 33 105 103 9 19 37 11 44 6 3 1 65 2 49 0 0 0 0 0 0 0 29 1 9 65 37 11 46 5 3 1 12 18 2 48 0 0 0 0 0 0 0 107 208 120 254 2 36 2 51 0 0 0 0 0 0 0 0 0 0 0 0 0 7 86 1 20 16 17 5 7 80 1 39 17 0 0 0 0 0 0 0 0 0 152 96 10 23 14 1 84 5 39 23 14 1 7 89 0 0 0 0 0 0 0 152 96 10 23 14 1 7 86 5 39 23 14 1 7 89 0 0 0 0 0 0 39 16 1 13 14 7 80 5 64 13 14 1 7 88 0 0 0 0 0 0 0 11 30 1 8 18 2 43 6 3 1 8 10 81 2 52 0 0 0 0 0 0 10 38 1 20 13 14 108 96 5 7 80 1 40 13 14 0 0 0 0 0 0 40 16 10 23 14 1 7 86 0 0 0 0 0 0 0 0 0 0 0 0 0 107 132 4 78 4 71 6 4 28 0 0 0 0 0 0 0 0 0 0 0 0 7 36 1 8 57 15 25 79 56 5 3 1 58 69 2 43 0 0 0 0 0 27 118 113 121 168 97 134 0 0 0 0 0 0 0 0 0 0 0 0 0 0 27 118 113 121 168 97 162 0 0 0 0 0 0 0 0 0 0 0 0 0 0 62 1 12 57 2 54 6 3 1 12 60 2 48 0 0 0 0 0 0 0 0 11 30 1 69 65 15 25 22 47 6 3 1 12 21 15 42 0 0 0 0 0 29 1 8 19 15 42 6 3 1 12 18 2 45 0 0 0 0 0 0 0 0 3 55 91 4 75 4 78 6 28 0 0 0 0 0 0 0 0 0 0 0 0 7 33 1 8 58 37 11 44 6 3 1 12 65 2 56 0 0 0 0 0 0 11 30 1 249 15 25 79 56 5 3 1 12 21 26 11 24 0 0 0 0 0 35 34 1 12 19 15 42 5 3 1 9 18 2 45 0 0 0 0 0 0 0 7 88 1 61 16 13 14 5 7 86 27 1 13 14 0 0 0 0 0 0 0 29 1 66 2 49 5 3 1 12 65 2 44 0 0 0 0 0 0 0 0 0 99 127 4 73 4 74 6 4 28 76 0 0 0 0 0 0 0 0 0 0 0 33 1 58 37 11 44 5 3 1 68 2 53 0 0 0 0 0 0 0 0 0 27 158 91 7 151 97 153 0 0 0 0 0 0 0 0 0 0 0 0 0 0 7 90 1 20 16 17 5 10 82 1 39 17 0 0 0 0 0 0 0 0 0 205 229 99 10 277 0 0 0 0 0 0 0 0 0 0 0 0 0 0 0 0 20 16 17 1 7 89 5 20 17 1 10 85 0 0 0 0 0 0 0 0 0 7 33 1 12 63 15 42 6 3 1 8 60 2 54 0 0 0 0 0 0 0 62 1 9 19 2 43 5 3 1 60 2 41 0 0 0 0 0 0 0 0 0 10 85 1 39 16 17 13 5 7 87 1 7 13 140 0 0 0 0 0 0 0 7 33 1 12 67 2 43 5 3 1 8 59 2 51 0 0 0 0 0 0 0 7 80 1 39 16 17 5 7 83 1 20 93 0 0 0 0 0 0 0 0 0 10 85 1 61 16 10 23 14 5 10 82 1 7 23 242 0 0 0 0 0 0 7 90 1 13 39 16 17 5 10 82 1 20 13 17 0 0 0 0 0 0 0 29 1 19 2 49 5 3 1 18 2 46 0 0 0 0 0 0 0 0 0 0 20 16 17 13 1 7 89 5 40 13 17 1 7 83 0 0 0 0 0 0 0 40 16 10 23 14 1 7 88 5 39 23 14 1 7 80 0 0 0 0 0 0 29 1 12 19 2 48 6 3 1 8 139 2 50 0 0 0 0 0 0 0 0 84 1 13 39 16 17 5 7 87 1 7 13 140 0 0 0 0 0 0 0 0 27 55 4 28 6 4 159 0 0 0 0 0 0 0 0 0 0 0 0 0 0 29 1 8 66 15 25 22 47 5 3 1 67 2 46 0 0 0 0 0 0 0 3 143 120 97 134 165 0 0 0 0 0 0 0 0 0 0 0 0 0 0 0 36 1 8 63 37 11 24 6 3 1 12 65 2 53 0 0 0 0 0 0 0 116 100 91 4 71 4 70 6 4 28 76 0 0 0 0 0 0 0 0 0 0 62 1 12 18 2 41 5 3 1 8 57 2 52 0 0 0 0 0 0 0 0 7 33 1 104 15 25 22 47 6 3 1 60 2 48 0 0 0 0 0 0 0 62 1 8 59 2 43 5 3 1 66 2 53 0 0 0 0 0 0 0 0 0 7 33 1 8 104 2 53 6 3 1 57 9 26 11 24 0 0 0 0 0 0 35 34 1 8 18 2 49 5 3 1 8 57 2 24 0 0 0 0 0 0 0 7 33 1 12 92 2 50 5 3 95 69 2 51 0 0 0 0 0 0 0 0 106 130 4 74 6 4 72 0 0 0 0 0 0 0 0 0 0 0 0 0 0 4 32 31 1 8 60 2 54 5 3 1 12 18 2 53 0 0 0 0 0 0 4 32 31 1 112 2 54 6 3 1 68 2 51 0 0 0 0 0 0 0 0 27 94 4 73 4 28 76 6 72 0 0 0 0 0 0 0 0 0 0 0 0 29 1 8 18 2 53 6 3 103 19 2 47 0 0 0 0 0 0 0 0 0 99 240 123 2 36 2 52 114 0 0 0 0 0 0 0 0 0 0 0 0 0 39 16 17 1 84 5 20 17 1 7 87 0 0 0 0 0 0 0 0 0 0 7 62 1 8 10 81 2 43 6 3 1 12 68 2 46 0 0 0 0 0 0 29 1 12 68 15 42 5 3 1 65 2 46 0 0 0 0 0 0 0 0 0 101 1 58 69 26 98 6 3 1 9 19 2 49 0 0 0 0 0 0 0 0 20 109 10 23 156 122 10 221 0 0 0 0 0 0 0 0 0 0 0 0 0 27 94 115 110 182 169 0 0 0 0 0 0 0 0 0 0 0 0 0 0 0 7 62 1 9 58 15 42 5 3 1 8 66 2 41 0 0 0 0 0 0 0 35 34 1 9 10 81 37 11 44 5 3 1 112 2 47 0 0 0 0 0 0 7 87 1 61 16 13 14 5 10 82 1 40 13 14 0 0 0 0 0 0 0 35 34 1 10 81 37 11 24 6 3 1 63 2 46 0 0 0 0 0 0 0 62 1 63 15 25 79 56 6 3 1 12 21 2 50 0 0 0 0 0 0 0 135 4 73 4 159 6 4 71 0 0 0 0 0 0 0 0 0 0 0 0 0 11 30 1 10 81 69 2 50 6 3 1 9 57 2 56 0 0 0 0 0 0 7 87 1 7 13 14 108 96 5 7 90 1 40 13 14 0 0 0 0 0 0 116 100 91 4 75 4 78 6 28 0 0 0 0 0 0 0 0 0 0 0 0 27 55 4 77 4 71 6 4 78 0 0 0 0 0 0 0 0 0 0 0 0 106 128 91 4 77 4 78 6 4 74 0 0 0 0 0 0 0 0 0 0 0 7 33 1 8 18 15 42 6 3 1 59 2 54 0 0 0 0 0 0 0 0 35 34 1 8 66 2 54 5 3 1 12 18 2 51 0 0 0 0 0 0 0 7 86 1 61 16 17 13 5 7 87 1 64 13 140 0 0 0 0 0 0 0 20 16 17 1 13 10 82 5 40 13 17 1 10 38 0 0 0 0 0 0 0 4 32 31 1 8 66 2 48 6 3 1 12 21 2 41 0 0 0 0 0 0 62 1 8 21 2 45 6 3 103 19 2 53 0 0 0 0 0 0 0 0 0 3 158 91 144 110 166 154 0 0 0 0 0 0 0 0 0 0 0 0 0 0 3 178 22 136 29 15 42 0 0 0 0 0 0 0 0 0 0 0 0 0 0 10 82 1 40 16 10 23 14 5 7 87 1 7 23 242 0 0 0 0 0 0 40 16 17 1 13 7 88 5 64 13 17 1 7 80 0 0 0 0 0 0 0 62 1 9 104 26 98 6 3 1 19 2 44 0 0 0 0 0 0 0 0 0 29 1 12 63 2 45 6 3 1 8 21 2 52 0 0 0 0 0 0 0 0 152 96 10 23 14 1 10 38 5 40 23 14 1 84 0 0 0 0 0 0 0 39 109 17 1 13 10 221 0 0 0 0 0 0 0 0 0 0 0 0 0 0 7 87 1 10 16 10 23 14 64 5 10 82 1 39 23 14 0 0 0 0 0 4 32 31 1 8 66 2 49 6 3 1 12 68 2 51 0 0 0 0 0 0 11 30 1 12 19 37 11 24 6 3 1 9 65 2 54 0 0 0 0 0 0 62 1 66 2 50 6 3 1 9 57 2 45 0 0 0 0 0 0 0 0 0 4 32 31 1 67 26 98 6 3 1 12 18 2 43 0 0 0 0 0 0 0 27 55 10 184 110 133 0 0 0 0 0 0 0 0 0 0 0 0 0 0 0 7 33 1 12 67 2 49 5 3 1 65 2 46 0 0 0 0 0 0 0 0 7 87 1 40 13 14 108 96 5 84 27 1 13 14 0 0 0 0 0 0 0 20 16 1 13 14 10 85 5 39 13 14 1 10 38 0 0 0 0 0 0 0 3 94 4 28 4 74 6 4 70 0 0 0 0 0 0 0 0 0 0 0 0 27 1 234 2 48 142 2 62 0 0 0 0 0 0 0 0 0 0 0 0 0 7 33 1 8 59 2 52 5 3 1 9 117 2 41 0 0 0 0 0 0 0 35 34 1 10 81 69 15 25 22 51 6 3 1 9 68 2 56 0 0 0 0 11 30 1 12 60 2 50 6 3 1 57 2 43 0 0 0 0 0 0 0 0 11 30 1 9 26 63 15 42 5 3 1 19 2 43 0 0 0 0 0 0 0 61 16 17 1 7 83 5 20 17 1 10 38 0 0 0 0 0 0 0 0 0 152 96 10 23 14 1 10 85 5 64 23 14 1 7 90 0 0 0 0 0 0 101 1 12 59 2 51 5 3 1 18 2 49 0 0 0 0 0 0 0 0 0 29 1 66 15 42 5 3 1 58 2 45 0 0 0 0 0 0 0 0 0 0 101 1 9 60 2 43 5 9 22 102 26 11 24 0 0 0 0 0 0 0 0 7 33 1 12 59 2 51 6 3 1 9 104 26 11 24 0 0 0 0 0 0 29 1 21 26 98 6 3 1 8 67 2 48 0 0 0 0 0 0 0 0 0 7 33 1 8 18 2 46 6 3 1 8 60 2 50 0 0 0 0 0 0 0 29 1 9 22 102 2 52 6 3 1 8 68 15 42 0 0 0 0 0 0 0 64 16 17 1 7 90 5 39 17 1 10 82 0 0 0 0 0 0 0 0 0 27 55 4 77 4 71 6 4 72 0 0 0 0 0 0 0 0 0 0 0 0 3 55 91 6 28 76 298 0 0 0 0 0 0 0 0 0 0 0 0 0 0 35 34 1 9 60 2 54 5 3 1 9 117 2 49 0 0 0 0 0 0 0 29 1 12 65 2 45 6 3 1 12 57 26 11 24 0 0 0 0 0 0 0 4 32 31 1 65 2 51 6 3 1 8 58 2 41 0 0 0 0 0 0 0 7 33 1 12 19 2 50 6 3 1 12 57 2 24 0 0 0 0 0 0 0 3 158 91 121 97 134 154 0 0 0 0 0 0 0 0 0 0 0 0 0 0 4 32 31 1 9 63 2 48 6 3 1 12 60 2 49 0 0 0 0 0 0 10 85 1 39 16 13 14 5 7 80 27 1 13 14 0 0 0 0 0 0 0 20 109 10 23 14 122 146 218 0 0 0 0 0 0 0 0 0 0 0 0 0 4 32 31 1 9 21 15 25 22 51 6 3 1 12 57 2 56 0 0 0 0 3 94 4 28 28 76 6 4 75 0 0 0 0 0 0 0 0 0 0 0 0 64 16 17 1 7 86 0 0 0 0 0 0 0 0 0 0 0 0 0 0 0 10 82 1 20 16 17 13 5 10 85 1 40 17 13 0 0 0 0 0 0 0 7 62 1 9 10 81 15 42 5 3 157 26 11 24 0 0 0 0 0 0 0 106 130 4 74 4 72 6 4 73 0 0 0 0 0 0 0 0 0 0 0 0 29 1 8 19 2 51 5 9 108 177 2 50 0 0 0 0 0 0 0 0 0 29 1 8 21 15 25 22 51 5 3 1 19 26 11 24 0 0 0 0 0 0 4 32 31 1 18 15 25 22 47 6 3 1 57 2 51 0 0 0 0 0 0 135 4 74 4 71 6 4 72 0 0 0 0 0 0 0 0 0 0 0 0 0 35 34 1 8 66 2 52 5 3 1 57 2 45 0 0 0 0 0 0 0 0 20 16 10 23 14 1 10 85 5 64 23 14 1 84 0 0 0 0 0 0 0 7 33 1 8 21 37 11 24 5 3 1 9 21 2 50 0 0 0 0 0 0 33 1 59 2 51 6 3 1 9 21 2 53 0 0 0 0 0 0 0 0 0 29 1 10 81 69 2 41 6 3 1 8 19 2 56 0 0 0 0 0 0 0 35 34 1 18 26 98 5 3 1 9 18 2 48 0 0 0 0 0 0 0 0 33 1 63 2 48 5 3 1 112 15 25 79 56 0 0 0 0 0 0 0 0 10 85 1 61 16 10 23 119 5 10 38 1 10 23 14 0 0 0 0 0 0 99 127 38 28 76 6 4 28 0 0 0 0 0 0 0 0 0 0 0 0 0 29 1 67 37 11 46 5 3 1 8 21 26 11 24 0 0 0 0 0 0 0 29 1 8 63 37 11 24 5 3 1 12 60 15 42 0 0 0 0 0 0 0 7 36 1 58 69 37 11 44 5 3 1 8 63 26 11 24 0 0 0 0 0 152 96 10 23 14 1 84 5 39 23 14 1 7 83 0 0 0 0 0 0 0 27 55 4 73 4 72 6 4 74 0 0 0 0 0 0 0 0 0 0 0 0 29 1 9 59 26 98 5 3 1 9 19 2 48 0 0 0 0 0 0 0 0 40 16 17 1 7 86 5 20 93 1 7 88 0 0 0 0 0 0 0 0 0 29 1 9 65 2 49 6 3 1 8 137 2 48 0 0 0 0 0 0 0 0 64 16 17 1 13 7 80 5 20 13 17 1 7 89 0 0 0 0 0 0 0 4 32 31 1 19 37 11 24 5 3 1 12 57 2 45 0 0 0 0 0 0 3 160 171 1 198 22 164 189 250 11 185 0 0 0 0 0 0 0 0 0 0 11 30 1 10 81 69 37 11 46 6 3 1 63 2 43 0 0 0 0 0 0 7 33 1 9 68 2 54 5 3 1 19 2 46 0 0 0 0 0 0 0 0 235 294 116 26 29 0 0 0 0 0 0 0 0 0 0 0 0 0 0 0 0 7 33 1 12 68 15 25 22 51 5 3 95 2 48 0 0 0 0 0 0 0 27 160 146 303 197 22 164 189 15 186 0 0 0 0 0 0 0 0 0 0 0 99 124 4 77 4 74 6 4 78 0 0 0 0 0 0 0 0 0 0 0 0 29 1 8 92 2 54 5 3 1 8 65 26 11 24 0 0 0 0 0 0 0 62 1 65 2 51 6 3 1 58 69 2 50 0 0 0 0 0 0 0 0 0 11 30 1 9 104 26 98 6 3 1 9 66 2 51 0 0 0 0 0 0 0 101 1 9 59 37 11 46 6 3 157 2 52 0 0 0 0 0 0 0 0 0 7 36 1 10 81 69 37 11 46 5 3 1 58 2 49 0 0 0 0 0 0 61 13 14 16 1 7 86 5 39 13 14 1 7 89 0 0 0 0 0 0 0 11 30 1 9 60 2 48 6 3 95 9 2 44 0 0 0 0 0 0 0 0 11 30 1 8 137 15 25 79 56 6 3 1 12 21 2 49 0 0 0 0 0 36 1 9 58 37 11 44 6 3 1 63 26 11 24 0 0 0 0 0 0 0 10 38 1 64 16 13 14 5 7 90 27 1 13 14 0 0 0 0 0 0 0 33 1 67 15 42 5 3 1 12 19 2 54 0 0 0 0 0 0 0 0 0 10 38 1 20 16 10 23 14 5 7 90 27 1 10 23 14 0 0 0 0 0 27 55 10 38 4 78 6 4 28 0 0 0 0 0 0 0 0 0 0 0 0 27 145 120 151 97 150 0 0 0 0 0 0 0 0 0 0 0 0 0 0 0 3 55 4 70 4 77 6 10 38 0 0 0 0 0 0 0 0 0 0 0 0 11 30 1 8 18 2 45 6 3 1 9 63 2 50 0 0 0 0 0 0 0 129 96 10 23 14 1 10 38 5 40 23 14 1 7 90 0 0 0 0 0 0 61 16 17 1 13 10 85 5 64 13 93 1 7 90 0 0 0 0 0 0 0 36 1 21 15 25 22 45 6 3 1 9 57 2 49 0 0 0 0 0 0 0 29 1 8 92 2 50 5 3 1 12 68 2 48 0 0 0 0 0 0 0 0 20 16 17 13 1 7 90 5 39 17 13 1 7 80 0 0 0 0 0 0 0 27 55 4 70 4 78 6 4 28 0 0 0 0 0 0 0 0 0 0 0 0 35 34 1 9 117 2 52 5 3 1 59 15 42 0 0 0 0 0 0 0 0 36 1 21 15 25 22 45 5 3 1 9 21 2 43 0 0 0 0 0 0 0 7 33 1 9 58 37 11 44 5 3 1 12 18 2 54 0 0 0 0 0 0 40 16 17 1 10 85 5 64 93 1 7 80 0 0 0 0 0 0 0 0 0 4 32 31 1 9 21 2 52 5 3 1 65 2 44 0 0 0 0 0 0 0 152 96 10 23 14 1 10 85 5 39 23 14 1 7 86 0 0 0 0 0 0 27 94 4 70 6 4 78 0 0 0 0 0 0 0 0 0 0 0 0 0 0 35 34 1 12 67 2 48 5 3 1 18 15 42 0 0 0 0 0 0 0 0 7 86 1 20 13 14 108 96 5 7 90 1 64 13 14 0 0 0 0 0 0 11 30 1 8 57 15 25 22 45 5 3 1 9 125 2 52 0 0 0 0 0 4 257 131 170 141 4 13 175 0 0 0 0 0 0 0 0 0 0 0 0 0 7 90 1 39 13 14 108 96 5 7 83 1 20 13 14 0 0 0 0 0 0 10 85 1 7 13 14 108 96 5 7 90 1 40 13 14 0 0 0 0 0 0 4 32 31 1 58 8 2 53 6 3 1 12 67 2 52 0 0 0 0 0 0 7 33 1 12 18 15 42 6 3 1 12 92 26 11 24 0 0 0 0 0 0 116 160 146 7 194 161 10 187 6 10 186 1 196 0 0 0 0 0 0 0 0 99 127 4 71 28 76 6 4 77 0 0 0 0 0 0 0 0 0 0 0 0 115 217 122 40 109 10 23 14 0 0 0 0 0 0 0 0 0 0 0 0 0 27 94 10 110 133 169 0 0 0 0 0 0 0 0 0 0 0 0 0 0 0 36 1 9 10 81 37 11 44 6 3 1 69 21 2 51 0 0 0 0 0 0 20 16 17 1 7 89 0 0 0 0 0 0 0 0 0 0 0 0 0 0 0 10 82 1 39 16 17 13 5 7 89 1 61 13 17 0 0 0 0 0 0 0 29 1 8 18 2 49 5 3 1 8 65 2 53 0 0 0 0 0 0 0 0 29 1 12 65 2 52 5 3 1 12 19 2 47 0 0 0 0 0 0 0 0 20 16 17 1 7 87 5 40 93 1 7 89 0 0 0 0 0 0 0 0 0 61 16 17 1 7 90 5 20 17 1 7 80 0 0 0 0 0 0 0 0 0 36 1 8 67 2 49 5 3 1 12 60 15 42 0 0 0 0 0 0 0 0 7 33 1 60 2 53 5 3 1 8 19 2 43 0 0 0 0 0 0 0 0 29 1 9 10 81 2 53 6 3 1 8 18 2 48 0 0 0 0 0 0 0 35 34 1 9 63 2 52 6 3 1 9 68 2 53 0 0 0 0 0 0 0 27 55 120 147 97 162 0 0 0 0 0 0 0 0 0 0 0 0 0 0 0 3 100 4 72 4 74 6 4 28 76 0 0 0 0 0 0 0 0 0 0 0 4 32 31 1 249 26 98 5 3 1 8 66 2 47 0 0 0 0 0 0 0 11 30 1 249 15 25 22 48 5 3 1 12 63 26 11 24 0 0 0 0 0 7 80 1 20 16 17 13 5 7 89 1 39 17 13 0 0 0 0 0 0 0 36 1 9 22 225 26 98 6 3 1 8 21 15 42 0 0 0 0 0 0 0 29 1 63 37 11 46 6 3 1 21 26 11 24 0 0 0 0 0 0 0 0 20 16 17 1 13 10 82 5 20 13 17 1 7 83 0 0 0 0 0 0 0 11 30 1 69 65 15 25 22 47 6 3 1 9 60 2 53 0 0 0 0 0 29 1 8 57 2 53 5 3 1 9 26 63 2 54 0 0 0 0 0 0 0 27 94 4 28 28 76 6 4 77 0 0 0 0 0 0 0 0 0 0 0 0 3 55 4 28 4 71 6 4 75 0 0 0 0 0 0 0 0 0 0 0 0 11 30 1 9 67 37 11 46 5 3 1 8 57 2 54 0 0 0 0 0 0 4 32 31 1 12 59 26 98 5 3 1 8 67 2 54 0 0 0 0 0 0 62 1 8 63 2 50 6 3 1 9 18 15 42 0 0 0 0 0 0 0 0 27 55 91 28 76 4 75 6 4 78 0 0 0 0 0 0 0 0 0 0 0 35 34 1 57 2 54 6 3 1 9 22 102 2 53 0 0 0 0 0 0 0 4 32 31 105 131 9 190 2 49 6 3 1 9 19 2 44 0 0 0 0 0 99 124 4 28 4 78 6 4 70 0 0 0 0 0 0 0 0 0 0 0 0 3 55 91 120 168 97 150 0 0 0 0 0 0 0 0 0 0 0 0 0 0 62 1 8 68 2 41 5 3 1 8 65 2 51 0 0 0 0 0 0 0 0 27 94 4 28 38 6 4 70 0 0 0 0 0 0 0 0 0 0 0 0 0 27 94 4 78 4 72 6 10 38 0 0 0 0 0 0 0 0 0 0 0 0 29 1 9 21 15 25 22 51 6 3 1 57 9 2 44 0 0 0 0 0 0 35 34 1 104 2 48 6 3 1 65 2 52 0 0 0 0 0 0 0 0 0 7 87 1 40 16 10 23 14 5 10 85 27 1 10 23 14 0 0 0 0 0 39 13 14 108 96 1 7 87 5 61 13 14 1 7 90 0 0 0 0 0 0 27 55 7 168 97 155 0 0 0 0 0 0 0 0 0 0 0 0 0 0 0 20 16 1 13 14 10 82 5 27 1 13 14 7 86 0 0 0 0 0 0 0 101 1 9 60 2 53 5 3 1 9 19 15 42 0 0 0 0 0 0 0 0 35 34 1 12 57 2 41 5 3 1 8 58 2 53 0 0 0 0 0 0 0 4 32 31 1 12 18 26 98 6 3 1 8 10 81 2 48 0 0 0 0 0 7 89 1 64 16 17 5 10 38 1 40 93 0 0 0 0 0 0 0 0 0 106 130 10 38 6 4 74 0 0 0 0 0 0 0 0 0 0 0 0 0 0 27 180 173 32 31 2 43 114 0 0 0 0 0 0 0 0 0 0 0 0 0 205 131 99 91 123 2 33 0 0 0 0 0 0 0 0 0 0 0 0 0 0 35 34 1 8 65 2 53 5 3 1 67 15 42 0 0 0 0 0 0 0 0 7 36 1 8 19 37 11 44 5 3 1 9 57 2 51 0 0 0 0 0 0 101 1 60 15 25 22 45 5 3 1 8 65 15 42 0 0 0 0 0 0 0 29 1 8 65 37 11 44 6 3 1 9 21 26 11 24 0 0 0 0 0 0 33 1 66 37 11 44 6 3 1 9 63 2 48 0 0 0 0 0 0 0 0 29 1 8 18 2 45 6 3 1 67 2 52 0 0 0 0 0 0 0 0 0 20 16 17 13 1 7 80 5 20 13 17 1 10 82 0 0 0 0 0 0 0 255 122 40 254 26 29 2 51 142 0 0 0 0 0 0 0 0 0 0 0 0 101 1 8 67 15 25 22 47 5 3 1 12 18 2 45 0 0 0 0 0 0 29 1 12 19 15 111 285 42 6 3 1 8 21 2 48 0 0 0 0 0 0 11 30 1 9 66 37 11 44 6 3 1 12 57 2 51 0 0 0 0 0 0 7 33 1 8 63 37 11 24 6 3 1 8 10 81 2 52 0 0 0 0 0 27 143 120 148 97 150 0 0 0 0 0 0 0 0 0 0 0 0 0 0 0 36 1 9 66 15 25 22 51 5 3 1 12 92 26 11 24 0 0 0 0 0 20 16 17 13 1 7 80 5 39 17 13 1 7 87 0 0 0 0 0 0 0 27 94 4 71 4 73 6 4 77 0 0 0 0 0 0 0 0 0 0 0 0 116 100 91 4 77 10 38 6 4 70 0 0 0 0 0 0 0 0 0 0 0 7 33 1 8 92 26 98 6 3 1 8 10 81 2 50 0 0 0 0 0 0 3 94 4 71 4 78 6 4 70 0 0 0 0 0 0 0 0 0 0 0 0 35 34 1 12 18 2 24 5 3 1 58 69 2 46 0 0 0 0 0 0 0 35 34 1 19 15 25 22 47 6 3 1 9 58 2 54 0 0 0 0 0 0 4 32 31 1 58 8 2 50 5 3 1 9 60 26 11 24 0 0 0 0 0 3 143 115 184 110 182 0 0 0 0 0 0 0 0 0 0 0 0 0 0 0 106 130 4 70 4 77 6 4 28 0 0 0 0 0 0 0 0 0 0 0 0 11 30 1 9 117 2 53 6 3 1 8 19 2 43 0 0 0 0 0 0 0 62 1 63 37 11 46 5 3 1 9 18 2 49 0 0 0 0 0 0 0 0 3 94 4 28 4 74 6 4 72 0 0 0 0 0 0 0 0 0 0 0 0 106 128 91 4 72 4 73 6 10 38 0 0 0 0 0 0 0 0 0 0 0 4 32 31 1 12 63 37 11 24 5 3 1 12 18 2 51 0 0 0 0 0 84 1 64 16 17 5 7 83 1 39 17 0 0 0 0 0 0 0 0 0 0 7 80 1 20 16 17 13 5 7 90 1 64 13 140 0 0 0 0 0 0 0 11 30 1 9 7 102 2 50 5 3 1 8 19 2 46 0 0 0 0 0 0 7 86 1 64 16 17 13 5 7 89 1 40 17 13 0 0 0 0 0 0 0 27 55 4 71 4 73 6 4 74 0 0 0 0 0 0 0 0 0 0 0 0 3 55 91 10 200 110 176 0 0 0 0 0 0 0 0 0 0 0 0 0 0 4 32 31 1 12 66 2 49 6 3 1 9 68 2 45 0 0 0 0 0 0 36 1 9 60 2 45 6 3 1 18 2 46 0 0 0 0 0 0 0 0 0 10 82 1 40 16 10 23 14 5 7 87 1 64 23 14 0 0 0 0 0 0 10 82 1 39 13 14 108 96 5 10 38 1 20 13 14 0 0 0 0 0 0 29 1 12 18 15 25 79 56 6 3 1 12 18 2 45 0 0 0 0 0 0 106 130 10 38 4 73 6 4 74 0 0 0 0 0 0 0 0 0 0 0 0 11 30 1 58 2 24 6 3 1 9 66 2 56 0 0 0 0 0 0 0 0 99 124 4 73 10 38 6 4 70 0 0 0 0 0 0 0 0 0 0 0 0 7 83 1 7 13 14 108 96 5 7 80 1 39 13 14 0 0 0 0 0 0 35 34 1 9 63 15 111 22 11 24 5 3 1 8 66 2 46 0 0 0 0 29 1 8 18 2 50 6 3 1 60 2 54 0 0 0 0 0 0 0 0 0 11 30 1 12 57 2 45 6 3 1 8 67 2 48 0 0 0 0 0 0 0 20 16 10 23 14 1 10 85 5 64 23 14 1 84 0 0 0 0 0 0 0 35 34 1 8 18 2 46 5 3 1 12 19 2 45 0 0 0 0 0 0 0 7 80 1 39 13 14 108 96 5 7 88 1 64 13 14 0 0 0 0 0 0 7 33 1 9 104 26 98 6 3 1 69 21 2 50 0 0 0 0 0 0 0 11 30 1 8 18 2 51 6 3 1 8 60 2 56 0 0 0 0 0 0 0 3 143 121 147 97 153 0 0 0 0 0 0 0 0 0 0 0 0 0 0 0 3 100 4 74 4 72 6 10 38 0 0 0 0 0 0 0 0 0 0 0 0 11 30 1 12 19 2 53 5 3 1 9 125 2 41 0 0 0 0 0 0 0 7 86 1 61 16 17 5 7 83 1 39 17 0 0 0 0 0 0 0 0 0 61 16 17 1 7 90 5 39 17 1 84 0 0 0 0 0 0 0 0 0 0 36 1 8 18 2 52 5 3 1 9 63 2 51 0 0 0 0 0 0 0 0 7 33 1 8 137 2 52 5 3 1 19 15 42 0 0 0 0 0 0 0 0 3 55 4 74 4 77 6 4 70 0 0 0 0 0 0 0 0 0 0 0 0 4 32 31 1 8 19 37 11 24 5 3 1 8 18 26 11 24 0 0 0 0 3 145 120 97 134 174 0 0 0 0 0 0 0 0 0 0 0 0 0 0 0 7 36 1 58 12 15 25 22 47 5 3 1 12 59 2 56 0 0 0 0 0 35 34 1 8 19 15 25 79 56 5 3 1 18 2 54 0 0 0 0 0 0 27 94 4 28 4 74 6 4 73 0 0 0 0 0 0 0 0 0 0 0 0 7 89 1 20 16 17 5 10 85 1 61 17 0 0 0 0 0 0 0 0 0 39 16 10 23 14 1 10 82 5 40 23 14 1 7 90 0 0 0 0 0 0 38 131 191 96 4 23 206 0 0 0 0 0 0 0 0 0 0 0 0 0 0 27 247 121 147 97 153 0 0 0 0 0 0 0 0 0 0 0 0 0 0 0 4 32 31 1 8 104 15 111 22 11 24 6 3 95 9 2 46 0 0 0 0 27 94 4 75 4 74 6 4 78 0 0 0 0 0 0 0 0 0 0 0 0 62 1 21 2 49 6 3 1 8 67 2 46 0 0 0 0 0 0 0 0 0 36 1 8 66 2 48 5 9 22 102 2 56 0 0 0 0 0 0 0 0 0 35 34 1 12 92 2 50 6 3 95 69 15 42 0 0 0 0 0 0 0 0 39 16 17 1 7 86 5 20 93 1 84 0 0 0 0 0 0 0 0 0 0 11 30 1 9 104 37 11 44 6 3 1 12 60 2 50 0 0 0 0 0 0 27 55 4 74 4 73 6 4 72 0 0 0 0 0 0 0 0 0 0 0 0 4 32 31 1 60 15 25 22 47 6 3 1 8 65 2 45 0 0 0 0 0 36 1 9 22 102 2 45 6 3 1 9 68 26 11 24 0 0 0 0 0 0 27 55 4 77 6 4 74 0 0 0 0 0 0 0 0 0 0 0 0 0 0 3 55 4 78 4 74 6 4 71 0 0 0 0 0 0 0 0 0 0 0 0 3 55 4 77 4 75 6 4 28 76 0 0 0 0 0 0 0 0 0 0 0 7 36 1 8 10 81 37 11 24 5 3 1 8 68 15 42 0 0 0 0 0 11 30 1 67 2 52 5 3 1 8 19 2 49 0 0 0 0 0 0 0 0 35 34 1 9 58 2 49 6 3 1 65 2 52 0 0 0 0 0 0 0 0 129 96 10 23 14 1 10 82 5 39 23 14 1 7 83 0 0 0 0 0 0 4 32 31 1 58 15 25 22 48 5 3 1 12 65 2 46 0 0 0 0 0 20 16 17 13 1 7 90 5 61 13 17 1 84 0 0 0 0 0 0 0 0 106 128 91 4 78 4 70 6 10 38 0 0 0 0 0 0 0 0 0 0 0 84 1 40 16 13 14 5 7 86 27 1 13 14 0 0 0 0 0 0 0 0 3 100 4 73 4 159 6 4 75 0 0 0 0 0 0 0 0 0 0 0 0 3 1 198 22 164 2 186 187 0 0 0 0 0 0 0 0 0 0 0 0 0 4 32 31 1 9 22 102 15 25 22 47 5 3 1 8 66 15 42 0 0 0\n\t [[{{node sparse_categorical_crossentropy/SparseSoftmaxCrossEntropyWithLogits/SparseSoftmaxCrossEntropyWithLogits}}]] [Op:__inference_test_function_4371]",
          "traceback": [
            "\u001b[0;31m---------------------------------------------------------------------------\u001b[0m",
            "\u001b[0;31mInvalidArgumentError\u001b[0m                      Traceback (most recent call last)",
            "\u001b[0;32m<ipython-input-13-588359f73acb>\u001b[0m in \u001b[0;36m<cell line: 31>\u001b[0;34m()\u001b[0m\n\u001b[1;32m     29\u001b[0m     french_vocab_size)\n\u001b[1;32m     30\u001b[0m \u001b[0;34m\u001b[0m\u001b[0m\n\u001b[0;32m---> 31\u001b[0;31m \u001b[0msimple_rnn_model\u001b[0m\u001b[0;34m.\u001b[0m\u001b[0mfit\u001b[0m\u001b[0;34m(\u001b[0m\u001b[0mtmp_x\u001b[0m\u001b[0;34m,\u001b[0m \u001b[0mpreproc_french_sentences\u001b[0m\u001b[0;34m,\u001b[0m \u001b[0mbatch_size\u001b[0m\u001b[0;34m=\u001b[0m\u001b[0;36m1024\u001b[0m\u001b[0;34m,\u001b[0m \u001b[0mepochs\u001b[0m\u001b[0;34m=\u001b[0m\u001b[0;36m10\u001b[0m\u001b[0;34m,\u001b[0m \u001b[0mvalidation_split\u001b[0m\u001b[0;34m=\u001b[0m\u001b[0;36m0.2\u001b[0m\u001b[0;34m)\u001b[0m\u001b[0;34m\u001b[0m\u001b[0;34m\u001b[0m\u001b[0m\n\u001b[0m",
            "\u001b[0;32m/usr/local/lib/python3.10/dist-packages/keras/src/utils/traceback_utils.py\u001b[0m in \u001b[0;36merror_handler\u001b[0;34m(*args, **kwargs)\u001b[0m\n\u001b[1;32m     68\u001b[0m             \u001b[0;31m# To get the full stack trace, call:\u001b[0m\u001b[0;34m\u001b[0m\u001b[0;34m\u001b[0m\u001b[0m\n\u001b[1;32m     69\u001b[0m             \u001b[0;31m# `tf.debugging.disable_traceback_filtering()`\u001b[0m\u001b[0;34m\u001b[0m\u001b[0;34m\u001b[0m\u001b[0m\n\u001b[0;32m---> 70\u001b[0;31m             \u001b[0;32mraise\u001b[0m \u001b[0me\u001b[0m\u001b[0;34m.\u001b[0m\u001b[0mwith_traceback\u001b[0m\u001b[0;34m(\u001b[0m\u001b[0mfiltered_tb\u001b[0m\u001b[0;34m)\u001b[0m \u001b[0;32mfrom\u001b[0m \u001b[0;32mNone\u001b[0m\u001b[0;34m\u001b[0m\u001b[0;34m\u001b[0m\u001b[0m\n\u001b[0m\u001b[1;32m     71\u001b[0m         \u001b[0;32mfinally\u001b[0m\u001b[0;34m:\u001b[0m\u001b[0;34m\u001b[0m\u001b[0;34m\u001b[0m\u001b[0m\n\u001b[1;32m     72\u001b[0m             \u001b[0;32mdel\u001b[0m \u001b[0mfiltered_tb\u001b[0m\u001b[0;34m\u001b[0m\u001b[0;34m\u001b[0m\u001b[0m\n",
            "\u001b[0;32m/usr/local/lib/python3.10/dist-packages/tensorflow/python/eager/execute.py\u001b[0m in \u001b[0;36mquick_execute\u001b[0;34m(op_name, num_outputs, inputs, attrs, ctx, name)\u001b[0m\n\u001b[1;32m     51\u001b[0m   \u001b[0;32mtry\u001b[0m\u001b[0;34m:\u001b[0m\u001b[0;34m\u001b[0m\u001b[0;34m\u001b[0m\u001b[0m\n\u001b[1;32m     52\u001b[0m     \u001b[0mctx\u001b[0m\u001b[0;34m.\u001b[0m\u001b[0mensure_initialized\u001b[0m\u001b[0;34m(\u001b[0m\u001b[0;34m)\u001b[0m\u001b[0;34m\u001b[0m\u001b[0;34m\u001b[0m\u001b[0m\n\u001b[0;32m---> 53\u001b[0;31m     tensors = pywrap_tfe.TFE_Py_Execute(ctx._handle, device_name, op_name,\n\u001b[0m\u001b[1;32m     54\u001b[0m                                         inputs, attrs, num_outputs)\n\u001b[1;32m     55\u001b[0m   \u001b[0;32mexcept\u001b[0m \u001b[0mcore\u001b[0m\u001b[0;34m.\u001b[0m\u001b[0m_NotOkStatusException\u001b[0m \u001b[0;32mas\u001b[0m \u001b[0me\u001b[0m\u001b[0;34m:\u001b[0m\u001b[0;34m\u001b[0m\u001b[0;34m\u001b[0m\u001b[0m\n",
            "\u001b[0;31mInvalidArgumentError\u001b[0m: Graph execution error:\n\nDetected at node sparse_categorical_crossentropy/SparseSoftmaxCrossEntropyWithLogits/SparseSoftmaxCrossEntropyWithLogits defined at (most recent call last):\n  File \"/usr/lib/python3.10/runpy.py\", line 196, in _run_module_as_main\n\n  File \"/usr/lib/python3.10/runpy.py\", line 86, in _run_code\n\n  File \"/usr/local/lib/python3.10/dist-packages/colab_kernel_launcher.py\", line 37, in <module>\n\n  File \"/usr/local/lib/python3.10/dist-packages/traitlets/config/application.py\", line 992, in launch_instance\n\n  File \"/usr/local/lib/python3.10/dist-packages/ipykernel/kernelapp.py\", line 619, in start\n\n  File \"/usr/local/lib/python3.10/dist-packages/tornado/platform/asyncio.py\", line 195, in start\n\n  File \"/usr/lib/python3.10/asyncio/base_events.py\", line 603, in run_forever\n\n  File \"/usr/lib/python3.10/asyncio/base_events.py\", line 1909, in _run_once\n\n  File \"/usr/lib/python3.10/asyncio/events.py\", line 80, in _run\n\n  File \"/usr/local/lib/python3.10/dist-packages/tornado/ioloop.py\", line 685, in <lambda>\n\n  File \"/usr/local/lib/python3.10/dist-packages/tornado/ioloop.py\", line 738, in _run_callback\n\n  File \"/usr/local/lib/python3.10/dist-packages/tornado/gen.py\", line 825, in inner\n\n  File \"/usr/local/lib/python3.10/dist-packages/tornado/gen.py\", line 786, in run\n\n  File \"/usr/local/lib/python3.10/dist-packages/ipykernel/kernelbase.py\", line 361, in process_one\n\n  File \"/usr/local/lib/python3.10/dist-packages/tornado/gen.py\", line 234, in wrapper\n\n  File \"/usr/local/lib/python3.10/dist-packages/ipykernel/kernelbase.py\", line 261, in dispatch_shell\n\n  File \"/usr/local/lib/python3.10/dist-packages/tornado/gen.py\", line 234, in wrapper\n\n  File \"/usr/local/lib/python3.10/dist-packages/ipykernel/kernelbase.py\", line 539, in execute_request\n\n  File \"/usr/local/lib/python3.10/dist-packages/tornado/gen.py\", line 234, in wrapper\n\n  File \"/usr/local/lib/python3.10/dist-packages/ipykernel/ipkernel.py\", line 302, in do_execute\n\n  File \"/usr/local/lib/python3.10/dist-packages/ipykernel/zmqshell.py\", line 539, in run_cell\n\n  File \"/usr/local/lib/python3.10/dist-packages/IPython/core/interactiveshell.py\", line 2975, in run_cell\n\n  File \"/usr/local/lib/python3.10/dist-packages/IPython/core/interactiveshell.py\", line 3030, in _run_cell\n\n  File \"/usr/local/lib/python3.10/dist-packages/IPython/core/async_helpers.py\", line 78, in _pseudo_sync_runner\n\n  File \"/usr/local/lib/python3.10/dist-packages/IPython/core/interactiveshell.py\", line 3257, in run_cell_async\n\n  File \"/usr/local/lib/python3.10/dist-packages/IPython/core/interactiveshell.py\", line 3473, in run_ast_nodes\n\n  File \"/usr/local/lib/python3.10/dist-packages/IPython/core/interactiveshell.py\", line 3553, in run_code\n\n  File \"<ipython-input-13-588359f73acb>\", line 31, in <cell line: 31>\n\n  File \"/usr/local/lib/python3.10/dist-packages/keras/src/utils/traceback_utils.py\", line 65, in error_handler\n\n  File \"/usr/local/lib/python3.10/dist-packages/keras/src/engine/training.py\", line 1856, in fit\n\n  File \"/usr/local/lib/python3.10/dist-packages/keras/src/utils/traceback_utils.py\", line 65, in error_handler\n\n  File \"/usr/local/lib/python3.10/dist-packages/keras/src/engine/training.py\", line 2296, in evaluate\n\n  File \"/usr/local/lib/python3.10/dist-packages/keras/src/engine/training.py\", line 4108, in run_step\n\n  File \"/usr/local/lib/python3.10/dist-packages/keras/src/engine/training.py\", line 2066, in test_function\n\n  File \"/usr/local/lib/python3.10/dist-packages/keras/src/engine/training.py\", line 2049, in step_function\n\n  File \"/usr/local/lib/python3.10/dist-packages/keras/src/engine/training.py\", line 2037, in run_step\n\n  File \"/usr/local/lib/python3.10/dist-packages/keras/src/engine/training.py\", line 1919, in test_step\n\n  File \"/usr/local/lib/python3.10/dist-packages/keras/src/engine/training.py\", line 1209, in compute_loss\n\n  File \"/usr/local/lib/python3.10/dist-packages/keras/src/engine/compile_utils.py\", line 277, in __call__\n\n  File \"/usr/local/lib/python3.10/dist-packages/keras/src/losses.py\", line 143, in __call__\n\n  File \"/usr/local/lib/python3.10/dist-packages/keras/src/losses.py\", line 270, in call\n\n  File \"/usr/local/lib/python3.10/dist-packages/keras/src/losses.py\", line 2454, in sparse_categorical_crossentropy\n\n  File \"/usr/local/lib/python3.10/dist-packages/keras/src/backend.py\", line 5775, in sparse_categorical_crossentropy\n\nReceived a label value of 344 which is outside the valid range of [0, 344).  Label values: 7 88 1 64 16 13 14 5 7 83 1 40 13 14 0 0 0 0 0 0 0 11 30 1 67 15 25 22 47 6 3 1 58 69 2 56 0 0 0 0 0 0 62 1 92 2 41 5 3 1 9 21 26 11 24 0 0 0 0 0 0 0 0 7 33 1 9 7 102 2 51 5 3 1 18 2 45 0 0 0 0 0 0 0 29 1 65 37 11 44 6 3 1 9 21 2 52 0 0 0 0 0 0 0 0 10 38 1 20 16 17 13 5 10 82 1 20 13 17 0 0 0 0 0 0 0 36 1 12 67 37 11 46 5 3 1 18 2 44 0 0 0 0 0 0 0 0 27 145 7 97 134 154 0 0 0 0 0 0 0 0 0 0 0 0 0 0 0 3 113 115 184 110 176 0 0 0 0 0 0 0 0 0 0 0 0 0 0 0 3 94 4 28 4 73 6 4 78 0 0 0 0 0 0 0 0 0 0 0 0 11 30 1 19 15 25 79 56 5 3 1 68 2 41 0 0 0 0 0 0 0 3 55 4 72 4 28 76 6 4 28 0 0 0 0 0 0 0 0 0 0 0 3 55 4 78 4 74 6 4 73 0 0 0 0 0 0 0 0 0 0 0 0 3 55 4 28 4 70 6 4 72 0 0 0 0 0 0 0 0 0 0 0 0 11 30 1 12 57 15 25 22 45 6 3 1 12 18 2 47 0 0 0 0 0 4 32 31 1 8 68 15 25 22 47 5 3 1 8 21 2 41 0 0 0 0 10 82 1 61 16 17 5 7 86 1 40 93 0 0 0 0 0 0 0 0 0 10 85 1 20 16 17 13 5 7 83 1 61 13 17 0 0 0 0 0 0 0 10 38 1 40 16 17 5 7 89 1 39 17 0 0 0 0 0 0 0 0 0 62 1 12 63 2 41 5 3 1 8 60 26 11 24 0 0 0 0 0 0 0 99 124 4 70 4 73 6 28 76 0 0 0 0 0 0 0 0 0 0 0 0 7 89 1 39 16 13 14 5 7 90 27 1 13 14 0 0 0 0 0 0 0 10 85 1 39 13 14 108 96 5 10 82 1 20 13 14 0 0 0 0 0 0 36 1 8 18 2 43 5 3 1 12 66 2 48 0 0 0 0 0 0 0 0 20 13 16 17 1 7 88 5 39 17 13 1 10 82 0 0 0 0 0 0 0 20 16 10 23 14 1 10 85 5 61 23 14 1 7 90 0 0 0 0 0 0 35 34 1 8 19 2 43 5 3 1 8 18 2 49 0 0 0 0 0 0 0 4 32 31 1 9 57 37 11 46 5 3 1 18 2 41 0 0 0 0 0 0 36 1...\n\t [[{{node sparse_categorical_crossentropy/SparseSoftmaxCrossEntropyWithLogits/SparseSoftmaxCrossEntropyWithLogits}}]] [Op:__inference_test_function_4371]"
          ]
        }
      ]
    },
    {
      "cell_type": "code",
      "source": [
        "# Print prediction(s)\n",
        "print(\"Prediciton:\")\n",
        "print(logits_to_text(simple_rnn_model.predict(tmp_x[:1])[0], french_tokenizer))\n",
        "\n",
        "print(\"\\nCorrect Translation:\")\n",
        "print(french_sentences[:1])\n",
        "\n",
        "print('\\nOriginal text:')\n",
        "print(english_sentences[:1])"
      ],
      "metadata": {
        "id": "Czz28TgdI-yF",
        "colab": {
          "base_uri": "https://localhost:8080/"
        },
        "outputId": "9e312adf-c79c-453b-e01b-0ce90bb1acc2"
      },
      "execution_count": 14,
      "outputs": [
        {
          "output_type": "stream",
          "name": "stdout",
          "text": [
            "Prediciton:\n",
            "1/1 [==============================] - 0s 481ms/step\n",
            "paris jersey est parfois chaud en l' et il est il en en <PAD> <PAD> <PAD> <PAD> <PAD> <PAD> <PAD> <PAD>\n",
            "\n",
            "Correct Translation:\n",
            "[\"new jersey est parfois calme pendant l' automne , et il est neigeux en avril .\"]\n",
            "\n",
            "Original text:\n",
            "['new jersey is sometimes quiet during autumn , and it is snowy in april .']\n"
          ]
        }
      ]
    },
    {
      "cell_type": "code",
      "source": [
        "#Language Detection and Translation using pretrained Transformer models:\n",
        "#Loading the Datasets:\n",
        "def load_data(path):\n",
        "    input_file = path\n",
        "    with open(input_file, \"r\") as f:\n",
        "        data = f.read()\n",
        "    return data.split('\\n')\n",
        "\n",
        "english_sentences = load_data('/content/drive/MyDrive/english.txt')\n",
        "french_sentences = load_data('/content/drive/MyDrive/french.txt')\n",
        "italian_sentences = load_data('/content/drive/MyDrive/Italian.txt')\n",
        "arabic_sentences = load_data('/content/drive/MyDrive/Arabic.txt')\n",
        "spanish_sentences = load_data('/content/drive/MyDrive/spanish.txt')\n",
        "german_sentences = load_data('/content/drive/MyDrive/German.txt')\n",
        "russian_sentences = load_data('/content/drive/MyDrive/Russian.txt')\n",
        "chinese_sentences = load_data('/content/drive/MyDrive/chinese.txt')"
      ],
      "metadata": {
        "id": "hcI3V3z-w4rS"
      },
      "execution_count": 15,
      "outputs": []
    },
    {
      "cell_type": "code",
      "source": [
        "english_sentences[:5]"
      ],
      "metadata": {
        "colab": {
          "base_uri": "https://localhost:8080/"
        },
        "id": "oKEC2Ix87qL3",
        "outputId": "b9f33f99-9ea6-4a4d-b13c-645ebfd0dffa"
      },
      "execution_count": 16,
      "outputs": [
        {
          "output_type": "execute_result",
          "data": {
            "text/plain": [
              "['new jersey is sometimes quiet during autumn , and it is snowy in april .',\n",
              " 'the united states is usually chilly during july , and it is usually freezing in november .',\n",
              " 'california is usually quiet during march , and it is usually hot in june .',\n",
              " 'the united states is sometimes mild during june , and it is cold in september .',\n",
              " 'your least liked fruit is the grape , but my least liked is the apple .']"
            ]
          },
          "metadata": {},
          "execution_count": 16
        }
      ]
    },
    {
      "cell_type": "code",
      "source": [
        "french_sentences[:5]"
      ],
      "metadata": {
        "colab": {
          "base_uri": "https://localhost:8080/"
        },
        "id": "lJh-GV_2A-Ep",
        "outputId": "4cddab84-6be1-4857-ea34-eb7d576acfd0"
      },
      "execution_count": 17,
      "outputs": [
        {
          "output_type": "execute_result",
          "data": {
            "text/plain": [
              "[\"new jersey est parfois calme pendant l' automne , et il est neigeux en avril .\",\n",
              " 'les états-unis est généralement froid en juillet , et il gèle habituellement en novembre .',\n",
              " 'california est généralement calme en mars , et il est généralement chaud en juin .',\n",
              " 'les états-unis est parfois légère en juin , et il fait froid en septembre .',\n",
              " 'votre moins aimé fruit est le raisin , mais mon moins aimé est la pomme .']"
            ]
          },
          "metadata": {},
          "execution_count": 17
        }
      ]
    },
    {
      "cell_type": "code",
      "source": [
        "italian_sentences[:5]"
      ],
      "metadata": {
        "colab": {
          "base_uri": "https://localhost:8080/"
        },
        "id": "aqF-D2GXBD0i",
        "outputId": "b286c2e2-8abf-4597-95a5-b3f12ca025e0"
      },
      "execution_count": 18,
      "outputs": [
        {
          "output_type": "execute_result",
          "data": {
            "text/plain": [
              "['- Una donna sta affettando della carne.',\n",
              " \"- L'India e il Pakistan rimangono fuori dal trattato.\",\n",
              " \"- L'Egitto impone lo stato di emergenza dopo 95 persone uccise\",\n",
              " '- Un animale marrone peloso sta dietro ad alcune piante.',\n",
              " '- Due ragazze brune si siedono in cima a una motocicletta rossa e una gialla con un sidecar.']"
            ]
          },
          "metadata": {},
          "execution_count": 18
        }
      ]
    },
    {
      "cell_type": "code",
      "source": [
        "arabic_sentences[:5]"
      ],
      "metadata": {
        "colab": {
          "base_uri": "https://localhost:8080/"
        },
        "id": "BjnJA_w0BJzY",
        "outputId": "d7138150-545b-4fed-b02f-acd949d9dac9"
      },
      "execution_count": 19,
      "outputs": [
        {
          "output_type": "execute_result",
          "data": {
            "text/plain": [
              "['- نعم , هذا صحيح نعم اعتقد ان هناك خطوات كبيرة يتم صنعها في الوقت الحاضر في رعاية المسنين الذين تعرفهم في العديد من المناطق',\n",
              " '- تمارس من قبل بضعة , ربما اكثر حساسية , الاعضاء .',\n",
              " '- حتى اجد اخر رابط في يا , يجب ان ابقى خلف الكواليس .',\n",
              " '- ( اذا كنت تشك في هذا , اقرا كتاب ( مات ريدلي الجديد الممتاز , اصول الفضيلة . وهذا سبب واحد من اسباب اتساع نطاق النشاط الاقتصادي بشكل اساسي من قوة الطبيعة -- ويمكن ان يسترشد , ويمكن ان يتباطا , ولكن لا يمكن ان يتوقف بشكل واقعي .',\n",
              " '- من غير المحتمل']"
            ]
          },
          "metadata": {},
          "execution_count": 19
        }
      ]
    },
    {
      "cell_type": "code",
      "source": [
        "spanish_sentences[:5]"
      ],
      "metadata": {
        "colab": {
          "base_uri": "https://localhost:8080/"
        },
        "id": "DchAsVPSBQPU",
        "outputId": "291e14d5-db3b-4eab-9560-04d5ffe0a482"
      },
      "execution_count": 20,
      "outputs": [
        {
          "output_type": "execute_result",
          "data": {
            "text/plain": [
              "['- Me encanta la funda, es muy robusta y suave por dentro. Protege el Kindle a la perfección y estéticamente es como en la foto.',\n",
              " '- Compré otros modelos y llegaron muy bien,espero que este también llegue,aunque está tardando confio en que llegará,compro bastante en amazon y siempre todo está bien.',\n",
              " '- Nunca me ha llegado. Y no pueden devolver me el dinero hasta que el repartidor no venga a entregar me el pedido y poder devolver se lo, si es que el repartidor lo acepta la devolución.',\n",
              " '- Se nota que no es original pero vale. Tal cual se ve en la foto. El iman va bastante bien y no pierdes la correa',\n",
              " '- Ha llegado deformada por completo. Por favor en envien las gorras en casa rígidas']"
            ]
          },
          "metadata": {},
          "execution_count": 20
        }
      ]
    },
    {
      "cell_type": "code",
      "source": [
        "german_sentences[:5]"
      ],
      "metadata": {
        "colab": {
          "base_uri": "https://localhost:8080/"
        },
        "id": "jv8o1RFmBVes",
        "outputId": "961c5d95-b4e2-4e17-d372-c02ab57ad3c1"
      },
      "execution_count": 21,
      "outputs": [
        {
          "output_type": "execute_result",
          "data": {
            "text/plain": [
              "['- Alles in allem ein super schönes Teil, deshalb die 2 Sterne! Denn: Voice Control?! Nein, ein absoluter Witz. Die reagiert nämlich nur bedingt und wenn sie gerade meint. Sprachbefehle sind, egal wie man sie ausspricht, ein Glückstreffer. Meine Freundin sagte z.B. zu mir- naja ist eben ein Weib. Daraufhin schaltete sich der Akkuträger aus bzw fragte ob ich mir sicher bin ob ich ihn ausmachen möchte.... Zusätzlich kam das Teil bei mir mit kaputtem Glastank an. Da Amazon nicht selbst der Verkäufer ist, gibt es nur die Option der Rücksendung. Schade, denn das Gerät sieht super aus und liegt schön in der Hand. Allerdings ist eben die Sprachsteuerung eine Katastrophe. Bin echt enttäuscht...',\n",
              " '- Einer Freundin Geschenk da sie Flugbegleiterin ist und es gepasst hat. Allerdings hat der Anhänger nach 4-5 Wochen angefangen an den Ecken und Kanten braun zu wirken',\n",
              " '- Leider funktioniert der gelieferte Lichtstreifen nicht ohne Fehler. Nach 15 Minuten Betrieb fielen zwei LED Segmente aus. Die angesteuerte Farbe Rot, bleibt in diesen Segmenten aus. Auch bei hellem Blau/Weiss, sind diese Segmente eher gelb/grün.',\n",
              " '- Die Armbänder sind preislich natürlich echt super aber leider sind sie sehr schnell abgenutzt. Weiß war nach 2 Tagen so dreckig das ich versucht habe es zu putzen, jegliche versuche sind gescheitert. Man kann das nicht putzen. Die Anschlüsse passen wirklich Top und die Bänder sind super leicht beim tragen daher 2 Sterne.',\n",
              " '- Ganz schlechte Qualität. Das Holz ist rauh, verzogen und die Löcher schlecht gebohrt.']"
            ]
          },
          "metadata": {},
          "execution_count": 21
        }
      ]
    },
    {
      "cell_type": "code",
      "source": [
        "russian_sentences[:5]"
      ],
      "metadata": {
        "colab": {
          "base_uri": "https://localhost:8080/"
        },
        "id": "1EkFdgStBa10",
        "outputId": "9795d5a5-e329-47a6-e970-d8d9f106456b"
      },
      "execution_count": 22,
      "outputs": [
        {
          "output_type": "execute_result",
          "data": {
            "text/plain": [
              "['- Он увеличил давление .',\n",
              " '- Эти инструменты приведены вместе в mantinada songs с рифм тахикардия текстов .',\n",
              " '- Здесь нет центральной телефонной книги для всех адресов электронной почты .',\n",
              " '- Больно ходить . \"',\n",
              " '- Визит в замок должен занять не менее двух часов , но многие люди проводят там много времени .']"
            ]
          },
          "metadata": {},
          "execution_count": 22
        }
      ]
    },
    {
      "cell_type": "code",
      "source": [
        "chinese_sentences[:5]"
      ],
      "metadata": {
        "colab": {
          "base_uri": "https://localhost:8080/"
        },
        "id": "7Wrg280YByjt",
        "outputId": "c7cadce1-38d9-4961-9384-739df76119b7"
      },
      "execution_count": 23,
      "outputs": [
        {
          "output_type": "execute_result",
          "data": {
            "text/plain": [
              "['- 很好，以前从不去评价，不知道浪费了多少积分，现在知道积分可以换钱，就要好好评价了，后来我就把这段话复制走了，既能赚积分，还省事，走到哪复制到哪，最重要的是，不用认真的评论了，不用想还差多少字，直接发出就可以了，推荐给大家！！',\n",
              " '- 只能闲来翻翻 不是太系统 更像是一些传说故事 你杀我我杀你',\n",
              " '- 这双鞋居然一点都不防水，今天下雨，就在马路上走了十几分钟，鞋尖里面就漏了，这算是质量问题吗？唉，以后还是专柜去买吧。',\n",
              " '- 有句话说，懂得很多道理，但是仍然过不好这一生。那可能是因为道理还没有说到点子上，或者阐释不够透彻，或者不具备可操作性。但是这本书很多地方都很有启发性，是“老俞道理”的一个集合，也就是如何在对的时间做对的事，这也是所有成功人士的共同具备的素质。俞敏洪从30岁创业，到现在新东方在全国遍地开花，50多岁他又开始二次创业，不仅总是能在对的时间做对的事，还一直在关心支持年轻人。这本书里，从提升幸福感，到制定人生目标；从读书旅行，到合伙创业，其实老俞始终讲的都是“如何过好这一生”的问题，解答每个年轻人在成长阶段中必经的困惑。大学生、职场新鲜人和有过若干社会经验的年轻人，都应该读读这本书，会有不一样的收获',\n",
              " '- 减震很不错。外观没有色差，但是比我想像的白，经常穿户外的话，恐怕很容易脏。鞋底很软，但是也有点滑，下雨天可能不适合穿出去。鞋带有点短。其他都还不错。']"
            ]
          },
          "metadata": {},
          "execution_count": 23
        }
      ]
    },
    {
      "cell_type": "code",
      "source": [
        "!pip install transformers"
      ],
      "metadata": {
        "colab": {
          "base_uri": "https://localhost:8080/"
        },
        "id": "owmimwfuDeIK",
        "outputId": "acb1d2df-9978-4eef-99ac-b08d8301652b"
      },
      "execution_count": 29,
      "outputs": [
        {
          "output_type": "stream",
          "name": "stdout",
          "text": [
            "Requirement already satisfied: transformers in /usr/local/lib/python3.10/dist-packages (4.38.2)\n",
            "Requirement already satisfied: filelock in /usr/local/lib/python3.10/dist-packages (from transformers) (3.13.1)\n",
            "Requirement already satisfied: huggingface-hub<1.0,>=0.19.3 in /usr/local/lib/python3.10/dist-packages (from transformers) (0.20.3)\n",
            "Requirement already satisfied: numpy>=1.17 in /usr/local/lib/python3.10/dist-packages (from transformers) (1.25.2)\n",
            "Requirement already satisfied: packaging>=20.0 in /usr/local/lib/python3.10/dist-packages (from transformers) (24.0)\n",
            "Requirement already satisfied: pyyaml>=5.1 in /usr/local/lib/python3.10/dist-packages (from transformers) (6.0.1)\n",
            "Requirement already satisfied: regex!=2019.12.17 in /usr/local/lib/python3.10/dist-packages (from transformers) (2023.12.25)\n",
            "Requirement already satisfied: requests in /usr/local/lib/python3.10/dist-packages (from transformers) (2.31.0)\n",
            "Requirement already satisfied: tokenizers<0.19,>=0.14 in /usr/local/lib/python3.10/dist-packages (from transformers) (0.15.2)\n",
            "Requirement already satisfied: safetensors>=0.4.1 in /usr/local/lib/python3.10/dist-packages (from transformers) (0.4.2)\n",
            "Requirement already satisfied: tqdm>=4.27 in /usr/local/lib/python3.10/dist-packages (from transformers) (4.66.2)\n",
            "Requirement already satisfied: fsspec>=2023.5.0 in /usr/local/lib/python3.10/dist-packages (from huggingface-hub<1.0,>=0.19.3->transformers) (2023.6.0)\n",
            "Requirement already satisfied: typing-extensions>=3.7.4.3 in /usr/local/lib/python3.10/dist-packages (from huggingface-hub<1.0,>=0.19.3->transformers) (4.10.0)\n",
            "Requirement already satisfied: charset-normalizer<4,>=2 in /usr/local/lib/python3.10/dist-packages (from requests->transformers) (3.3.2)\n",
            "Requirement already satisfied: idna<4,>=2.5 in /usr/local/lib/python3.10/dist-packages (from requests->transformers) (3.6)\n",
            "Requirement already satisfied: urllib3<3,>=1.21.1 in /usr/local/lib/python3.10/dist-packages (from requests->transformers) (2.0.7)\n",
            "Requirement already satisfied: certifi>=2017.4.17 in /usr/local/lib/python3.10/dist-packages (from requests->transformers) (2024.2.2)\n"
          ]
        }
      ]
    },
    {
      "cell_type": "code",
      "source": [
        "import transformers"
      ],
      "metadata": {
        "id": "OPgvlMdwDmAR"
      },
      "execution_count": 30,
      "outputs": []
    },
    {
      "cell_type": "code",
      "source": [
        "#1.Language Detection using transformer model\n",
        "from transformers import pipeline\n",
        "\n",
        "text = [\n",
        "        \"new jersey is sometimes quiet during autumn , and it is snowy in april \"\n",
        "\n",
        "       ]\n",
        "\n",
        "model_ckpt = \"papluca/xlm-roberta-base-language-detection\"\n",
        "pipe = pipeline(\"text-classification\", model=model_ckpt)\n",
        "pipe(text, top_k=1, truncation=True)"
      ],
      "metadata": {
        "colab": {
          "base_uri": "https://localhost:8080/"
        },
        "id": "_IsbD3GbOgXt",
        "outputId": "31e04e4d-fcc4-4bee-9463-f8dff5df3eac"
      },
      "execution_count": 72,
      "outputs": [
        {
          "output_type": "execute_result",
          "data": {
            "text/plain": [
              "[[{'label': 'en', 'score': 0.9424175024032593}]]"
            ]
          },
          "metadata": {},
          "execution_count": 72
        }
      ]
    },
    {
      "cell_type": "code",
      "source": [
        "#2.Language Translation using Transformer model\n",
        "def get_translation_model_and_tokenizer(src_lang, dst_lang):\n",
        "\n",
        "  # construct our model name\n",
        "  model_name = f\"Helsinki-NLP/opus-mt-{src}-{dst}\"\n",
        "  # initialize the tokenizer & model\n",
        "  from transformers import AutoTokenizer, AutoModelForSeq2SeqLM\n",
        "  tokenizer = AutoTokenizer.from_pretrained(f\"Helsinki-NLP/opus-mt-{src}-{dst}\")\n",
        "  model = AutoModelForSeq2SeqLM.from_pretrained(f\"Helsinki-NLP/opus-mt-{src}-{dst}\")\n",
        "  # return them for use\n",
        "  return model, tokenizer\n",
        "\n"
      ],
      "metadata": {
        "id": "8tuQYHWCH7U5"
      },
      "execution_count": 42,
      "outputs": []
    },
    {
      "cell_type": "code",
      "source": [
        "# source & destination languages\n",
        "src = \"en\"\n",
        "dst = \"fr\"\n",
        "\n",
        "model, tokenizer = get_translation_model_and_tokenizer(src, dst)"
      ],
      "metadata": {
        "colab": {
          "base_uri": "https://localhost:8080/",
          "height": 297,
          "referenced_widgets": [
            "64fa5758070b46c6b5c4c8dbe86c22bc",
            "377aab5a9d9149b283b5df30acf670ae",
            "295b69e6cbe740dba9f8213fbacb4edc",
            "de053845ad1c45a49ab86f24b89d9ab5",
            "bc670ad3fa184739be5d52e6167c880a",
            "8a61f17582034578b79128994a4ec35f",
            "a817f55891b545b2949d16f4d38d2a37",
            "2013c9337b47439fa758bfac673defa6",
            "7f6254b128a34336aca31e8efe496edf",
            "53af40a456404ddf96e56a0a0513846e",
            "e81f21030f2241e69cd8940533eb856c",
            "912d8db7b70a4255be4f9046e5b932f8",
            "0ee4afa91c894768b7544d521cd5bae4",
            "5440a7d15de0466c8661c3957db6643a",
            "ef186f0df4124a98b7ed557ca0e5f5e4",
            "912c8db12db64cce81963f15f6cf8afc",
            "dc7f6a4eb6ca4399a5e9c6e366a2be32",
            "04ca4fdab2fd400ab5bd834358ad5867",
            "9b7bf76eede24e14b76b5d3517cbadde",
            "bd05a51c8b9d4d5dbdb2b36a978d55f5",
            "f8c9ff5295de4fd0b6c43f9513ca4bf9",
            "37214ebc99484f4b8fff5c6ffc579cda",
            "daeceffb07f94cecade3ab770620d516",
            "78edf713be24492aa957652a4fd29a7b",
            "74a6247d05924742b9a402115c94af07",
            "880dec6b06df44c6bdf4ade9b274cbeb",
            "6c5c78e83f754502b15eeca63fbcb2af",
            "091dc47f83a24ba68dd5244f668459e7",
            "a83d02d856784e02af7814646bd14091",
            "692c94e9a306457da1b271d8a32cd11d",
            "07b955d7c7614c59a6ec9728b06c7681",
            "ba717b5705d5498698ae48d415cb81f0",
            "2cd62c50c5384dec9d28bc3d408ba596",
            "e76bbaf1a3934a9f9f642836868a8fb8",
            "b19db03255c842f4958662c0e8229924",
            "e090a5b308d04d828f63511fe32219f3",
            "dd912736cd1643e4a645b3334a0687d4",
            "a109a7660b2547ceaae0673bad060588",
            "d6ed4f72c51441cc86b185358005b04c",
            "2fead70e9d374577ad716ec4d4125945",
            "c75c9013807e4c69b2975cab8f5a357e",
            "2152d99cb30b46c8bf1109258ac27875",
            "9c54a9387ac44723b99a71e45004fbbe",
            "9e77ab6d47074aa0a3f4beaacf61812f",
            "63135c1f00554a6392dd4816598c1b54",
            "3f8d065fa30a47c8926622d790a9567e",
            "e99961a2a5dd4a8f9b828ee815e28d58",
            "7b98115d0a5a401b80e7c4d123dccf7c",
            "ef22f67cbfff4584b2437ed980d075a2",
            "609c6ffd801049358b1ec3171d80e963",
            "adde6322fec54e8d8e6d3233b83a1f90",
            "c4346bafc93948b0970510aac4dd0232",
            "a9fee073c60a489fb510150e85a40480",
            "ff2759d451bf48fe910080e39284282d",
            "42f83e57ba654c05bd4ea7eebdeb803a",
            "40e272690f03408dab0fb8447ec41f0c",
            "0344a3337ab74598a3520fa0eeabdd24",
            "fd0128845acf472c9a2a2f8be6bea74b",
            "303738856f4548e49d7a08eb2ebe10af",
            "f62436843cad4100877356c59bd863bb",
            "cbced0ec4d6f4472b064c9b672d24c5a",
            "d3c9b9f92e104d92b8592a3594197281",
            "81edde3b44e74fa5bcabf559b9329a11",
            "d929c28a98e344b6a1b98e9b9eec5e6d",
            "97911d0efebd4271872d1dd6a9a561a3",
            "c62e7b0666a94444813f6b7e7f628755",
            "59f20f18c3ee4ec7ad42e298379fa3b0",
            "1070178151c54a5583b444c400d1bcd2",
            "1f893a847fa24ed5b83244bc8e042d0f",
            "6a42a62116504cc5bf30bc0f080ae981",
            "0c805bc9c6cc4452a30ecb1feca93b0c",
            "ff90211f367a45e38cb3fe0b53f8498e",
            "c449847052004ea796b3f46bc27799b6",
            "b5b5b2c3990b435ba0d5234f0991b0d2",
            "7d79d162d8024de5897b9cc0a92a3637",
            "31a04931f36740f189a3d63b6ee88995",
            "bb31553802d5415db1dfe06b073d49f0"
          ]
        },
        "id": "fphwHaP58l_t",
        "outputId": "333fc783-f402-4b59-f408-a029d5c45074"
      },
      "execution_count": 43,
      "outputs": [
        {
          "output_type": "display_data",
          "data": {
            "text/plain": [
              "tokenizer_config.json:   0%|          | 0.00/42.0 [00:00<?, ?B/s]"
            ],
            "application/vnd.jupyter.widget-view+json": {
              "version_major": 2,
              "version_minor": 0,
              "model_id": "64fa5758070b46c6b5c4c8dbe86c22bc"
            }
          },
          "metadata": {}
        },
        {
          "output_type": "display_data",
          "data": {
            "text/plain": [
              "config.json:   0%|          | 0.00/1.42k [00:00<?, ?B/s]"
            ],
            "application/vnd.jupyter.widget-view+json": {
              "version_major": 2,
              "version_minor": 0,
              "model_id": "912d8db7b70a4255be4f9046e5b932f8"
            }
          },
          "metadata": {}
        },
        {
          "output_type": "display_data",
          "data": {
            "text/plain": [
              "source.spm:   0%|          | 0.00/778k [00:00<?, ?B/s]"
            ],
            "application/vnd.jupyter.widget-view+json": {
              "version_major": 2,
              "version_minor": 0,
              "model_id": "daeceffb07f94cecade3ab770620d516"
            }
          },
          "metadata": {}
        },
        {
          "output_type": "display_data",
          "data": {
            "text/plain": [
              "target.spm:   0%|          | 0.00/802k [00:00<?, ?B/s]"
            ],
            "application/vnd.jupyter.widget-view+json": {
              "version_major": 2,
              "version_minor": 0,
              "model_id": "e76bbaf1a3934a9f9f642836868a8fb8"
            }
          },
          "metadata": {}
        },
        {
          "output_type": "display_data",
          "data": {
            "text/plain": [
              "vocab.json:   0%|          | 0.00/1.34M [00:00<?, ?B/s]"
            ],
            "application/vnd.jupyter.widget-view+json": {
              "version_major": 2,
              "version_minor": 0,
              "model_id": "63135c1f00554a6392dd4816598c1b54"
            }
          },
          "metadata": {}
        },
        {
          "output_type": "stream",
          "name": "stderr",
          "text": [
            "/usr/local/lib/python3.10/dist-packages/transformers/models/marian/tokenization_marian.py:197: UserWarning: Recommended: pip install sacremoses.\n",
            "  warnings.warn(\"Recommended: pip install sacremoses.\")\n"
          ]
        },
        {
          "output_type": "display_data",
          "data": {
            "text/plain": [
              "pytorch_model.bin:   0%|          | 0.00/301M [00:00<?, ?B/s]"
            ],
            "application/vnd.jupyter.widget-view+json": {
              "version_major": 2,
              "version_minor": 0,
              "model_id": "40e272690f03408dab0fb8447ec41f0c"
            }
          },
          "metadata": {}
        },
        {
          "output_type": "display_data",
          "data": {
            "text/plain": [
              "generation_config.json:   0%|          | 0.00/293 [00:00<?, ?B/s]"
            ],
            "application/vnd.jupyter.widget-view+json": {
              "version_major": 2,
              "version_minor": 0,
              "model_id": "59f20f18c3ee4ec7ad42e298379fa3b0"
            }
          },
          "metadata": {}
        }
      ]
    },
    {
      "cell_type": "code",
      "source": [
        "from transformers import MarianTokenizer"
      ],
      "metadata": {
        "id": "52ZnLY4gIlC-"
      },
      "execution_count": 66,
      "outputs": []
    },
    {
      "cell_type": "code",
      "source": [
        "tokenizer = MarianTokenizer.from_pretrained(f\"Helsinki-NLP/opus-mt-{src}-{dst}\")"
      ],
      "metadata": {
        "id": "xJrie6SWL94C"
      },
      "execution_count": 67,
      "outputs": []
    },
    {
      "cell_type": "code",
      "source": [
        "article = \"New Jersey is sometimes quiet during autumn, and it is snowy in April.\""
      ],
      "metadata": {
        "id": "M5xbyXidMRKq"
      },
      "execution_count": 68,
      "outputs": []
    },
    {
      "cell_type": "code",
      "source": [
        "# encode the text into tensor of integers using the appropriate tokenizer\n",
        "inputs = tokenizer.encode(article, return_tensors=\"pt\", max_length=512, truncation=True)\n",
        "print(inputs)"
      ],
      "metadata": {
        "colab": {
          "base_uri": "https://localhost:8080/"
        },
        "id": "M_71uTB281da",
        "outputId": "9a589325-1935-4ced-b5b6-a6eb996e1521"
      },
      "execution_count": 69,
      "outputs": [
        {
          "output_type": "stream",
          "name": "stdout",
          "text": [
            "tensor([[  596, 24258,    32,  4835,  9113,   475, 19743,     2,    10,    61,\n",
            "            32, 10223,   133,    18,  1216,     3,     0]])\n"
          ]
        }
      ]
    },
    {
      "cell_type": "code",
      "source": [
        "# generate the translation output using greedy search\n",
        "greedy_outputs = model.generate(inputs)\n",
        "# decode the output and ignore special tokens\n",
        "print(tokenizer.decode(greedy_outputs[0], skip_special_tokens=True))"
      ],
      "metadata": {
        "colab": {
          "base_uri": "https://localhost:8080/"
        },
        "id": "qOAgo43B9MQO",
        "outputId": "b617abf5-4eda-4956-c59f-9679222d0684"
      },
      "execution_count": 70,
      "outputs": [
        {
          "output_type": "stream",
          "name": "stdout",
          "text": [
            "Le New Jersey est parfois calme en automne, et il neige en avril.\n"
          ]
        }
      ]
    },
    {
      "cell_type": "code",
      "source": [
        "# generate the translation output using beam search\n",
        "beam_outputs = model.generate(inputs, num_beams=3)\n",
        "# decode the output and ignore special tokens\n",
        "print(tokenizer.decode(beam_outputs[0], skip_special_tokens=True))"
      ],
      "metadata": {
        "colab": {
          "base_uri": "https://localhost:8080/"
        },
        "id": "8yGtSbLN9Olm",
        "outputId": "e6b6612a-9fb2-4c0a-c1b0-e1e18bec9308"
      },
      "execution_count": 71,
      "outputs": [
        {
          "output_type": "stream",
          "name": "stdout",
          "text": [
            "Le New Jersey est parfois calme en automne, et il neige en avril.\n"
          ]
        }
      ]
    }
  ]
}